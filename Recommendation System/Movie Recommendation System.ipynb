{
 "cells": [
  {
   "cell_type": "markdown",
   "id": "ba82d79f-5203-48e5-a0cd-e241ccbf46db",
   "metadata": {},
   "source": [
    "**<div align='center'><font size=\"5\" color='#353B47'>Movie Recommendation System</font></div>**\n",
    "<br>\n",
    "<hr>\n"
   ]
  },
  {
   "cell_type": "markdown",
   "id": "2fe71b89-2099-442f-a4c4-36bc89c61294",
   "metadata": {},
   "source": [
    "**<font color=\"blue\" size=\"5\">About Dataset</font>**"
   ]
  },
  {
   "cell_type": "markdown",
   "id": "6bc32eaa-3de0-4f03-99b7-f1bfea49497e",
   "metadata": {},
   "source": [
    "**<font color=\"blue\" size=\"4\">Context</font>**  \n",
    "These files contain metadata for all 45,000 movies listed in the Full MovieLens Dataset. The dataset consists of movies released on or before July 2017. Data points include cast, crew, plot keywords, budget, revenue, posters, release dates, languages, production companies, countries, TMDB vote counts and vote averages.\n",
    "\n",
    "This dataset also has files containing 26 million ratings from 270,000 users for all 45,000 movies. Ratings are on a scale of 1-5 and have been obtained from the official GroupLens website.\n"
   ]
  },
  {
   "cell_type": "markdown",
   "id": "4fca2e47-d5fd-4f22-85ae-0c1406891993",
   "metadata": {},
   "source": [
    "**<font color=\"blue\" size=\"4\">Content</font>**  \n",
    "This dataset consists of the following files:\n",
    "\n",
    "**movies_metadata.csv:** The main Movies Metadata file. Contains information on 45,000 movies featured in the Full MovieLens dataset. Features include posters, backdrops, budget, revenue, release dates, languages, production countries and companies.\n",
    "\n",
    "**keywords.csv:** Contains the movie plot keywords for our MovieLens movies. Available in the form of a stringified JSON Object.\n",
    "\n",
    "**credits.csv:** Consists of Cast and Crew Information for all our movies. Available in the form of a stringified JSON Object.\n",
    "\n",
    "**links.csv:** The file that contains the TMDB and IMDB IDs of all the movies featured in the Full MovieLens dataset.\n",
    "\n",
    "**links_small.csv:** Contains the TMDB and IMDB IDs of a small subset of 9,000 movies of the Full Dataset.\n",
    "\n",
    "**ratings_small.csv:** The subset of 100,000 ratings from 700 users on 9,000 movies.  \n",
    "\n",
    "The Full MovieLens Dataset consisting of 26 million ratings and 750,000 tag applications from 270,000 users on all the 45,000 movies in this dataset can be accessed [here](https://grouplens.org/datasets/movielens/latest/)\n"
   ]
  },
  {
   "cell_type": "markdown",
   "id": "5ba5ebf1-bd54-444a-b702-c54195d5950a",
   "metadata": {},
   "source": [
    "**<font color=\"blue\" size=\"5\">Introducing- Surprise</font>**  \n",
    "**Surprise** ย่อมาจาก **Simple Python Recommendation System Engine** เป็นส่วนหนึ่งของ `scikit-learn` ซึ่งเป็น `library` ใน python สำหรับนำมาวิเคราะห์และสร้างระบบแนะนำที่นำมาใช้จัดการข้อมูลที่มี `rating` โดย `Surprise` ถูกออกแบบมาเพื่อจุดประสงค์ดังนี้\n",
    "\n",
    "\n",
    "1. ให้ผู้ใช้งานจัดการและควบคุมการทดลองได้ทั้งหมด จึงให้ความสำคัญกับการสร้างเอกสารเป็นอย่างมากเพื่อให้ผู้ใช้มีความชัดเจนในทุกรายละเอียดของอัลกอริทึม\n",
    "2. ช่วยลดขั้นตอนที่ยุ่งยากในการจัดการกับข้อมูล ซึ่งผู้ใช้สามารถใช้ข้อมูลได้หลากหลาย\n",
    "3. มีอัลกอริทึมใช้ทำนายและมาตราวัดความคล้ายคลึงกันที่พร้อมใช้ให้หลากหลาย\n",
    "4. ช่วยให้การสร้างอัลกอริทึมง่ายขึ้น\n",
    "5. มีเครื่องมือในการวัดผล วิเคราะห์ และเปรียบเทียบประสิทธิภาพของอัลกอริทึม\n",
    "\n",
    "\n",
    "`Surprise` ไม่รองรับการสร้างระบบแบบ **Content-based filtering**\n",
    "\n",
    "[ข้อมูลเพิ่มเติม](http://surpriselib.com/)"
   ]
  },
  {
   "cell_type": "markdown",
   "id": "0da7abc4-d135-44cf-8800-6fc08fbd014e",
   "metadata": {},
   "source": [
    "**<font color=\"blue\" size=\"5\">Introducing- Recommendation System</font>**  \n",
    "**Recommendation system หรือ ระบบแนะนำสินค้า** สามารถพบเห็นได้ทั่วไปในแพลตฟอร์มออนไลน์ เช่น การแนะนำหนังใน Netflix หรือการแนะนำสินค้าใน Amazon จุดประสงค์หลักของระบบแนะนำสินค้านี้คือ การคัดกรองสินค้าที่คาดการณ์ว่า **ผู้ใช้งานน่าจะสนใจ** ซึ่งสามารถแบ่งได้เป็น 3 ประเภท ดังนี้\n",
    "\n",
    "1. **Demographic Filtering** เป็นการแนะนำภาพยนต์ให้แก่ผู้ใช้ทุกคนโดยพิจารณาความนิยม (popular) และประเภท (genre) ของภาพยนต์ โดยหลักการ คือ ภาพยนต์ที่ได้รับความนิยม และได้รับเสียงวิจารณ์ชื่นชมมากจะมีโอกาสที่ผู้ใช้จะชอบ ซึ่งโมเดลนี้จะไม่ได้กรองข้อมูลแบบอิงผู้ใช้ (Collaborative Filtering)\n",
    "\n",
    "2. **Content-based filtering (การคัดกรองผ่านลักษณะสินค้าที่เหมือนกัน)** เป็นการคัดกรองที่ระบบจะแนะนำสินค้าที่มีลักษณะคล้ายกับสิ่งที่ผู้ใช้งานคนนั้นเคยสนใจในอดีต  \n",
    "\n",
    "3. **Collaborative filtering (การคัดกรองผ่านลักษณะของผู้ใช้งานที่เหมือนกัน)** เป็นการคัดกรองสินค้าโดยคำนึงถึงพฤติกรรมของผู้ใช้งานที่มีลักษณะคล้ายกับผู้ใช้งานผู้นี้ด้วย โดยมีสมมติฐานว่า ผู้ใช้ลักษณะคล้ายกันมีแนวโน้มจะชื่นชอบสินค้าคล้ายกัน \n",
    "\n",
    "\n",
    "![](https://bigdata.go.th/wp-content/uploads/2022/01/recommendation_system-1024x627.png)"
   ]
  },
  {
   "cell_type": "markdown",
   "id": "6839505b-b63f-4cbd-9faf-85c50b2706fb",
   "metadata": {},
   "source": [
    "<a id=\"8\"></a> \n",
    "# Table of Contents  \n",
    "**[1. Import Libraries](#1)       \n",
    "[2. Import Dataset](#2)   \n",
    "[3. Demographic Filtering](#3)   \n",
    "[4. Content-based filtering](#4)       \n",
    "[5. Collaborative filtering](#5)       \n",
    "[6. Hybrid Recommender](#6)       \n",
    "[7. Reference](#7)**\n",
    "\n",
    "***"
   ]
  },
  {
   "cell_type": "markdown",
   "id": "f7ca4fca-2a79-4d54-9687-1bb199a7ad7b",
   "metadata": {},
   "source": [
    "<a id=\"1\"></a>\n",
    "# 1. Import Libraries"
   ]
  },
  {
   "cell_type": "raw",
   "id": "2e91c290-038a-45d4-9b9e-ad1af1cab274",
   "metadata": {
    "jupyter": {
     "outputs_hidden": true
    },
    "tags": []
   },
   "source": [
    "conda install -c conda-forge scikit-surprise"
   ]
  },
  {
   "cell_type": "code",
   "execution_count": 1,
   "id": "35a842ce-eaad-438d-8bb7-459a409e2cfa",
   "metadata": {},
   "outputs": [],
   "source": [
    "# DataFrame\n",
    "import pandas as pd\n",
    "pd.options.display.max_columns = None\n",
    "#pd.set_option('display.max_colwidth', 1000)\n",
    "import numpy as np\n",
    "\n",
    "# Matplot\n",
    "import matplotlib.pyplot as plt\n",
    "%matplotlib inline\n",
    "%config InlineBackend.figure_format = 'retina'\n",
    "import seaborn as sns\n",
    "\n",
    "# Scikit-learn\n",
    "from sklearn.feature_extraction.text import TfidfVectorizer, CountVectorizer\n",
    "from sklearn.metrics.pairwise import linear_kernel, cosine_similarity\n",
    "\n",
    "# NLTK\n",
    "import nltk\n",
    "from nltk.corpus import stopwords\n",
    "from nltk.stem import SnowballStemmer, WordNetLemmatizer\n",
    "\n",
    "# surprise\n",
    "import surprise\n",
    "from surprise import Reader, Dataset, SVD\n",
    "from surprise.model_selection import cross_validate\n",
    "\n",
    "# Utility\n",
    "import warnings\n",
    "warnings.filterwarnings('ignore')\n",
    "import ast\n",
    "from ast import literal_eval\n"
   ]
  },
  {
   "cell_type": "markdown",
   "id": "9344dc0d-941b-4671-916b-63522b5c1c4d",
   "metadata": {
    "jp-MarkdownHeadingCollapsed": true,
    "tags": []
   },
   "source": [
    "**[Back to Table of Contents](#8)**\n",
    "\n",
    "***"
   ]
  },
  {
   "cell_type": "markdown",
   "id": "f6dfe91b-ef1f-411b-8b7e-a612e37bd981",
   "metadata": {},
   "source": [
    "<a id=\"2\"></a> \n",
    "# 2. Import Dataset"
   ]
  },
  {
   "cell_type": "code",
   "execution_count": 2,
   "id": "d19c6d32-6aca-40a5-a16c-2dbab7694350",
   "metadata": {},
   "outputs": [],
   "source": [
    "movies_metadata = pd.read_csv('The Movies Dataset/movies_metadata.csv')"
   ]
  },
  {
   "cell_type": "code",
   "execution_count": 3,
   "id": "71941254-db7d-4429-a5ce-1059788110cf",
   "metadata": {},
   "outputs": [
    {
     "data": {
      "text/html": [
       "<div>\n",
       "<style scoped>\n",
       "    .dataframe tbody tr th:only-of-type {\n",
       "        vertical-align: middle;\n",
       "    }\n",
       "\n",
       "    .dataframe tbody tr th {\n",
       "        vertical-align: top;\n",
       "    }\n",
       "\n",
       "    .dataframe thead th {\n",
       "        text-align: right;\n",
       "    }\n",
       "</style>\n",
       "<table border=\"1\" class=\"dataframe\">\n",
       "  <thead>\n",
       "    <tr style=\"text-align: right;\">\n",
       "      <th></th>\n",
       "      <th>adult</th>\n",
       "      <th>belongs_to_collection</th>\n",
       "      <th>budget</th>\n",
       "      <th>genres</th>\n",
       "      <th>homepage</th>\n",
       "      <th>id</th>\n",
       "      <th>imdb_id</th>\n",
       "      <th>original_language</th>\n",
       "      <th>original_title</th>\n",
       "      <th>overview</th>\n",
       "      <th>popularity</th>\n",
       "      <th>poster_path</th>\n",
       "      <th>production_companies</th>\n",
       "      <th>production_countries</th>\n",
       "      <th>release_date</th>\n",
       "      <th>revenue</th>\n",
       "      <th>runtime</th>\n",
       "      <th>spoken_languages</th>\n",
       "      <th>status</th>\n",
       "      <th>tagline</th>\n",
       "      <th>title</th>\n",
       "      <th>video</th>\n",
       "      <th>vote_average</th>\n",
       "      <th>vote_count</th>\n",
       "    </tr>\n",
       "  </thead>\n",
       "  <tbody>\n",
       "    <tr>\n",
       "      <th>0</th>\n",
       "      <td>False</td>\n",
       "      <td>{'id': 10194, 'name': 'Toy Story Collection', ...</td>\n",
       "      <td>30000000</td>\n",
       "      <td>[{'id': 16, 'name': 'Animation'}, {'id': 35, '...</td>\n",
       "      <td>http://toystory.disney.com/toy-story</td>\n",
       "      <td>862</td>\n",
       "      <td>tt0114709</td>\n",
       "      <td>en</td>\n",
       "      <td>Toy Story</td>\n",
       "      <td>Led by Woody, Andy's toys live happily in his ...</td>\n",
       "      <td>21.946943</td>\n",
       "      <td>/rhIRbceoE9lR4veEXuwCC2wARtG.jpg</td>\n",
       "      <td>[{'name': 'Pixar Animation Studios', 'id': 3}]</td>\n",
       "      <td>[{'iso_3166_1': 'US', 'name': 'United States o...</td>\n",
       "      <td>1995-10-30</td>\n",
       "      <td>373554033.0</td>\n",
       "      <td>81.0</td>\n",
       "      <td>[{'iso_639_1': 'en', 'name': 'English'}]</td>\n",
       "      <td>Released</td>\n",
       "      <td>NaN</td>\n",
       "      <td>Toy Story</td>\n",
       "      <td>False</td>\n",
       "      <td>7.7</td>\n",
       "      <td>5415.0</td>\n",
       "    </tr>\n",
       "    <tr>\n",
       "      <th>1</th>\n",
       "      <td>False</td>\n",
       "      <td>NaN</td>\n",
       "      <td>65000000</td>\n",
       "      <td>[{'id': 12, 'name': 'Adventure'}, {'id': 14, '...</td>\n",
       "      <td>NaN</td>\n",
       "      <td>8844</td>\n",
       "      <td>tt0113497</td>\n",
       "      <td>en</td>\n",
       "      <td>Jumanji</td>\n",
       "      <td>When siblings Judy and Peter discover an encha...</td>\n",
       "      <td>17.015539</td>\n",
       "      <td>/vzmL6fP7aPKNKPRTFnZmiUfciyV.jpg</td>\n",
       "      <td>[{'name': 'TriStar Pictures', 'id': 559}, {'na...</td>\n",
       "      <td>[{'iso_3166_1': 'US', 'name': 'United States o...</td>\n",
       "      <td>1995-12-15</td>\n",
       "      <td>262797249.0</td>\n",
       "      <td>104.0</td>\n",
       "      <td>[{'iso_639_1': 'en', 'name': 'English'}, {'iso...</td>\n",
       "      <td>Released</td>\n",
       "      <td>Roll the dice and unleash the excitement!</td>\n",
       "      <td>Jumanji</td>\n",
       "      <td>False</td>\n",
       "      <td>6.9</td>\n",
       "      <td>2413.0</td>\n",
       "    </tr>\n",
       "    <tr>\n",
       "      <th>2</th>\n",
       "      <td>False</td>\n",
       "      <td>{'id': 119050, 'name': 'Grumpy Old Men Collect...</td>\n",
       "      <td>0</td>\n",
       "      <td>[{'id': 10749, 'name': 'Romance'}, {'id': 35, ...</td>\n",
       "      <td>NaN</td>\n",
       "      <td>15602</td>\n",
       "      <td>tt0113228</td>\n",
       "      <td>en</td>\n",
       "      <td>Grumpier Old Men</td>\n",
       "      <td>A family wedding reignites the ancient feud be...</td>\n",
       "      <td>11.7129</td>\n",
       "      <td>/6ksm1sjKMFLbO7UY2i6G1ju9SML.jpg</td>\n",
       "      <td>[{'name': 'Warner Bros.', 'id': 6194}, {'name'...</td>\n",
       "      <td>[{'iso_3166_1': 'US', 'name': 'United States o...</td>\n",
       "      <td>1995-12-22</td>\n",
       "      <td>0.0</td>\n",
       "      <td>101.0</td>\n",
       "      <td>[{'iso_639_1': 'en', 'name': 'English'}]</td>\n",
       "      <td>Released</td>\n",
       "      <td>Still Yelling. Still Fighting. Still Ready for...</td>\n",
       "      <td>Grumpier Old Men</td>\n",
       "      <td>False</td>\n",
       "      <td>6.5</td>\n",
       "      <td>92.0</td>\n",
       "    </tr>\n",
       "    <tr>\n",
       "      <th>3</th>\n",
       "      <td>False</td>\n",
       "      <td>NaN</td>\n",
       "      <td>16000000</td>\n",
       "      <td>[{'id': 35, 'name': 'Comedy'}, {'id': 18, 'nam...</td>\n",
       "      <td>NaN</td>\n",
       "      <td>31357</td>\n",
       "      <td>tt0114885</td>\n",
       "      <td>en</td>\n",
       "      <td>Waiting to Exhale</td>\n",
       "      <td>Cheated on, mistreated and stepped on, the wom...</td>\n",
       "      <td>3.859495</td>\n",
       "      <td>/16XOMpEaLWkrcPqSQqhTmeJuqQl.jpg</td>\n",
       "      <td>[{'name': 'Twentieth Century Fox Film Corporat...</td>\n",
       "      <td>[{'iso_3166_1': 'US', 'name': 'United States o...</td>\n",
       "      <td>1995-12-22</td>\n",
       "      <td>81452156.0</td>\n",
       "      <td>127.0</td>\n",
       "      <td>[{'iso_639_1': 'en', 'name': 'English'}]</td>\n",
       "      <td>Released</td>\n",
       "      <td>Friends are the people who let you be yourself...</td>\n",
       "      <td>Waiting to Exhale</td>\n",
       "      <td>False</td>\n",
       "      <td>6.1</td>\n",
       "      <td>34.0</td>\n",
       "    </tr>\n",
       "    <tr>\n",
       "      <th>4</th>\n",
       "      <td>False</td>\n",
       "      <td>{'id': 96871, 'name': 'Father of the Bride Col...</td>\n",
       "      <td>0</td>\n",
       "      <td>[{'id': 35, 'name': 'Comedy'}]</td>\n",
       "      <td>NaN</td>\n",
       "      <td>11862</td>\n",
       "      <td>tt0113041</td>\n",
       "      <td>en</td>\n",
       "      <td>Father of the Bride Part II</td>\n",
       "      <td>Just when George Banks has recovered from his ...</td>\n",
       "      <td>8.387519</td>\n",
       "      <td>/e64sOI48hQXyru7naBFyssKFxVd.jpg</td>\n",
       "      <td>[{'name': 'Sandollar Productions', 'id': 5842}...</td>\n",
       "      <td>[{'iso_3166_1': 'US', 'name': 'United States o...</td>\n",
       "      <td>1995-02-10</td>\n",
       "      <td>76578911.0</td>\n",
       "      <td>106.0</td>\n",
       "      <td>[{'iso_639_1': 'en', 'name': 'English'}]</td>\n",
       "      <td>Released</td>\n",
       "      <td>Just When His World Is Back To Normal... He's ...</td>\n",
       "      <td>Father of the Bride Part II</td>\n",
       "      <td>False</td>\n",
       "      <td>5.7</td>\n",
       "      <td>173.0</td>\n",
       "    </tr>\n",
       "  </tbody>\n",
       "</table>\n",
       "</div>"
      ],
      "text/plain": [
       "   adult                              belongs_to_collection    budget  \\\n",
       "0  False  {'id': 10194, 'name': 'Toy Story Collection', ...  30000000   \n",
       "1  False                                                NaN  65000000   \n",
       "2  False  {'id': 119050, 'name': 'Grumpy Old Men Collect...         0   \n",
       "3  False                                                NaN  16000000   \n",
       "4  False  {'id': 96871, 'name': 'Father of the Bride Col...         0   \n",
       "\n",
       "                                              genres  \\\n",
       "0  [{'id': 16, 'name': 'Animation'}, {'id': 35, '...   \n",
       "1  [{'id': 12, 'name': 'Adventure'}, {'id': 14, '...   \n",
       "2  [{'id': 10749, 'name': 'Romance'}, {'id': 35, ...   \n",
       "3  [{'id': 35, 'name': 'Comedy'}, {'id': 18, 'nam...   \n",
       "4                     [{'id': 35, 'name': 'Comedy'}]   \n",
       "\n",
       "                               homepage     id    imdb_id original_language  \\\n",
       "0  http://toystory.disney.com/toy-story    862  tt0114709                en   \n",
       "1                                   NaN   8844  tt0113497                en   \n",
       "2                                   NaN  15602  tt0113228                en   \n",
       "3                                   NaN  31357  tt0114885                en   \n",
       "4                                   NaN  11862  tt0113041                en   \n",
       "\n",
       "                original_title  \\\n",
       "0                    Toy Story   \n",
       "1                      Jumanji   \n",
       "2             Grumpier Old Men   \n",
       "3            Waiting to Exhale   \n",
       "4  Father of the Bride Part II   \n",
       "\n",
       "                                            overview popularity  \\\n",
       "0  Led by Woody, Andy's toys live happily in his ...  21.946943   \n",
       "1  When siblings Judy and Peter discover an encha...  17.015539   \n",
       "2  A family wedding reignites the ancient feud be...    11.7129   \n",
       "3  Cheated on, mistreated and stepped on, the wom...   3.859495   \n",
       "4  Just when George Banks has recovered from his ...   8.387519   \n",
       "\n",
       "                        poster_path  \\\n",
       "0  /rhIRbceoE9lR4veEXuwCC2wARtG.jpg   \n",
       "1  /vzmL6fP7aPKNKPRTFnZmiUfciyV.jpg   \n",
       "2  /6ksm1sjKMFLbO7UY2i6G1ju9SML.jpg   \n",
       "3  /16XOMpEaLWkrcPqSQqhTmeJuqQl.jpg   \n",
       "4  /e64sOI48hQXyru7naBFyssKFxVd.jpg   \n",
       "\n",
       "                                production_companies  \\\n",
       "0     [{'name': 'Pixar Animation Studios', 'id': 3}]   \n",
       "1  [{'name': 'TriStar Pictures', 'id': 559}, {'na...   \n",
       "2  [{'name': 'Warner Bros.', 'id': 6194}, {'name'...   \n",
       "3  [{'name': 'Twentieth Century Fox Film Corporat...   \n",
       "4  [{'name': 'Sandollar Productions', 'id': 5842}...   \n",
       "\n",
       "                                production_countries release_date  \\\n",
       "0  [{'iso_3166_1': 'US', 'name': 'United States o...   1995-10-30   \n",
       "1  [{'iso_3166_1': 'US', 'name': 'United States o...   1995-12-15   \n",
       "2  [{'iso_3166_1': 'US', 'name': 'United States o...   1995-12-22   \n",
       "3  [{'iso_3166_1': 'US', 'name': 'United States o...   1995-12-22   \n",
       "4  [{'iso_3166_1': 'US', 'name': 'United States o...   1995-02-10   \n",
       "\n",
       "       revenue  runtime                                   spoken_languages  \\\n",
       "0  373554033.0     81.0           [{'iso_639_1': 'en', 'name': 'English'}]   \n",
       "1  262797249.0    104.0  [{'iso_639_1': 'en', 'name': 'English'}, {'iso...   \n",
       "2          0.0    101.0           [{'iso_639_1': 'en', 'name': 'English'}]   \n",
       "3   81452156.0    127.0           [{'iso_639_1': 'en', 'name': 'English'}]   \n",
       "4   76578911.0    106.0           [{'iso_639_1': 'en', 'name': 'English'}]   \n",
       "\n",
       "     status                                            tagline  \\\n",
       "0  Released                                                NaN   \n",
       "1  Released          Roll the dice and unleash the excitement!   \n",
       "2  Released  Still Yelling. Still Fighting. Still Ready for...   \n",
       "3  Released  Friends are the people who let you be yourself...   \n",
       "4  Released  Just When His World Is Back To Normal... He's ...   \n",
       "\n",
       "                         title  video  vote_average  vote_count  \n",
       "0                    Toy Story  False           7.7      5415.0  \n",
       "1                      Jumanji  False           6.9      2413.0  \n",
       "2             Grumpier Old Men  False           6.5        92.0  \n",
       "3            Waiting to Exhale  False           6.1        34.0  \n",
       "4  Father of the Bride Part II  False           5.7       173.0  "
      ]
     },
     "execution_count": 3,
     "metadata": {},
     "output_type": "execute_result"
    }
   ],
   "source": [
    "movies_metadata.head(5)"
   ]
  },
  {
   "cell_type": "code",
   "execution_count": 4,
   "id": "2f24adb0-3045-4855-ba5e-e204e790d219",
   "metadata": {},
   "outputs": [
    {
     "name": "stdout",
     "output_type": "stream",
     "text": [
      "<class 'pandas.core.frame.DataFrame'>\n",
      "RangeIndex: 45466 entries, 0 to 45465\n",
      "Data columns (total 24 columns):\n",
      " #   Column                 Non-Null Count  Dtype  \n",
      "---  ------                 --------------  -----  \n",
      " 0   adult                  45466 non-null  object \n",
      " 1   belongs_to_collection  4494 non-null   object \n",
      " 2   budget                 45466 non-null  object \n",
      " 3   genres                 45466 non-null  object \n",
      " 4   homepage               7782 non-null   object \n",
      " 5   id                     45466 non-null  object \n",
      " 6   imdb_id                45449 non-null  object \n",
      " 7   original_language      45455 non-null  object \n",
      " 8   original_title         45466 non-null  object \n",
      " 9   overview               44512 non-null  object \n",
      " 10  popularity             45461 non-null  object \n",
      " 11  poster_path            45080 non-null  object \n",
      " 12  production_companies   45463 non-null  object \n",
      " 13  production_countries   45463 non-null  object \n",
      " 14  release_date           45379 non-null  object \n",
      " 15  revenue                45460 non-null  float64\n",
      " 16  runtime                45203 non-null  float64\n",
      " 17  spoken_languages       45460 non-null  object \n",
      " 18  status                 45379 non-null  object \n",
      " 19  tagline                20412 non-null  object \n",
      " 20  title                  45460 non-null  object \n",
      " 21  video                  45460 non-null  object \n",
      " 22  vote_average           45460 non-null  float64\n",
      " 23  vote_count             45460 non-null  float64\n",
      "dtypes: float64(4), object(20)\n",
      "memory usage: 8.3+ MB\n"
     ]
    }
   ],
   "source": [
    "movies_metadata.info()"
   ]
  },
  {
   "cell_type": "code",
   "execution_count": 5,
   "id": "f246f10a-1b4d-439f-ab9e-e0045a687692",
   "metadata": {},
   "outputs": [
    {
     "data": {
      "text/plain": [
       "adult                        0\n",
       "belongs_to_collection    40972\n",
       "budget                       0\n",
       "genres                       0\n",
       "homepage                 37684\n",
       "id                           0\n",
       "imdb_id                     17\n",
       "original_language           11\n",
       "original_title               0\n",
       "overview                   954\n",
       "popularity                   5\n",
       "poster_path                386\n",
       "production_companies         3\n",
       "production_countries         3\n",
       "release_date                87\n",
       "revenue                      6\n",
       "runtime                    263\n",
       "spoken_languages             6\n",
       "status                      87\n",
       "tagline                  25054\n",
       "title                        6\n",
       "video                        6\n",
       "vote_average                 6\n",
       "vote_count                   6\n",
       "dtype: int64"
      ]
     },
     "execution_count": 5,
     "metadata": {},
     "output_type": "execute_result"
    }
   ],
   "source": [
    "movies_metadata.isna().sum()"
   ]
  },
  {
   "cell_type": "code",
   "execution_count": 6,
   "id": "d2a532a2-25d7-4f0d-aee3-f34b14eeec3f",
   "metadata": {},
   "outputs": [
    {
     "data": {
      "text/html": [
       "<div>\n",
       "<style scoped>\n",
       "    .dataframe tbody tr th:only-of-type {\n",
       "        vertical-align: middle;\n",
       "    }\n",
       "\n",
       "    .dataframe tbody tr th {\n",
       "        vertical-align: top;\n",
       "    }\n",
       "\n",
       "    .dataframe thead th {\n",
       "        text-align: right;\n",
       "    }\n",
       "</style>\n",
       "<table border=\"1\" class=\"dataframe\">\n",
       "  <thead>\n",
       "    <tr style=\"text-align: right;\">\n",
       "      <th></th>\n",
       "      <th>adult</th>\n",
       "      <th>belongs_to_collection</th>\n",
       "      <th>budget</th>\n",
       "      <th>genres</th>\n",
       "      <th>homepage</th>\n",
       "      <th>id</th>\n",
       "      <th>imdb_id</th>\n",
       "      <th>original_language</th>\n",
       "      <th>original_title</th>\n",
       "      <th>overview</th>\n",
       "      <th>popularity</th>\n",
       "      <th>poster_path</th>\n",
       "      <th>production_companies</th>\n",
       "      <th>production_countries</th>\n",
       "      <th>release_date</th>\n",
       "      <th>revenue</th>\n",
       "      <th>runtime</th>\n",
       "      <th>spoken_languages</th>\n",
       "      <th>status</th>\n",
       "      <th>tagline</th>\n",
       "      <th>title</th>\n",
       "      <th>video</th>\n",
       "      <th>vote_average</th>\n",
       "      <th>vote_count</th>\n",
       "    </tr>\n",
       "  </thead>\n",
       "  <tbody>\n",
       "    <tr>\n",
       "      <th>19729</th>\n",
       "      <td>False</td>\n",
       "      <td>NaN</td>\n",
       "      <td>0</td>\n",
       "      <td>[{'id': 28, 'name': 'Action'}, {'id': 53, 'nam...</td>\n",
       "      <td>NaN</td>\n",
       "      <td>82663</td>\n",
       "      <td>tt0113002</td>\n",
       "      <td>en</td>\n",
       "      <td>Midnight Man</td>\n",
       "      <td>British soldiers force a recently captured IRA...</td>\n",
       "      <td>NaN</td>\n",
       "      <td>NaN</td>\n",
       "      <td>NaN</td>\n",
       "      <td>NaN</td>\n",
       "      <td>NaN</td>\n",
       "      <td>NaN</td>\n",
       "      <td>NaN</td>\n",
       "      <td>NaN</td>\n",
       "      <td>NaN</td>\n",
       "      <td>NaN</td>\n",
       "      <td>NaN</td>\n",
       "      <td>NaN</td>\n",
       "      <td>NaN</td>\n",
       "      <td>NaN</td>\n",
       "    </tr>\n",
       "    <tr>\n",
       "      <th>29502</th>\n",
       "      <td>False</td>\n",
       "      <td>{'id': 122661, 'name': 'Mardock Scramble Colle...</td>\n",
       "      <td>0</td>\n",
       "      <td>[{'id': 16, 'name': 'Animation'}, {'id': 878, ...</td>\n",
       "      <td>http://m-scramble.jp/exhaust/</td>\n",
       "      <td>122662</td>\n",
       "      <td>tt2423504</td>\n",
       "      <td>ja</td>\n",
       "      <td>マルドゥック・スクランブル 排気</td>\n",
       "      <td>Third film of the Mardock Scramble series.</td>\n",
       "      <td>NaN</td>\n",
       "      <td>NaN</td>\n",
       "      <td>NaN</td>\n",
       "      <td>NaN</td>\n",
       "      <td>NaN</td>\n",
       "      <td>NaN</td>\n",
       "      <td>NaN</td>\n",
       "      <td>NaN</td>\n",
       "      <td>NaN</td>\n",
       "      <td>NaN</td>\n",
       "      <td>NaN</td>\n",
       "      <td>NaN</td>\n",
       "      <td>NaN</td>\n",
       "      <td>NaN</td>\n",
       "    </tr>\n",
       "    <tr>\n",
       "      <th>35586</th>\n",
       "      <td>False</td>\n",
       "      <td>NaN</td>\n",
       "      <td>0</td>\n",
       "      <td>[{'id': 10770, 'name': 'TV Movie'}, {'id': 28,...</td>\n",
       "      <td>NaN</td>\n",
       "      <td>249260</td>\n",
       "      <td>tt2622826</td>\n",
       "      <td>en</td>\n",
       "      <td>Avalanche Sharks</td>\n",
       "      <td>A group of skiers are terrorized during spring...</td>\n",
       "      <td>NaN</td>\n",
       "      <td>NaN</td>\n",
       "      <td>NaN</td>\n",
       "      <td>NaN</td>\n",
       "      <td>NaN</td>\n",
       "      <td>NaN</td>\n",
       "      <td>NaN</td>\n",
       "      <td>NaN</td>\n",
       "      <td>NaN</td>\n",
       "      <td>NaN</td>\n",
       "      <td>NaN</td>\n",
       "      <td>NaN</td>\n",
       "      <td>NaN</td>\n",
       "      <td>NaN</td>\n",
       "    </tr>\n",
       "  </tbody>\n",
       "</table>\n",
       "</div>"
      ],
      "text/plain": [
       "       adult                              belongs_to_collection budget  \\\n",
       "19729  False                                                NaN      0   \n",
       "29502  False  {'id': 122661, 'name': 'Mardock Scramble Colle...      0   \n",
       "35586  False                                                NaN      0   \n",
       "\n",
       "                                                  genres  \\\n",
       "19729  [{'id': 28, 'name': 'Action'}, {'id': 53, 'nam...   \n",
       "29502  [{'id': 16, 'name': 'Animation'}, {'id': 878, ...   \n",
       "35586  [{'id': 10770, 'name': 'TV Movie'}, {'id': 28,...   \n",
       "\n",
       "                            homepage      id    imdb_id original_language  \\\n",
       "19729                            NaN   82663  tt0113002                en   \n",
       "29502  http://m-scramble.jp/exhaust/  122662  tt2423504                ja   \n",
       "35586                            NaN  249260  tt2622826                en   \n",
       "\n",
       "         original_title                                           overview  \\\n",
       "19729      Midnight Man  British soldiers force a recently captured IRA...   \n",
       "29502  マルドゥック・スクランブル 排気         Third film of the Mardock Scramble series.   \n",
       "35586  Avalanche Sharks  A group of skiers are terrorized during spring...   \n",
       "\n",
       "      popularity poster_path production_companies production_countries  \\\n",
       "19729        NaN         NaN                  NaN                  NaN   \n",
       "29502        NaN         NaN                  NaN                  NaN   \n",
       "35586        NaN         NaN                  NaN                  NaN   \n",
       "\n",
       "      release_date  revenue  runtime spoken_languages status tagline title  \\\n",
       "19729          NaN      NaN      NaN              NaN    NaN     NaN   NaN   \n",
       "29502          NaN      NaN      NaN              NaN    NaN     NaN   NaN   \n",
       "35586          NaN      NaN      NaN              NaN    NaN     NaN   NaN   \n",
       "\n",
       "      video  vote_average  vote_count  \n",
       "19729   NaN           NaN         NaN  \n",
       "29502   NaN           NaN         NaN  \n",
       "35586   NaN           NaN         NaN  "
      ]
     },
     "execution_count": 6,
     "metadata": {},
     "output_type": "execute_result"
    }
   ],
   "source": [
    "movies_metadata[movies_metadata['production_companies'].isna()]"
   ]
  },
  {
   "cell_type": "code",
   "execution_count": 7,
   "id": "2e1ced4a-9007-4a7f-b489-9acb4ae8fb76",
   "metadata": {},
   "outputs": [
    {
     "data": {
      "text/html": [
       "<div>\n",
       "<style scoped>\n",
       "    .dataframe tbody tr th:only-of-type {\n",
       "        vertical-align: middle;\n",
       "    }\n",
       "\n",
       "    .dataframe tbody tr th {\n",
       "        vertical-align: top;\n",
       "    }\n",
       "\n",
       "    .dataframe thead th {\n",
       "        text-align: right;\n",
       "    }\n",
       "</style>\n",
       "<table border=\"1\" class=\"dataframe\">\n",
       "  <thead>\n",
       "    <tr style=\"text-align: right;\">\n",
       "      <th></th>\n",
       "      <th>adult</th>\n",
       "      <th>belongs_to_collection</th>\n",
       "      <th>budget</th>\n",
       "      <th>genres</th>\n",
       "      <th>homepage</th>\n",
       "      <th>id</th>\n",
       "      <th>imdb_id</th>\n",
       "      <th>original_language</th>\n",
       "      <th>original_title</th>\n",
       "      <th>overview</th>\n",
       "      <th>popularity</th>\n",
       "      <th>poster_path</th>\n",
       "      <th>production_companies</th>\n",
       "      <th>production_countries</th>\n",
       "      <th>release_date</th>\n",
       "      <th>revenue</th>\n",
       "      <th>runtime</th>\n",
       "      <th>spoken_languages</th>\n",
       "      <th>status</th>\n",
       "      <th>tagline</th>\n",
       "      <th>title</th>\n",
       "      <th>video</th>\n",
       "      <th>vote_average</th>\n",
       "      <th>vote_count</th>\n",
       "    </tr>\n",
       "  </thead>\n",
       "  <tbody>\n",
       "    <tr>\n",
       "      <th>19729</th>\n",
       "      <td>False</td>\n",
       "      <td>NaN</td>\n",
       "      <td>0</td>\n",
       "      <td>[{'id': 28, 'name': 'Action'}, {'id': 53, 'nam...</td>\n",
       "      <td>NaN</td>\n",
       "      <td>82663</td>\n",
       "      <td>tt0113002</td>\n",
       "      <td>en</td>\n",
       "      <td>Midnight Man</td>\n",
       "      <td>British soldiers force a recently captured IRA...</td>\n",
       "      <td>NaN</td>\n",
       "      <td>NaN</td>\n",
       "      <td>NaN</td>\n",
       "      <td>NaN</td>\n",
       "      <td>NaN</td>\n",
       "      <td>NaN</td>\n",
       "      <td>NaN</td>\n",
       "      <td>NaN</td>\n",
       "      <td>NaN</td>\n",
       "      <td>NaN</td>\n",
       "      <td>NaN</td>\n",
       "      <td>NaN</td>\n",
       "      <td>NaN</td>\n",
       "      <td>NaN</td>\n",
       "    </tr>\n",
       "    <tr>\n",
       "      <th>29502</th>\n",
       "      <td>False</td>\n",
       "      <td>{'id': 122661, 'name': 'Mardock Scramble Colle...</td>\n",
       "      <td>0</td>\n",
       "      <td>[{'id': 16, 'name': 'Animation'}, {'id': 878, ...</td>\n",
       "      <td>http://m-scramble.jp/exhaust/</td>\n",
       "      <td>122662</td>\n",
       "      <td>tt2423504</td>\n",
       "      <td>ja</td>\n",
       "      <td>マルドゥック・スクランブル 排気</td>\n",
       "      <td>Third film of the Mardock Scramble series.</td>\n",
       "      <td>NaN</td>\n",
       "      <td>NaN</td>\n",
       "      <td>NaN</td>\n",
       "      <td>NaN</td>\n",
       "      <td>NaN</td>\n",
       "      <td>NaN</td>\n",
       "      <td>NaN</td>\n",
       "      <td>NaN</td>\n",
       "      <td>NaN</td>\n",
       "      <td>NaN</td>\n",
       "      <td>NaN</td>\n",
       "      <td>NaN</td>\n",
       "      <td>NaN</td>\n",
       "      <td>NaN</td>\n",
       "    </tr>\n",
       "    <tr>\n",
       "      <th>35586</th>\n",
       "      <td>False</td>\n",
       "      <td>NaN</td>\n",
       "      <td>0</td>\n",
       "      <td>[{'id': 10770, 'name': 'TV Movie'}, {'id': 28,...</td>\n",
       "      <td>NaN</td>\n",
       "      <td>249260</td>\n",
       "      <td>tt2622826</td>\n",
       "      <td>en</td>\n",
       "      <td>Avalanche Sharks</td>\n",
       "      <td>A group of skiers are terrorized during spring...</td>\n",
       "      <td>NaN</td>\n",
       "      <td>NaN</td>\n",
       "      <td>NaN</td>\n",
       "      <td>NaN</td>\n",
       "      <td>NaN</td>\n",
       "      <td>NaN</td>\n",
       "      <td>NaN</td>\n",
       "      <td>NaN</td>\n",
       "      <td>NaN</td>\n",
       "      <td>NaN</td>\n",
       "      <td>NaN</td>\n",
       "      <td>NaN</td>\n",
       "      <td>NaN</td>\n",
       "      <td>NaN</td>\n",
       "    </tr>\n",
       "  </tbody>\n",
       "</table>\n",
       "</div>"
      ],
      "text/plain": [
       "       adult                              belongs_to_collection budget  \\\n",
       "19729  False                                                NaN      0   \n",
       "29502  False  {'id': 122661, 'name': 'Mardock Scramble Colle...      0   \n",
       "35586  False                                                NaN      0   \n",
       "\n",
       "                                                  genres  \\\n",
       "19729  [{'id': 28, 'name': 'Action'}, {'id': 53, 'nam...   \n",
       "29502  [{'id': 16, 'name': 'Animation'}, {'id': 878, ...   \n",
       "35586  [{'id': 10770, 'name': 'TV Movie'}, {'id': 28,...   \n",
       "\n",
       "                            homepage      id    imdb_id original_language  \\\n",
       "19729                            NaN   82663  tt0113002                en   \n",
       "29502  http://m-scramble.jp/exhaust/  122662  tt2423504                ja   \n",
       "35586                            NaN  249260  tt2622826                en   \n",
       "\n",
       "         original_title                                           overview  \\\n",
       "19729      Midnight Man  British soldiers force a recently captured IRA...   \n",
       "29502  マルドゥック・スクランブル 排気         Third film of the Mardock Scramble series.   \n",
       "35586  Avalanche Sharks  A group of skiers are terrorized during spring...   \n",
       "\n",
       "      popularity poster_path production_companies production_countries  \\\n",
       "19729        NaN         NaN                  NaN                  NaN   \n",
       "29502        NaN         NaN                  NaN                  NaN   \n",
       "35586        NaN         NaN                  NaN                  NaN   \n",
       "\n",
       "      release_date  revenue  runtime spoken_languages status tagline title  \\\n",
       "19729          NaN      NaN      NaN              NaN    NaN     NaN   NaN   \n",
       "29502          NaN      NaN      NaN              NaN    NaN     NaN   NaN   \n",
       "35586          NaN      NaN      NaN              NaN    NaN     NaN   NaN   \n",
       "\n",
       "      video  vote_average  vote_count  \n",
       "19729   NaN           NaN         NaN  \n",
       "29502   NaN           NaN         NaN  \n",
       "35586   NaN           NaN         NaN  "
      ]
     },
     "execution_count": 7,
     "metadata": {},
     "output_type": "execute_result"
    }
   ],
   "source": [
    "movies_metadata[movies_metadata['production_countries'].isna()]"
   ]
  },
  {
   "cell_type": "markdown",
   "id": "17d78f6a-a22a-4fde-b2f2-cba53d08569e",
   "metadata": {
    "jp-MarkdownHeadingCollapsed": true,
    "tags": []
   },
   "source": [
    "**[Back to Table of Contents](#8)**\n",
    "\n",
    "***"
   ]
  },
  {
   "cell_type": "markdown",
   "id": "5bdaa863-c0d1-49c5-b5a1-4671574523a2",
   "metadata": {},
   "source": [
    "<a id=\"3\"></a> \n",
    "# 3. Demographic Filtering"
   ]
  },
  {
   "cell_type": "markdown",
   "id": "643f0052-a0e7-4659-86b5-1913309c1b15",
   "metadata": {},
   "source": [
    "Demographic Filtering เป็นการแนะนำภาพยนต์ให้แก่ผู้ใช้ทุกคนโดยพิจารณาความนิยม (popular) และประเภท (genre) ของภาพยนต์ โดยหลักการ คือ ภาพยนต์ที่ได้รับความนิยม และได้รับเสียงวิจารณ์ชื่นชมมากจะมีโอกาสที่ผู้ใช้จะชอบ ซึ่งโมเดลนี้จะไม่ได้กรองข้อมูลแบบอิงผู้ใช้ (Collaborative Filtering)"
   ]
  },
  {
   "cell_type": "markdown",
   "id": "c13897e9-84f2-4930-897d-b83c11be6ab0",
   "metadata": {},
   "source": [
    "## 3.1 Cleaning the Dataset"
   ]
  },
  {
   "cell_type": "code",
   "execution_count": 8,
   "id": "245f330f-dc05-441a-be3f-cd74089ac739",
   "metadata": {},
   "outputs": [
    {
     "data": {
      "text/plain": [
       "\"[{'id': 16, 'name': 'Animation'}, {'id': 35, 'name': 'Comedy'}, {'id': 10751, 'name': 'Family'}]\""
      ]
     },
     "execution_count": 8,
     "metadata": {},
     "output_type": "execute_result"
    }
   ],
   "source": [
    "movies_metadata['genres'][0]"
   ]
  },
  {
   "cell_type": "code",
   "execution_count": 9,
   "id": "138f11b4-00ac-45eb-a2e4-bda70a1fb5a9",
   "metadata": {},
   "outputs": [],
   "source": [
    "movies_metadata['genres'] = movies_metadata['genres'].fillna('[]').apply(literal_eval).apply(lambda x: [i['name'] for i in x] if isinstance(x, list) else [])"
   ]
  },
  {
   "cell_type": "code",
   "execution_count": 10,
   "id": "5f459263-6e59-4d1f-bf6e-09f07f5c4459",
   "metadata": {},
   "outputs": [
    {
     "data": {
      "text/plain": [
       "['Animation', 'Comedy', 'Family']"
      ]
     },
     "execution_count": 10,
     "metadata": {},
     "output_type": "execute_result"
    }
   ],
   "source": [
    "movies_metadata['genres'][0]"
   ]
  },
  {
   "cell_type": "code",
   "execution_count": 11,
   "id": "4334ebb9-18c1-47d7-9aed-69a2b51b9d64",
   "metadata": {},
   "outputs": [],
   "source": [
    "movies_metadata['production_companies'] = movies_metadata['production_companies'].fillna('[]') \\\n",
    ".apply(literal_eval).apply(lambda x: [i['name'] for i in x] if isinstance(x, list) else [])"
   ]
  },
  {
   "cell_type": "code",
   "execution_count": 12,
   "id": "58b73bfb-b60e-4313-a281-3e47e4949485",
   "metadata": {},
   "outputs": [],
   "source": [
    "movies_metadata['production_countries'] = movies_metadata['production_countries'].fillna('[]') \\\n",
    ".apply(literal_eval).apply(lambda x: [i['name'] for i in x] if isinstance(x, list) else [])"
   ]
  },
  {
   "cell_type": "code",
   "execution_count": 13,
   "id": "5f732c72-a6c7-4b0f-8a84-33142b6abb2d",
   "metadata": {},
   "outputs": [],
   "source": [
    "movies_metadata['spoken_languages'] = movies_metadata['spoken_languages'].fillna('[]') \\\n",
    ".apply(literal_eval).apply(lambda x: [i['name'] for i in x] if isinstance(x, list) else [])"
   ]
  },
  {
   "cell_type": "code",
   "execution_count": 14,
   "id": "35708c8e-f6b7-4201-a04f-7bb42a8dddea",
   "metadata": {},
   "outputs": [],
   "source": [
    "movies_metadata['year'] = pd.to_datetime(movies_metadata['release_date'], errors = 'coerce') \\\n",
    ".apply(lambda x: str(x).split('-')[0] if x != np.nan else np.nan)"
   ]
  },
  {
   "cell_type": "code",
   "execution_count": 15,
   "id": "0aa17e53-ce28-4911-96ed-cc731746625e",
   "metadata": {},
   "outputs": [
    {
     "data": {
      "text/html": [
       "<div>\n",
       "<style scoped>\n",
       "    .dataframe tbody tr th:only-of-type {\n",
       "        vertical-align: middle;\n",
       "    }\n",
       "\n",
       "    .dataframe tbody tr th {\n",
       "        vertical-align: top;\n",
       "    }\n",
       "\n",
       "    .dataframe thead th {\n",
       "        text-align: right;\n",
       "    }\n",
       "</style>\n",
       "<table border=\"1\" class=\"dataframe\">\n",
       "  <thead>\n",
       "    <tr style=\"text-align: right;\">\n",
       "      <th></th>\n",
       "      <th>adult</th>\n",
       "      <th>belongs_to_collection</th>\n",
       "      <th>budget</th>\n",
       "      <th>genres</th>\n",
       "      <th>homepage</th>\n",
       "      <th>id</th>\n",
       "      <th>imdb_id</th>\n",
       "      <th>original_language</th>\n",
       "      <th>original_title</th>\n",
       "      <th>overview</th>\n",
       "      <th>popularity</th>\n",
       "      <th>poster_path</th>\n",
       "      <th>production_companies</th>\n",
       "      <th>production_countries</th>\n",
       "      <th>release_date</th>\n",
       "      <th>revenue</th>\n",
       "      <th>runtime</th>\n",
       "      <th>spoken_languages</th>\n",
       "      <th>status</th>\n",
       "      <th>tagline</th>\n",
       "      <th>title</th>\n",
       "      <th>video</th>\n",
       "      <th>vote_average</th>\n",
       "      <th>vote_count</th>\n",
       "      <th>year</th>\n",
       "    </tr>\n",
       "  </thead>\n",
       "  <tbody>\n",
       "    <tr>\n",
       "      <th>0</th>\n",
       "      <td>False</td>\n",
       "      <td>{'id': 10194, 'name': 'Toy Story Collection', ...</td>\n",
       "      <td>30000000</td>\n",
       "      <td>[Animation, Comedy, Family]</td>\n",
       "      <td>http://toystory.disney.com/toy-story</td>\n",
       "      <td>862</td>\n",
       "      <td>tt0114709</td>\n",
       "      <td>en</td>\n",
       "      <td>Toy Story</td>\n",
       "      <td>Led by Woody, Andy's toys live happily in his ...</td>\n",
       "      <td>21.946943</td>\n",
       "      <td>/rhIRbceoE9lR4veEXuwCC2wARtG.jpg</td>\n",
       "      <td>[Pixar Animation Studios]</td>\n",
       "      <td>[United States of America]</td>\n",
       "      <td>1995-10-30</td>\n",
       "      <td>373554033.0</td>\n",
       "      <td>81.0</td>\n",
       "      <td>[English]</td>\n",
       "      <td>Released</td>\n",
       "      <td>NaN</td>\n",
       "      <td>Toy Story</td>\n",
       "      <td>False</td>\n",
       "      <td>7.7</td>\n",
       "      <td>5415.0</td>\n",
       "      <td>1995</td>\n",
       "    </tr>\n",
       "  </tbody>\n",
       "</table>\n",
       "</div>"
      ],
      "text/plain": [
       "   adult                              belongs_to_collection    budget  \\\n",
       "0  False  {'id': 10194, 'name': 'Toy Story Collection', ...  30000000   \n",
       "\n",
       "                        genres                              homepage   id  \\\n",
       "0  [Animation, Comedy, Family]  http://toystory.disney.com/toy-story  862   \n",
       "\n",
       "     imdb_id original_language original_title  \\\n",
       "0  tt0114709                en      Toy Story   \n",
       "\n",
       "                                            overview popularity  \\\n",
       "0  Led by Woody, Andy's toys live happily in his ...  21.946943   \n",
       "\n",
       "                        poster_path       production_companies  \\\n",
       "0  /rhIRbceoE9lR4veEXuwCC2wARtG.jpg  [Pixar Animation Studios]   \n",
       "\n",
       "         production_countries release_date      revenue  runtime  \\\n",
       "0  [United States of America]   1995-10-30  373554033.0     81.0   \n",
       "\n",
       "  spoken_languages    status tagline      title  video  vote_average  \\\n",
       "0        [English]  Released     NaN  Toy Story  False           7.7   \n",
       "\n",
       "   vote_count  year  \n",
       "0      5415.0  1995  "
      ]
     },
     "execution_count": 15,
     "metadata": {},
     "output_type": "execute_result"
    }
   ],
   "source": [
    "movies_metadata.head(1)"
   ]
  },
  {
   "cell_type": "markdown",
   "id": "33088e33-e59b-4655-a456-c62ce9e9e7d7",
   "metadata": {},
   "source": [
    "## 3.2 Calculate Weighted Rating (WR)"
   ]
  },
  {
   "cell_type": "markdown",
   "id": "2db8ef74-9ef5-4011-bf97-f2306000a22a",
   "metadata": {},
   "source": [
    "เราสามารถใช้ average ratings ของภาพยนตร์เป็นคะแนนได้ แต่การใช้สิ่งนี้จะไม่ยุติธรรมพอ เนื่องจากภาพยนตร์ที่มี average rating 8.9 และมีเพียง 3 vote ไม่สามารถถือว่าดีกว่าภาพยนตร์ที่มี average rating 7.8 แต่ได้ 40 vote ดังนั้น จะใช้การให้คะแนนแบบถ่วงน้ำหนัก (WR) ของ IMDB \n",
    "\n",
    "ใช้ IMDB Ratings เพื่อจัดอันดับภาพยนต์ (Top Movies Chart) โดยใช้สูตรการให้คะแนนแบบถ่วงน้ำหนักของ IMDB เพื่อสร้าง Chart มีสูตรทางคณิตศาสตร์ ดังนี้ \n",
    "\n",
    "                          Weighted Rating (WR) = (v / (v + m) * R) + (m / (v + m) * C)\n",
    "\n",
    "โดย\n",
    "\n",
    "                          R = the average rating of the movie = (Rating)\n",
    "                          \n",
    "                          v = the number of votes for the movie = (votes)\n",
    "                          \n",
    "                          m = the minimum votes required to be listed in the chart (Top 250) \n",
    "                          \n",
    "                          C = the mean vote across the whole report \n",
    "\n",
    "ค่า R ได้จาก column: vote_average  \n",
    "ค่า v ได้จาก column: vote_count  \n",
    "ค่า C ได้จาก column: vote_average แล้วคำนวณหาค่าเฉลี่ย  \n",
    "หาค่า m โดยกำหนด 95th percentile เป็นจุดตัด หมายถึง ภาพยนตร์ที่ติด Chart จะต้องมีคะแนนโหวตมากกว่าอย่างน้อย 95% ของภาพยนตร์ทั้งหมด  \n",
    "สร้าง Top 250 Chart และกำหนด Genre โดยเฉพาะเจาะจง"
   ]
  },
  {
   "cell_type": "code",
   "execution_count": 16,
   "id": "c7015111-bb2b-49be-9e3d-21e19ac1ed96",
   "metadata": {},
   "outputs": [],
   "source": [
    "vote_count2 = movies_metadata[movies_metadata['vote_count'].notnull()]['vote_count'].astype('int')"
   ]
  },
  {
   "cell_type": "code",
   "execution_count": 17,
   "id": "c44a11ea-632d-4081-ba69-01fd02cd4845",
   "metadata": {},
   "outputs": [],
   "source": [
    "vote_average2 = movies_metadata[movies_metadata['vote_average'].notnull()]['vote_average'].astype('int')"
   ]
  },
  {
   "cell_type": "code",
   "execution_count": 18,
   "id": "e350dfa7-37dd-4874-b3ba-72da3ecc5c94",
   "metadata": {},
   "outputs": [
    {
     "name": "stdout",
     "output_type": "stream",
     "text": [
      "The Mean value of the voting averages: 5.244896612406511\n"
     ]
    }
   ],
   "source": [
    "C = vote_average2.mean()\n",
    "print(f'The Mean value of the voting averages: {C}')"
   ]
  },
  {
   "cell_type": "code",
   "execution_count": 19,
   "id": "a17cc531-a786-454e-9a23-663fc24090f0",
   "metadata": {},
   "outputs": [
    {
     "name": "stdout",
     "output_type": "stream",
     "text": [
      "The minimum vote count for a movie to consider: 434.0\n"
     ]
    }
   ],
   "source": [
    "m = vote_count2.quantile(0.95)\n",
    "print(f'The minimum vote count for a movie to consider: {m}')"
   ]
  },
  {
   "cell_type": "code",
   "execution_count": 20,
   "id": "c72407f7-0732-41f1-9a5f-ef4fba83a365",
   "metadata": {},
   "outputs": [],
   "source": [
    "# Creating the qualified database-upon whom we shall perfrom the next estimations\n",
    "qualified = movies_metadata[(movies_metadata['vote_count'] >= m) & (movies_metadata['vote_count'].notnull()) & (movies_metadata['vote_average'].notnull())][['title', 'year', 'vote_count', 'vote_average', 'popularity', 'genres']]"
   ]
  },
  {
   "cell_type": "code",
   "execution_count": 21,
   "id": "baad460a-3e51-4a8c-9d32-ceee04e0b61c",
   "metadata": {},
   "outputs": [],
   "source": [
    "qualified['vote_count'] = qualified['vote_count'].astype('int')"
   ]
  },
  {
   "cell_type": "code",
   "execution_count": 22,
   "id": "012bfefb-cba5-4d14-9d76-29f44377e4ac",
   "metadata": {},
   "outputs": [],
   "source": [
    "qualified['vote_average'] = qualified['vote_average'].astype('int')"
   ]
  },
  {
   "cell_type": "code",
   "execution_count": 23,
   "id": "41e1c7ce-b2ab-4de1-9680-311d9639d866",
   "metadata": {},
   "outputs": [
    {
     "name": "stdout",
     "output_type": "stream",
     "text": [
      "The structure of the qualified database is: (2274, 6)\n"
     ]
    }
   ],
   "source": [
    "print(f'The structure of the qualified database is: {qualified.shape}')"
   ]
  },
  {
   "cell_type": "code",
   "execution_count": 24,
   "id": "2d8e3d6f-f968-4b96-8655-0c7b2f4321cd",
   "metadata": {},
   "outputs": [
    {
     "data": {
      "text/html": [
       "<div>\n",
       "<style scoped>\n",
       "    .dataframe tbody tr th:only-of-type {\n",
       "        vertical-align: middle;\n",
       "    }\n",
       "\n",
       "    .dataframe tbody tr th {\n",
       "        vertical-align: top;\n",
       "    }\n",
       "\n",
       "    .dataframe thead th {\n",
       "        text-align: right;\n",
       "    }\n",
       "</style>\n",
       "<table border=\"1\" class=\"dataframe\">\n",
       "  <thead>\n",
       "    <tr style=\"text-align: right;\">\n",
       "      <th></th>\n",
       "      <th>title</th>\n",
       "      <th>year</th>\n",
       "      <th>vote_count</th>\n",
       "      <th>vote_average</th>\n",
       "      <th>popularity</th>\n",
       "      <th>genres</th>\n",
       "    </tr>\n",
       "  </thead>\n",
       "  <tbody>\n",
       "    <tr>\n",
       "      <th>0</th>\n",
       "      <td>Toy Story</td>\n",
       "      <td>1995</td>\n",
       "      <td>5415</td>\n",
       "      <td>7</td>\n",
       "      <td>21.946943</td>\n",
       "      <td>[Animation, Comedy, Family]</td>\n",
       "    </tr>\n",
       "    <tr>\n",
       "      <th>1</th>\n",
       "      <td>Jumanji</td>\n",
       "      <td>1995</td>\n",
       "      <td>2413</td>\n",
       "      <td>6</td>\n",
       "      <td>17.015539</td>\n",
       "      <td>[Adventure, Fantasy, Family]</td>\n",
       "    </tr>\n",
       "    <tr>\n",
       "      <th>5</th>\n",
       "      <td>Heat</td>\n",
       "      <td>1995</td>\n",
       "      <td>1886</td>\n",
       "      <td>7</td>\n",
       "      <td>17.924927</td>\n",
       "      <td>[Action, Crime, Drama, Thriller]</td>\n",
       "    </tr>\n",
       "    <tr>\n",
       "      <th>9</th>\n",
       "      <td>GoldenEye</td>\n",
       "      <td>1995</td>\n",
       "      <td>1194</td>\n",
       "      <td>6</td>\n",
       "      <td>14.686036</td>\n",
       "      <td>[Adventure, Action, Thriller]</td>\n",
       "    </tr>\n",
       "    <tr>\n",
       "      <th>15</th>\n",
       "      <td>Casino</td>\n",
       "      <td>1995</td>\n",
       "      <td>1343</td>\n",
       "      <td>7</td>\n",
       "      <td>10.137389</td>\n",
       "      <td>[Drama, Crime]</td>\n",
       "    </tr>\n",
       "  </tbody>\n",
       "</table>\n",
       "</div>"
      ],
      "text/plain": [
       "        title  year  vote_count  vote_average popularity  \\\n",
       "0   Toy Story  1995        5415             7  21.946943   \n",
       "1     Jumanji  1995        2413             6  17.015539   \n",
       "5        Heat  1995        1886             7  17.924927   \n",
       "9   GoldenEye  1995        1194             6  14.686036   \n",
       "15     Casino  1995        1343             7  10.137389   \n",
       "\n",
       "                              genres  \n",
       "0        [Animation, Comedy, Family]  \n",
       "1       [Adventure, Fantasy, Family]  \n",
       "5   [Action, Crime, Drama, Thriller]  \n",
       "9      [Adventure, Action, Thriller]  \n",
       "15                    [Drama, Crime]  "
      ]
     },
     "execution_count": 24,
     "metadata": {},
     "output_type": "execute_result"
    }
   ],
   "source": [
    "qualified[:5]"
   ]
  },
  {
   "cell_type": "markdown",
   "id": "5a57c1f5-b120-40c6-9711-1242d6ae2ff6",
   "metadata": {},
   "source": [
    "*สรุป* \n",
    "- ภาพยนต์จะต้องมีคะแนนโหวตอย่างน้อย 494 votes ใน TMDB \n",
    "- average rating ของภาพยนต์ใน TMDB คือ 5.244 เต็ม 10 \n",
    "- มี 2274 เรื่อง ที่ตรงตามคุณสมบัติที่กำหนดข้างต้น"
   ]
  },
  {
   "cell_type": "code",
   "execution_count": 25,
   "id": "6981b028-9b86-4a93-9cd6-eccd5e3ba6e0",
   "metadata": {},
   "outputs": [],
   "source": [
    "def weighted_rating(x):\n",
    "    v = x['vote_count']\n",
    "    R = x['vote_average']\n",
    "    return (v / (v + m) * R) + (m / (v + m) * C)"
   ]
  },
  {
   "cell_type": "code",
   "execution_count": 26,
   "id": "f71f384b-528e-4a4d-9494-2c6b35209065",
   "metadata": {},
   "outputs": [],
   "source": [
    "qualified['wr'] = qualified.apply(weighted_rating, axis = 1)"
   ]
  },
  {
   "cell_type": "code",
   "execution_count": 27,
   "id": "97443004-fc0f-476b-b866-4f6b80963c07",
   "metadata": {},
   "outputs": [],
   "source": [
    "qualified = qualified.sort_values('wr', ascending = False).head(250)"
   ]
  },
  {
   "cell_type": "markdown",
   "id": "1680637a-9eb4-4607-bb4a-ea20ef8f7871",
   "metadata": {},
   "source": [
    "## 3.4 Top Movies"
   ]
  },
  {
   "cell_type": "code",
   "execution_count": 28,
   "id": "e2df2cd7-0117-401f-954c-a1e6b0bd9848",
   "metadata": {},
   "outputs": [
    {
     "data": {
      "text/html": [
       "<div>\n",
       "<style scoped>\n",
       "    .dataframe tbody tr th:only-of-type {\n",
       "        vertical-align: middle;\n",
       "    }\n",
       "\n",
       "    .dataframe tbody tr th {\n",
       "        vertical-align: top;\n",
       "    }\n",
       "\n",
       "    .dataframe thead th {\n",
       "        text-align: right;\n",
       "    }\n",
       "</style>\n",
       "<table border=\"1\" class=\"dataframe\">\n",
       "  <thead>\n",
       "    <tr style=\"text-align: right;\">\n",
       "      <th></th>\n",
       "      <th>title</th>\n",
       "      <th>year</th>\n",
       "      <th>vote_count</th>\n",
       "      <th>vote_average</th>\n",
       "      <th>popularity</th>\n",
       "      <th>genres</th>\n",
       "      <th>wr</th>\n",
       "    </tr>\n",
       "  </thead>\n",
       "  <tbody>\n",
       "    <tr>\n",
       "      <th>15480</th>\n",
       "      <td>Inception</td>\n",
       "      <td>2010</td>\n",
       "      <td>14075</td>\n",
       "      <td>8</td>\n",
       "      <td>29.108149</td>\n",
       "      <td>[Action, Thriller, Science Fiction, Mystery, A...</td>\n",
       "      <td>7.917588</td>\n",
       "    </tr>\n",
       "    <tr>\n",
       "      <th>12481</th>\n",
       "      <td>The Dark Knight</td>\n",
       "      <td>2008</td>\n",
       "      <td>12269</td>\n",
       "      <td>8</td>\n",
       "      <td>123.167259</td>\n",
       "      <td>[Drama, Action, Crime, Thriller]</td>\n",
       "      <td>7.905871</td>\n",
       "    </tr>\n",
       "    <tr>\n",
       "      <th>22879</th>\n",
       "      <td>Interstellar</td>\n",
       "      <td>2014</td>\n",
       "      <td>11187</td>\n",
       "      <td>8</td>\n",
       "      <td>32.213481</td>\n",
       "      <td>[Adventure, Drama, Science Fiction]</td>\n",
       "      <td>7.897107</td>\n",
       "    </tr>\n",
       "    <tr>\n",
       "      <th>2843</th>\n",
       "      <td>Fight Club</td>\n",
       "      <td>1999</td>\n",
       "      <td>9678</td>\n",
       "      <td>8</td>\n",
       "      <td>63.869599</td>\n",
       "      <td>[Drama]</td>\n",
       "      <td>7.881753</td>\n",
       "    </tr>\n",
       "    <tr>\n",
       "      <th>4863</th>\n",
       "      <td>The Lord of the Rings: The Fellowship of the Ring</td>\n",
       "      <td>2001</td>\n",
       "      <td>8892</td>\n",
       "      <td>8</td>\n",
       "      <td>32.070725</td>\n",
       "      <td>[Adventure, Fantasy, Action]</td>\n",
       "      <td>7.871787</td>\n",
       "    </tr>\n",
       "    <tr>\n",
       "      <th>292</th>\n",
       "      <td>Pulp Fiction</td>\n",
       "      <td>1994</td>\n",
       "      <td>8670</td>\n",
       "      <td>8</td>\n",
       "      <td>140.950236</td>\n",
       "      <td>[Thriller, Crime]</td>\n",
       "      <td>7.868660</td>\n",
       "    </tr>\n",
       "    <tr>\n",
       "      <th>314</th>\n",
       "      <td>The Shawshank Redemption</td>\n",
       "      <td>1994</td>\n",
       "      <td>8358</td>\n",
       "      <td>8</td>\n",
       "      <td>51.645403</td>\n",
       "      <td>[Drama, Crime]</td>\n",
       "      <td>7.864000</td>\n",
       "    </tr>\n",
       "    <tr>\n",
       "      <th>7000</th>\n",
       "      <td>The Lord of the Rings: The Return of the King</td>\n",
       "      <td>2003</td>\n",
       "      <td>8226</td>\n",
       "      <td>8</td>\n",
       "      <td>29.324358</td>\n",
       "      <td>[Adventure, Fantasy, Action]</td>\n",
       "      <td>7.861927</td>\n",
       "    </tr>\n",
       "    <tr>\n",
       "      <th>351</th>\n",
       "      <td>Forrest Gump</td>\n",
       "      <td>1994</td>\n",
       "      <td>8147</td>\n",
       "      <td>8</td>\n",
       "      <td>48.307194</td>\n",
       "      <td>[Comedy, Drama, Romance]</td>\n",
       "      <td>7.860656</td>\n",
       "    </tr>\n",
       "    <tr>\n",
       "      <th>5814</th>\n",
       "      <td>The Lord of the Rings: The Two Towers</td>\n",
       "      <td>2002</td>\n",
       "      <td>7641</td>\n",
       "      <td>8</td>\n",
       "      <td>29.423537</td>\n",
       "      <td>[Adventure, Fantasy, Action]</td>\n",
       "      <td>7.851924</td>\n",
       "    </tr>\n",
       "  </tbody>\n",
       "</table>\n",
       "</div>"
      ],
      "text/plain": [
       "                                                   title  year  vote_count  \\\n",
       "15480                                          Inception  2010       14075   \n",
       "12481                                    The Dark Knight  2008       12269   \n",
       "22879                                       Interstellar  2014       11187   \n",
       "2843                                          Fight Club  1999        9678   \n",
       "4863   The Lord of the Rings: The Fellowship of the Ring  2001        8892   \n",
       "292                                         Pulp Fiction  1994        8670   \n",
       "314                             The Shawshank Redemption  1994        8358   \n",
       "7000       The Lord of the Rings: The Return of the King  2003        8226   \n",
       "351                                         Forrest Gump  1994        8147   \n",
       "5814               The Lord of the Rings: The Two Towers  2002        7641   \n",
       "\n",
       "       vote_average  popularity  \\\n",
       "15480             8   29.108149   \n",
       "12481             8  123.167259   \n",
       "22879             8   32.213481   \n",
       "2843              8   63.869599   \n",
       "4863              8   32.070725   \n",
       "292               8  140.950236   \n",
       "314               8   51.645403   \n",
       "7000              8   29.324358   \n",
       "351               8   48.307194   \n",
       "5814              8   29.423537   \n",
       "\n",
       "                                                  genres        wr  \n",
       "15480  [Action, Thriller, Science Fiction, Mystery, A...  7.917588  \n",
       "12481                   [Drama, Action, Crime, Thriller]  7.905871  \n",
       "22879                [Adventure, Drama, Science Fiction]  7.897107  \n",
       "2843                                             [Drama]  7.881753  \n",
       "4863                        [Adventure, Fantasy, Action]  7.871787  \n",
       "292                                    [Thriller, Crime]  7.868660  \n",
       "314                                       [Drama, Crime]  7.864000  \n",
       "7000                        [Adventure, Fantasy, Action]  7.861927  \n",
       "351                             [Comedy, Drama, Romance]  7.860656  \n",
       "5814                        [Adventure, Fantasy, Action]  7.851924  "
      ]
     },
     "execution_count": 28,
     "metadata": {},
     "output_type": "execute_result"
    }
   ],
   "source": [
    "qualified.head(10)"
   ]
  },
  {
   "cell_type": "markdown",
   "id": "f1e23fad-b9c1-4ed9-b88f-38b5fbf3cfab",
   "metadata": {},
   "source": [
    "*ข้อสังเกต*  \n",
    "- ภาพยนตร์ของคริสโตเฟอร์ โนแลน 3 เรื่อง ได้แก่ Inception, The Dark Knight และ Interstellar ติดอันดับสูงสุดใน chart \n",
    "- chart ยังระบุถึงอคติที่รุนแรงของผู้ใช้ TMDB ที่มีต่อประเภทและผู้กำกับที่เฉพาะเจาะจง"
   ]
  },
  {
   "cell_type": "markdown",
   "id": "bfae4af4-f5b4-4fe8-93a1-e1cdbeb525b6",
   "metadata": {},
   "source": [
    "## 3.3 Top Movies for particular genre"
   ]
  },
  {
   "cell_type": "markdown",
   "id": "6c164253-eba1-4cd9-aa2a-e13bb3584a00",
   "metadata": {},
   "source": [
    "สร้าง chart สำหรับแต่ละประเภท (genre) ของแต่ละภาพยนต์ และใช้ 85th percentile "
   ]
  },
  {
   "cell_type": "raw",
   "id": "4303a4a9-47be-4b3b-bd02-70c0560762cf",
   "metadata": {},
   "source": [
    "s = movies_metadata.apply(lambda x: pd.Series(x['genres']), axis = 1).stack().reset_index(level = 1, drop = True)\n",
    "s.name = 'genre'"
   ]
  },
  {
   "cell_type": "raw",
   "id": "db0996be-d96d-4852-a51b-2df575fba57c",
   "metadata": {},
   "source": [
    "genre_movies_metadata = movies_metadata.drop('genres', axis = 1).join(s)"
   ]
  },
  {
   "cell_type": "code",
   "execution_count": 29,
   "id": "4f0751a6-a430-45c1-a89a-c73d5776c0a0",
   "metadata": {},
   "outputs": [],
   "source": [
    "genre_movies_metadata = movies_metadata "
   ]
  },
  {
   "cell_type": "code",
   "execution_count": 30,
   "id": "37685ed7-7525-45a2-830b-3d87b1e40ef0",
   "metadata": {},
   "outputs": [],
   "source": [
    "genre_movies_metadata = genre_movies_metadata.explode('genres')"
   ]
  },
  {
   "cell_type": "code",
   "execution_count": 31,
   "id": "9538878b-3cd1-4cc6-8675-d27e93e0ba5b",
   "metadata": {},
   "outputs": [
    {
     "data": {
      "text/html": [
       "<div>\n",
       "<style scoped>\n",
       "    .dataframe tbody tr th:only-of-type {\n",
       "        vertical-align: middle;\n",
       "    }\n",
       "\n",
       "    .dataframe tbody tr th {\n",
       "        vertical-align: top;\n",
       "    }\n",
       "\n",
       "    .dataframe thead th {\n",
       "        text-align: right;\n",
       "    }\n",
       "</style>\n",
       "<table border=\"1\" class=\"dataframe\">\n",
       "  <thead>\n",
       "    <tr style=\"text-align: right;\">\n",
       "      <th></th>\n",
       "      <th>title</th>\n",
       "      <th>year</th>\n",
       "      <th>vote_count</th>\n",
       "      <th>vote_average</th>\n",
       "      <th>popularity</th>\n",
       "      <th>genres</th>\n",
       "    </tr>\n",
       "  </thead>\n",
       "  <tbody>\n",
       "    <tr>\n",
       "      <th>0</th>\n",
       "      <td>Toy Story</td>\n",
       "      <td>1995</td>\n",
       "      <td>5415.0</td>\n",
       "      <td>7.7</td>\n",
       "      <td>21.946943</td>\n",
       "      <td>Animation</td>\n",
       "    </tr>\n",
       "    <tr>\n",
       "      <th>0</th>\n",
       "      <td>Toy Story</td>\n",
       "      <td>1995</td>\n",
       "      <td>5415.0</td>\n",
       "      <td>7.7</td>\n",
       "      <td>21.946943</td>\n",
       "      <td>Comedy</td>\n",
       "    </tr>\n",
       "    <tr>\n",
       "      <th>0</th>\n",
       "      <td>Toy Story</td>\n",
       "      <td>1995</td>\n",
       "      <td>5415.0</td>\n",
       "      <td>7.7</td>\n",
       "      <td>21.946943</td>\n",
       "      <td>Family</td>\n",
       "    </tr>\n",
       "    <tr>\n",
       "      <th>1</th>\n",
       "      <td>Jumanji</td>\n",
       "      <td>1995</td>\n",
       "      <td>2413.0</td>\n",
       "      <td>6.9</td>\n",
       "      <td>17.015539</td>\n",
       "      <td>Adventure</td>\n",
       "    </tr>\n",
       "    <tr>\n",
       "      <th>1</th>\n",
       "      <td>Jumanji</td>\n",
       "      <td>1995</td>\n",
       "      <td>2413.0</td>\n",
       "      <td>6.9</td>\n",
       "      <td>17.015539</td>\n",
       "      <td>Fantasy</td>\n",
       "    </tr>\n",
       "    <tr>\n",
       "      <th>1</th>\n",
       "      <td>Jumanji</td>\n",
       "      <td>1995</td>\n",
       "      <td>2413.0</td>\n",
       "      <td>6.9</td>\n",
       "      <td>17.015539</td>\n",
       "      <td>Family</td>\n",
       "    </tr>\n",
       "    <tr>\n",
       "      <th>2</th>\n",
       "      <td>Grumpier Old Men</td>\n",
       "      <td>1995</td>\n",
       "      <td>92.0</td>\n",
       "      <td>6.5</td>\n",
       "      <td>11.7129</td>\n",
       "      <td>Romance</td>\n",
       "    </tr>\n",
       "    <tr>\n",
       "      <th>2</th>\n",
       "      <td>Grumpier Old Men</td>\n",
       "      <td>1995</td>\n",
       "      <td>92.0</td>\n",
       "      <td>6.5</td>\n",
       "      <td>11.7129</td>\n",
       "      <td>Comedy</td>\n",
       "    </tr>\n",
       "    <tr>\n",
       "      <th>3</th>\n",
       "      <td>Waiting to Exhale</td>\n",
       "      <td>1995</td>\n",
       "      <td>34.0</td>\n",
       "      <td>6.1</td>\n",
       "      <td>3.859495</td>\n",
       "      <td>Comedy</td>\n",
       "    </tr>\n",
       "    <tr>\n",
       "      <th>3</th>\n",
       "      <td>Waiting to Exhale</td>\n",
       "      <td>1995</td>\n",
       "      <td>34.0</td>\n",
       "      <td>6.1</td>\n",
       "      <td>3.859495</td>\n",
       "      <td>Drama</td>\n",
       "    </tr>\n",
       "  </tbody>\n",
       "</table>\n",
       "</div>"
      ],
      "text/plain": [
       "               title  year  vote_count  vote_average popularity     genres\n",
       "0          Toy Story  1995      5415.0           7.7  21.946943  Animation\n",
       "0          Toy Story  1995      5415.0           7.7  21.946943     Comedy\n",
       "0          Toy Story  1995      5415.0           7.7  21.946943     Family\n",
       "1            Jumanji  1995      2413.0           6.9  17.015539  Adventure\n",
       "1            Jumanji  1995      2413.0           6.9  17.015539    Fantasy\n",
       "1            Jumanji  1995      2413.0           6.9  17.015539     Family\n",
       "2   Grumpier Old Men  1995        92.0           6.5    11.7129    Romance\n",
       "2   Grumpier Old Men  1995        92.0           6.5    11.7129     Comedy\n",
       "3  Waiting to Exhale  1995        34.0           6.1   3.859495     Comedy\n",
       "3  Waiting to Exhale  1995        34.0           6.1   3.859495      Drama"
      ]
     },
     "execution_count": 31,
     "metadata": {},
     "output_type": "execute_result"
    }
   ],
   "source": [
    "genre_movies_metadata[['title', 'year', 'vote_count', 'vote_average', 'popularity', 'genres']].head(10)"
   ]
  },
  {
   "cell_type": "code",
   "execution_count": 32,
   "id": "74075868-d15e-4476-b594-f80ca32b94e3",
   "metadata": {},
   "outputs": [],
   "source": [
    "def build_chart(genre, percentile = 0.85):\n",
    "    df = genre_movies_metadata[genre_movies_metadata['genres'] == genre]\n",
    "    vote_count3 = df[df['vote_count'].notnull()]['vote_count'].astype('int')\n",
    "    vote_average3 = df[df['vote_average'].notnull()]['vote_average'].astype('int')\n",
    "    C = vote_average3.mean()\n",
    "    m = vote_count3.quantile(percentile)\n",
    "    \n",
    "    qualified = df[(df['vote_count'] >= m) & (df['vote_count'].notnull()) & (df['vote_average'].notnull())][['title', 'year', 'vote_count', 'vote_average', 'popularity']]\n",
    "    qualified['vote_count'] = qualified['vote_count'].astype('int')\n",
    "    qualified['vote_average'] = qualified['vote_average'].astype('int')\n",
    "    \n",
    "    qualified['wr'] = qualified.apply(lambda x: (x['vote_count'] / (x['vote_count'] + m) * x['vote_average']) + (m / (x['vote_count'] + m) * C), axis = 1)\n",
    "    qualified = qualified.sort_values('wr', ascending = False).head(250)\n",
    "    \n",
    "    return qualified"
   ]
  },
  {
   "cell_type": "code",
   "execution_count": 33,
   "id": "4654ae37-4d2a-49ee-8ff3-207000e046ca",
   "metadata": {},
   "outputs": [
    {
     "data": {
      "text/plain": [
       "array(['Animation', 'Comedy', 'Family', 'Adventure', 'Fantasy', 'Romance',\n",
       "       'Drama', 'Action', 'Crime', 'Thriller', 'Horror', 'History',\n",
       "       'Science Fiction', 'Mystery', 'War', 'Foreign', nan, 'Music',\n",
       "       'Documentary', 'Western', 'TV Movie', 'Carousel Productions',\n",
       "       'Vision View Entertainment', 'Telescene Film Group Productions',\n",
       "       'Aniplex', 'GoHands', 'BROSTA TV',\n",
       "       'Mardock Scramble Production Committee', 'Sentai Filmworks',\n",
       "       'Odyssey Media', 'Pulser Productions', 'Rogue State', 'The Cartel'],\n",
       "      dtype=object)"
      ]
     },
     "execution_count": 33,
     "metadata": {},
     "output_type": "execute_result"
    }
   ],
   "source": [
    "genre_movies_metadata['genres'].unique()"
   ]
  },
  {
   "cell_type": "markdown",
   "id": "e0dfb992-a21a-4b67-b22d-46b15fa32300",
   "metadata": {},
   "source": [
    "### 3.3.1 Top Horror Movies"
   ]
  },
  {
   "cell_type": "markdown",
   "id": "26dd5b05-f811-4d25-b44b-c5ddd72bd78e",
   "metadata": {},
   "source": [
    "https://www.imdb.com/search/title/?genres=horror&title_type=feature&explore=genres"
   ]
  },
  {
   "cell_type": "code",
   "execution_count": 34,
   "id": "98ac4769-ae6b-460d-a068-a0f81b691b42",
   "metadata": {},
   "outputs": [
    {
     "data": {
      "text/html": [
       "<div>\n",
       "<style scoped>\n",
       "    .dataframe tbody tr th:only-of-type {\n",
       "        vertical-align: middle;\n",
       "    }\n",
       "\n",
       "    .dataframe tbody tr th {\n",
       "        vertical-align: top;\n",
       "    }\n",
       "\n",
       "    .dataframe thead th {\n",
       "        text-align: right;\n",
       "    }\n",
       "</style>\n",
       "<table border=\"1\" class=\"dataframe\">\n",
       "  <thead>\n",
       "    <tr style=\"text-align: right;\">\n",
       "      <th></th>\n",
       "      <th>title</th>\n",
       "      <th>year</th>\n",
       "      <th>vote_count</th>\n",
       "      <th>vote_average</th>\n",
       "      <th>popularity</th>\n",
       "      <th>wr</th>\n",
       "    </tr>\n",
       "  </thead>\n",
       "  <tbody>\n",
       "    <tr>\n",
       "      <th>1213</th>\n",
       "      <td>The Shining</td>\n",
       "      <td>1980</td>\n",
       "      <td>3890</td>\n",
       "      <td>8</td>\n",
       "      <td>19.611589</td>\n",
       "      <td>7.901294</td>\n",
       "    </tr>\n",
       "    <tr>\n",
       "      <th>1176</th>\n",
       "      <td>Psycho</td>\n",
       "      <td>1960</td>\n",
       "      <td>2405</td>\n",
       "      <td>8</td>\n",
       "      <td>36.826309</td>\n",
       "      <td>7.843335</td>\n",
       "    </tr>\n",
       "    <tr>\n",
       "      <th>1171</th>\n",
       "      <td>Alien</td>\n",
       "      <td>1979</td>\n",
       "      <td>4564</td>\n",
       "      <td>7</td>\n",
       "      <td>23.37742</td>\n",
       "      <td>6.941936</td>\n",
       "    </tr>\n",
       "    <tr>\n",
       "      <th>41492</th>\n",
       "      <td>Split</td>\n",
       "      <td>2016</td>\n",
       "      <td>4461</td>\n",
       "      <td>7</td>\n",
       "      <td>28.920839</td>\n",
       "      <td>6.940631</td>\n",
       "    </tr>\n",
       "    <tr>\n",
       "      <th>14236</th>\n",
       "      <td>Zombieland</td>\n",
       "      <td>2009</td>\n",
       "      <td>3655</td>\n",
       "      <td>7</td>\n",
       "      <td>11.063029</td>\n",
       "      <td>6.927969</td>\n",
       "    </tr>\n",
       "    <tr>\n",
       "      <th>1158</th>\n",
       "      <td>Aliens</td>\n",
       "      <td>1986</td>\n",
       "      <td>3282</td>\n",
       "      <td>7</td>\n",
       "      <td>21.761179</td>\n",
       "      <td>6.920081</td>\n",
       "    </tr>\n",
       "    <tr>\n",
       "      <th>21276</th>\n",
       "      <td>The Conjuring</td>\n",
       "      <td>2013</td>\n",
       "      <td>3169</td>\n",
       "      <td>7</td>\n",
       "      <td>14.90169</td>\n",
       "      <td>6.917338</td>\n",
       "    </tr>\n",
       "    <tr>\n",
       "      <th>42169</th>\n",
       "      <td>Get Out</td>\n",
       "      <td>2017</td>\n",
       "      <td>2978</td>\n",
       "      <td>7</td>\n",
       "      <td>36.894806</td>\n",
       "      <td>6.912248</td>\n",
       "    </tr>\n",
       "    <tr>\n",
       "      <th>1338</th>\n",
       "      <td>Jaws</td>\n",
       "      <td>1975</td>\n",
       "      <td>2628</td>\n",
       "      <td>7</td>\n",
       "      <td>19.726114</td>\n",
       "      <td>6.901088</td>\n",
       "    </tr>\n",
       "    <tr>\n",
       "      <th>8147</th>\n",
       "      <td>Shaun of the Dead</td>\n",
       "      <td>2004</td>\n",
       "      <td>2479</td>\n",
       "      <td>7</td>\n",
       "      <td>14.902948</td>\n",
       "      <td>6.895426</td>\n",
       "    </tr>\n",
       "  </tbody>\n",
       "</table>\n",
       "</div>"
      ],
      "text/plain": [
       "                   title  year  vote_count  vote_average popularity        wr\n",
       "1213         The Shining  1980        3890             8  19.611589  7.901294\n",
       "1176              Psycho  1960        2405             8  36.826309  7.843335\n",
       "1171               Alien  1979        4564             7   23.37742  6.941936\n",
       "41492              Split  2016        4461             7  28.920839  6.940631\n",
       "14236         Zombieland  2009        3655             7  11.063029  6.927969\n",
       "1158              Aliens  1986        3282             7  21.761179  6.920081\n",
       "21276      The Conjuring  2013        3169             7   14.90169  6.917338\n",
       "42169            Get Out  2017        2978             7  36.894806  6.912248\n",
       "1338                Jaws  1975        2628             7  19.726114  6.901088\n",
       "8147   Shaun of the Dead  2004        2479             7  14.902948  6.895426"
      ]
     },
     "execution_count": 34,
     "metadata": {},
     "output_type": "execute_result"
    }
   ],
   "source": [
    "build_chart(genre = 'Horror').head(10)"
   ]
  },
  {
   "cell_type": "markdown",
   "id": "b53a99da-f9cf-4f33-beca-563bc04a73ab",
   "metadata": {},
   "source": [
    "### 3.3.2 Top Romantic Movies"
   ]
  },
  {
   "cell_type": "code",
   "execution_count": 35,
   "id": "9611664f-d604-4b0b-8e0d-16dc70fcd848",
   "metadata": {},
   "outputs": [
    {
     "data": {
      "text/html": [
       "<div>\n",
       "<style scoped>\n",
       "    .dataframe tbody tr th:only-of-type {\n",
       "        vertical-align: middle;\n",
       "    }\n",
       "\n",
       "    .dataframe tbody tr th {\n",
       "        vertical-align: top;\n",
       "    }\n",
       "\n",
       "    .dataframe thead th {\n",
       "        text-align: right;\n",
       "    }\n",
       "</style>\n",
       "<table border=\"1\" class=\"dataframe\">\n",
       "  <thead>\n",
       "    <tr style=\"text-align: right;\">\n",
       "      <th></th>\n",
       "      <th>title</th>\n",
       "      <th>year</th>\n",
       "      <th>vote_count</th>\n",
       "      <th>vote_average</th>\n",
       "      <th>popularity</th>\n",
       "      <th>wr</th>\n",
       "    </tr>\n",
       "  </thead>\n",
       "  <tbody>\n",
       "    <tr>\n",
       "      <th>10309</th>\n",
       "      <td>Dilwale Dulhania Le Jayenge</td>\n",
       "      <td>1995</td>\n",
       "      <td>661</td>\n",
       "      <td>9</td>\n",
       "      <td>34.457024</td>\n",
       "      <td>8.565285</td>\n",
       "    </tr>\n",
       "    <tr>\n",
       "      <th>351</th>\n",
       "      <td>Forrest Gump</td>\n",
       "      <td>1994</td>\n",
       "      <td>8147</td>\n",
       "      <td>8</td>\n",
       "      <td>48.307194</td>\n",
       "      <td>7.971357</td>\n",
       "    </tr>\n",
       "    <tr>\n",
       "      <th>876</th>\n",
       "      <td>Vertigo</td>\n",
       "      <td>1958</td>\n",
       "      <td>1162</td>\n",
       "      <td>8</td>\n",
       "      <td>18.20822</td>\n",
       "      <td>7.811667</td>\n",
       "    </tr>\n",
       "    <tr>\n",
       "      <th>40251</th>\n",
       "      <td>Your Name.</td>\n",
       "      <td>2016</td>\n",
       "      <td>1030</td>\n",
       "      <td>8</td>\n",
       "      <td>34.461252</td>\n",
       "      <td>7.789489</td>\n",
       "    </tr>\n",
       "    <tr>\n",
       "      <th>883</th>\n",
       "      <td>Some Like It Hot</td>\n",
       "      <td>1959</td>\n",
       "      <td>835</td>\n",
       "      <td>8</td>\n",
       "      <td>11.845107</td>\n",
       "      <td>7.745154</td>\n",
       "    </tr>\n",
       "    <tr>\n",
       "      <th>1132</th>\n",
       "      <td>Cinema Paradiso</td>\n",
       "      <td>1988</td>\n",
       "      <td>834</td>\n",
       "      <td>8</td>\n",
       "      <td>14.177005</td>\n",
       "      <td>7.744878</td>\n",
       "    </tr>\n",
       "    <tr>\n",
       "      <th>19901</th>\n",
       "      <td>Paperman</td>\n",
       "      <td>2012</td>\n",
       "      <td>734</td>\n",
       "      <td>8</td>\n",
       "      <td>7.198633</td>\n",
       "      <td>7.713951</td>\n",
       "    </tr>\n",
       "    <tr>\n",
       "      <th>37863</th>\n",
       "      <td>Sing Street</td>\n",
       "      <td>2016</td>\n",
       "      <td>669</td>\n",
       "      <td>8</td>\n",
       "      <td>10.672862</td>\n",
       "      <td>7.689483</td>\n",
       "    </tr>\n",
       "    <tr>\n",
       "      <th>882</th>\n",
       "      <td>The Apartment</td>\n",
       "      <td>1960</td>\n",
       "      <td>498</td>\n",
       "      <td>8</td>\n",
       "      <td>11.994281</td>\n",
       "      <td>7.599317</td>\n",
       "    </tr>\n",
       "    <tr>\n",
       "      <th>38718</th>\n",
       "      <td>The Handmaiden</td>\n",
       "      <td>2016</td>\n",
       "      <td>453</td>\n",
       "      <td>8</td>\n",
       "      <td>16.727405</td>\n",
       "      <td>7.566166</td>\n",
       "    </tr>\n",
       "  </tbody>\n",
       "</table>\n",
       "</div>"
      ],
      "text/plain": [
       "                             title  year  vote_count  vote_average popularity  \\\n",
       "10309  Dilwale Dulhania Le Jayenge  1995         661             9  34.457024   \n",
       "351                   Forrest Gump  1994        8147             8  48.307194   \n",
       "876                        Vertigo  1958        1162             8   18.20822   \n",
       "40251                   Your Name.  2016        1030             8  34.461252   \n",
       "883               Some Like It Hot  1959         835             8  11.845107   \n",
       "1132               Cinema Paradiso  1988         834             8  14.177005   \n",
       "19901                     Paperman  2012         734             8   7.198633   \n",
       "37863                  Sing Street  2016         669             8  10.672862   \n",
       "882                  The Apartment  1960         498             8  11.994281   \n",
       "38718               The Handmaiden  2016         453             8  16.727405   \n",
       "\n",
       "             wr  \n",
       "10309  8.565285  \n",
       "351    7.971357  \n",
       "876    7.811667  \n",
       "40251  7.789489  \n",
       "883    7.745154  \n",
       "1132   7.744878  \n",
       "19901  7.713951  \n",
       "37863  7.689483  \n",
       "882    7.599317  \n",
       "38718  7.566166  "
      ]
     },
     "execution_count": 35,
     "metadata": {},
     "output_type": "execute_result"
    }
   ],
   "source": [
    "build_chart(genre = 'Romance').head(10)"
   ]
  },
  {
   "cell_type": "markdown",
   "id": "2d15171b-6885-4774-8948-b4cefbcb5221",
   "metadata": {
    "jp-MarkdownHeadingCollapsed": true,
    "tags": []
   },
   "source": [
    "**[Back to Table of Contents](#8)**\n",
    "\n",
    "***"
   ]
  },
  {
   "cell_type": "markdown",
   "id": "15950a2f-ab18-49ea-8857-24893e0171cd",
   "metadata": {},
   "source": [
    "<a id=\"4\"></a> \n",
    "# 4. Content-based filtering"
   ]
  },
  {
   "cell_type": "markdown",
   "id": "503ce604-1b62-457a-92f9-9c4fc939575c",
   "metadata": {},
   "source": [
    "ระบบแนะนำภาพยนต์ที่ได้สร้างไว้ก่อนหน้านี้มีข้อจำกัด ได้แก่ การให้คำแนะนำแบบเดียวกับผู้ใช้ทุกคน โดยไม่ได้คำนึงถึงรสนิยมส่วนตัวของผู้ใช้ ถ้าคนที่รักภาพยนต์ประเภท Romance และไม่ชอบภาพยนต์ประเภท Action ได้ดู Top 10 Chart ก็จะไม่ชอบภาพยนต์เหล่านั้น และถ้าไปดู Chart ตาม Genre กก็ยังไม่ได้รับคำแนะนำที่ดีที่สุด เช่น ถ้าคนรัก Dilwale Dulhania Le Jayenge, My Name is Khan และ Kabhi Khushi Kabhi Gham สามารถอนุมานได้อย่างหนึ่งว่า บุคคลนั้นรักนักแสดง ชาห์รุกห์ ข่าน และผู้กำกับ การาน โจฮาร์ แม้ว่าเขาจะต้องเข้าถึง Chart Romance เขาจะไม่พบว่าสิ่งเหล่านี้เป็นคำแนะนำอันดับต้น ๆ\n"
   ]
  },
  {
   "cell_type": "markdown",
   "id": "fbf7d5f1-467e-4e08-9382-e16aaeb19ae2",
   "metadata": {},
   "source": [
    "**Content-based filtering (การคัดกรองผ่านลักษณะสินค้าที่เหมือนกัน)** เป็นการคัดกรองที่ระบบจะแนะนำสินค้าที่มีลักษณะคล้ายกับสิ่งที่ผู้ใช้งานคนนั้นเคยสนใจในอดีต \n",
    "\n",
    "![](https://image.ibb.co/f6mDXU/conten.png)\n",
    "\n",
    "\n",
    "We will build two Content Based Recommenders based on:\n",
    "\n",
    "    1.) Movie Overviews and Taglines (Movie Description Based Recommender)\n",
    "    2.) Movie Cast, Crew, Keywords and Genre (Director, Cast, Genres and Keywords Based Recommender)"
   ]
  },
  {
   "cell_type": "markdown",
   "id": "21e44164-bb55-42c2-9a3c-f340d0646e3a",
   "metadata": {},
   "source": [
    "## 4.1 Movie Description Based Recommender"
   ]
  },
  {
   "cell_type": "markdown",
   "id": "e5a52fd0-f8cd-4bee-add2-0a8260a790ae",
   "metadata": {},
   "source": [
    "### 4.1.1 Cleaning the Dataset"
   ]
  },
  {
   "cell_type": "code",
   "execution_count": 36,
   "id": "f83e520c-ac91-497a-b2cd-f8a3f96bacc4",
   "metadata": {},
   "outputs": [],
   "source": [
    "links_small = pd.read_csv('The Movies Dataset/links_small.csv')"
   ]
  },
  {
   "cell_type": "code",
   "execution_count": 37,
   "id": "ab7c471e-54df-49b2-b973-dab163d2be90",
   "metadata": {},
   "outputs": [
    {
     "data": {
      "text/html": [
       "<div>\n",
       "<style scoped>\n",
       "    .dataframe tbody tr th:only-of-type {\n",
       "        vertical-align: middle;\n",
       "    }\n",
       "\n",
       "    .dataframe tbody tr th {\n",
       "        vertical-align: top;\n",
       "    }\n",
       "\n",
       "    .dataframe thead th {\n",
       "        text-align: right;\n",
       "    }\n",
       "</style>\n",
       "<table border=\"1\" class=\"dataframe\">\n",
       "  <thead>\n",
       "    <tr style=\"text-align: right;\">\n",
       "      <th></th>\n",
       "      <th>movieId</th>\n",
       "      <th>imdbId</th>\n",
       "      <th>tmdbId</th>\n",
       "    </tr>\n",
       "  </thead>\n",
       "  <tbody>\n",
       "    <tr>\n",
       "      <th>0</th>\n",
       "      <td>1</td>\n",
       "      <td>114709</td>\n",
       "      <td>862.0</td>\n",
       "    </tr>\n",
       "    <tr>\n",
       "      <th>1</th>\n",
       "      <td>2</td>\n",
       "      <td>113497</td>\n",
       "      <td>8844.0</td>\n",
       "    </tr>\n",
       "    <tr>\n",
       "      <th>2</th>\n",
       "      <td>3</td>\n",
       "      <td>113228</td>\n",
       "      <td>15602.0</td>\n",
       "    </tr>\n",
       "    <tr>\n",
       "      <th>3</th>\n",
       "      <td>4</td>\n",
       "      <td>114885</td>\n",
       "      <td>31357.0</td>\n",
       "    </tr>\n",
       "    <tr>\n",
       "      <th>4</th>\n",
       "      <td>5</td>\n",
       "      <td>113041</td>\n",
       "      <td>11862.0</td>\n",
       "    </tr>\n",
       "  </tbody>\n",
       "</table>\n",
       "</div>"
      ],
      "text/plain": [
       "   movieId  imdbId   tmdbId\n",
       "0        1  114709    862.0\n",
       "1        2  113497   8844.0\n",
       "2        3  113228  15602.0\n",
       "3        4  114885  31357.0\n",
       "4        5  113041  11862.0"
      ]
     },
     "execution_count": 37,
     "metadata": {},
     "output_type": "execute_result"
    }
   ],
   "source": [
    "links_small.head()"
   ]
  },
  {
   "cell_type": "code",
   "execution_count": 38,
   "id": "5d6e2898-e7a6-47b4-9bf1-49b27c170dce",
   "metadata": {},
   "outputs": [
    {
     "name": "stdout",
     "output_type": "stream",
     "text": [
      "<class 'pandas.core.frame.DataFrame'>\n",
      "RangeIndex: 9125 entries, 0 to 9124\n",
      "Data columns (total 3 columns):\n",
      " #   Column   Non-Null Count  Dtype  \n",
      "---  ------   --------------  -----  \n",
      " 0   movieId  9125 non-null   int64  \n",
      " 1   imdbId   9125 non-null   int64  \n",
      " 2   tmdbId   9112 non-null   float64\n",
      "dtypes: float64(1), int64(2)\n",
      "memory usage: 214.0 KB\n"
     ]
    }
   ],
   "source": [
    "links_small.info()"
   ]
  },
  {
   "cell_type": "code",
   "execution_count": 39,
   "id": "f6bd6983-ff6c-4342-a5d3-d6736e506d0a",
   "metadata": {},
   "outputs": [
    {
     "data": {
      "text/plain": [
       "movieId     0\n",
       "imdbId      0\n",
       "tmdbId     13\n",
       "dtype: int64"
      ]
     },
     "execution_count": 39,
     "metadata": {},
     "output_type": "execute_result"
    }
   ],
   "source": [
    "links_small.isna().sum()"
   ]
  },
  {
   "cell_type": "code",
   "execution_count": 40,
   "id": "51cf310e-54fe-41e7-9289-1b933cb7a651",
   "metadata": {},
   "outputs": [],
   "source": [
    "links_small = links_small[links_small['tmdbId'].notnull()]['tmdbId'].astype('int')"
   ]
  },
  {
   "cell_type": "code",
   "execution_count": 41,
   "id": "e3e80d8b-235e-4ebd-bd9b-1a88a2adb1e4",
   "metadata": {},
   "outputs": [
    {
     "data": {
      "text/plain": [
       "0      862\n",
       "1     8844\n",
       "2    15602\n",
       "3    31357\n",
       "4    11862\n",
       "Name: tmdbId, dtype: int32"
      ]
     },
     "execution_count": 41,
     "metadata": {},
     "output_type": "execute_result"
    }
   ],
   "source": [
    "links_small.head()"
   ]
  },
  {
   "cell_type": "code",
   "execution_count": 42,
   "id": "68853c26-5aca-4831-bc95-56a26174730e",
   "metadata": {},
   "outputs": [
    {
     "data": {
      "text/plain": [
       "0"
      ]
     },
     "execution_count": 42,
     "metadata": {},
     "output_type": "execute_result"
    }
   ],
   "source": [
    "links_small.isna().sum()"
   ]
  },
  {
   "cell_type": "code",
   "execution_count": 43,
   "id": "fc18fa12-7d4d-487b-b878-15b14cb23963",
   "metadata": {},
   "outputs": [],
   "source": [
    "# Deleting the unwanted input rows\n",
    "movies_metadata = movies_metadata.drop([19730, 29503, 35587])"
   ]
  },
  {
   "cell_type": "code",
   "execution_count": 44,
   "id": "441a1b9d-31e7-4723-8daa-b4617bd15362",
   "metadata": {},
   "outputs": [],
   "source": [
    "movies_metadata['id'] = movies_metadata['id'].astype('int')"
   ]
  },
  {
   "cell_type": "code",
   "execution_count": 45,
   "id": "3e68660a-6f19-4cf4-b771-97b9a18b966b",
   "metadata": {},
   "outputs": [],
   "source": [
    "movies_metadata_small = movies_metadata[movies_metadata['id'].isin(links_small)]"
   ]
  },
  {
   "cell_type": "code",
   "execution_count": 46,
   "id": "6c870435-fe19-4454-bcc1-dee1b13af07f",
   "metadata": {},
   "outputs": [
    {
     "name": "stdout",
     "output_type": "stream",
     "text": [
      "The structure of the movies metadata small is: (9099, 25)\n"
     ]
    }
   ],
   "source": [
    "print(f'The structure of the movies metadata small is: {movies_metadata_small.shape}')"
   ]
  },
  {
   "cell_type": "markdown",
   "id": "e3f78d6e-1a4f-44fc-ae98-790f43ec982e",
   "metadata": {},
   "source": [
    "### 4.1.2 Pre-Processing the overview and tagline columns"
   ]
  },
  {
   "cell_type": "code",
   "execution_count": 47,
   "id": "78281db7-0fb7-4d6c-a86c-eca002b47291",
   "metadata": {},
   "outputs": [],
   "source": [
    "movies_metadata_small['tagline'] = movies_metadata_small['tagline'].fillna('')"
   ]
  },
  {
   "cell_type": "code",
   "execution_count": 48,
   "id": "8df35ad0-8b5e-4a4c-a268-938bc437fa71",
   "metadata": {},
   "outputs": [],
   "source": [
    "movies_metadata_small['description'] = movies_metadata_small['overview'] + movies_metadata_small['tagline']\n",
    "movies_metadata_small['description'] = movies_metadata_small['description'].fillna('')"
   ]
  },
  {
   "cell_type": "code",
   "execution_count": 49,
   "id": "cb93f297-498a-4f3a-a0ce-95df633474e9",
   "metadata": {},
   "outputs": [
    {
     "data": {
      "text/plain": [
       "0    Led by Woody, Andy's toys live happily in his ...\n",
       "1    When siblings Judy and Peter discover an encha...\n",
       "2    A family wedding reignites the ancient feud be...\n",
       "3    Cheated on, mistreated and stepped on, the wom...\n",
       "4    Just when George Banks has recovered from his ...\n",
       "Name: description, dtype: object"
      ]
     },
     "execution_count": 49,
     "metadata": {},
     "output_type": "execute_result"
    }
   ],
   "source": [
    "movies_metadata_small['description'].head()"
   ]
  },
  {
   "cell_type": "markdown",
   "id": "e467a43b-7a9b-4635-91da-96b217d74107",
   "metadata": {},
   "source": [
    "### 4.1.3 TF-IDF Vectoriser"
   ]
  },
  {
   "cell_type": "markdown",
   "id": "57032670-faf5-4d08-a3f9-6d2c389d5491",
   "metadata": {},
   "source": [
    "`TF-IDF` หรือ **Term Frequency-Inverse Document Frequency** เป็นหนึ่งในวิธีหา “คำ(term)” ที่สำคัญ ใน “เอกสาร(document)” โดยดูจากเนื้อหาของเอกสารทั้งหมด โดยวัดจากค่าของ Term Frequency และ Inverse Document Frequency \n",
    "\n",
    "![](https://bigdata.go.th/wp-content/uploads/2020/09/TF-1.png)\n",
    "\n",
    "![](https://bigdata.go.th/wp-content/uploads/2020/09/IDF-1-768x130.png)\n",
    "\n",
    "![](https://bigdata.go.th/wp-content/uploads/2020/09/TFIDF-1-300x68.png)"
   ]
  },
  {
   "cell_type": "code",
   "execution_count": 50,
   "id": "210070f4-c188-44bc-a638-bfee527b2a9b",
   "metadata": {},
   "outputs": [],
   "source": [
    "tf = TfidfVectorizer(analyzer = 'word', \n",
    "                     ngram_range = (1, 2), \n",
    "                     min_df = 0, \n",
    "                     stop_words = 'english')\n",
    "tfidf_matrix = tf.fit_transform(movies_metadata_small['description'])"
   ]
  },
  {
   "cell_type": "code",
   "execution_count": 51,
   "id": "b8a6c738-9af2-48d5-9454-e3ced92655ce",
   "metadata": {},
   "outputs": [
    {
     "name": "stdout",
     "output_type": "stream",
     "text": [
      "No. of feature_words: (9099, 268124)\n"
     ]
    }
   ],
   "source": [
    "print(f'No. of feature_words: {tfidf_matrix.shape}')"
   ]
  },
  {
   "cell_type": "markdown",
   "id": "fc278116-0706-411c-9ebf-3abecd2e1c3b",
   "metadata": {},
   "source": [
    "*สรุป*  \n",
    "มีการใช้คำ 268124 คำ เพื่ออธิบายภาพยนต์ 9099 เรื่อง"
   ]
  },
  {
   "cell_type": "markdown",
   "id": "6c1ac1d1-fe86-4a12-96b0-a4aa40b9804a",
   "metadata": {},
   "source": [
    "### 4.1.4 Cosine Similarity"
   ]
  },
  {
   "cell_type": "markdown",
   "id": "3bd1aa43-1e06-4576-844d-756d7ded7458",
   "metadata": {},
   "source": [
    "`Cosine Similarity` หรือ **ความคล้ายคลึงแบบโคไซน์** คือ การหาความเหมือนของข้อมูล โดยใช้ค่าโคไซน์จากการวัดค่าข้อมูลเป็นลายลักษณ์อักษรในเทคนิคการกรองแบบอิงเนื้อหา (Content-Based Filtering) จะถูกใช้เพื่อวัดความเหมือนระหว่างเวกเตอร์ของน้ำหนัก TF-IDF ค่าโคไซน์จะมีค่าอยู่ระหว่าง 0 ถึง 1 ยกตัวอย่างเช่น ค่า 1 หมายถึง ข้อมูล A และข้อมูล B มีลักษณะข้อมูลที่เหมือนกัน และส่วนของค่า 0 นั้นหมายถึงข้อมูล A และข้อมูล B มีลักษณะข้อมูลที่ไม่เหมือนกัน โดยมีที่มาจากกฏสามเหลี่ยมคือ cos(θ) = ชิด/ฉาก โดยที่ A และ B คือรายการที่ต่างกัน "
   ]
  },
  {
   "cell_type": "markdown",
   "id": "a64c3e49-eb22-4efb-aee5-e54f606f12bb",
   "metadata": {},
   "source": [
    "ใช้ `cosine similarity` ในการคำนวณตัวเลขเชิงปริมาณที่แสดงถึงความคล้ายคลึงกันระหว่างภาพยนตร์สองเรื่อง เราใช้คะแนนความคล้ายคลึงกันของโคไซน์เนื่องจากไม่ขึ้นอยู่กับขนาดและคำนวณได้ง่ายและรวดเร็ว ในทางคณิตศาสตร์กำหนดไว้ดังนี้\n",
    "\n",
    "![](https://wikimedia.org/api/rest_v1/media/math/render/svg/0a4c9a778656537624a3303e646559a429868863)\n",
    "\n",
    "![](https://media.licdn.com/dms/image/C4E12AQF9Q-nIc3bkhQ/article-inline_image-shrink_1500_2232/0/1535343574742?e=1687996800&v=beta&t=FagULUTkUOMLNoq7O_DoQQY-c5BQ_WdVq9GoIteg27o)\n",
    "\n",
    "เนื่องจากเราใช้ `TF-IDF Vectorizer` การคำนวณ Dot Product จะทำให้เราได้คะแนนความคล้ายคลึงกันของโคไซน์โดยตรง ดังนั้น เราจะใช้ `linear_kernel` ของ `sklearn` แทน `cosine_similarities` เนื่องจากเร็วกว่ามาก"
   ]
  },
  {
   "cell_type": "code",
   "execution_count": 52,
   "id": "5019ca53-6df2-45bd-bf8e-0b6c15b77eb1",
   "metadata": {},
   "outputs": [],
   "source": [
    "cosine_sim = linear_kernel(tfidf_matrix, tfidf_matrix)"
   ]
  },
  {
   "cell_type": "code",
   "execution_count": 53,
   "id": "84df9e27-9dc6-46a5-a948-c7ac7bedb943",
   "metadata": {},
   "outputs": [
    {
     "data": {
      "text/plain": [
       "array([1.        , 0.00680476, 0.        , ..., 0.        , 0.00344913,\n",
       "       0.        ])"
      ]
     },
     "execution_count": 53,
     "metadata": {},
     "output_type": "execute_result"
    }
   ],
   "source": [
    "cosine_sim[0]"
   ]
  },
  {
   "cell_type": "markdown",
   "id": "503f23d4-0603-493f-9d6c-bd791a535cd3",
   "metadata": {},
   "source": [
    "### 4.1.5 Get Recommendations"
   ]
  },
  {
   "cell_type": "code",
   "execution_count": 54,
   "id": "60dd185b-fdd6-4dea-becb-1ed3c742e747",
   "metadata": {},
   "outputs": [],
   "source": [
    "movies_metadata_small = movies_metadata_small.reset_index()\n",
    "titles = movies_metadata_small['title']\n",
    "indices = pd.Series(movies_metadata_small.index, index = movies_metadata_small['title'])"
   ]
  },
  {
   "cell_type": "code",
   "execution_count": 55,
   "id": "57956482-1f07-43fb-9496-7020b195ab39",
   "metadata": {},
   "outputs": [],
   "source": [
    "# Function that takes in movie title as input and outputs most similar movies\n",
    "def get_recommendations(title, cosine_sim = cosine_sim):\n",
    "    # Get the index of the movie that matches the title\n",
    "    idx = indices[title]\n",
    "\n",
    "    # Get the pairwsie similarity scores of all movies with that movie\n",
    "    sim_scores = list(enumerate(cosine_sim[idx]))\n",
    "\n",
    "    # Sort the movies based on the similarity scores\n",
    "    sim_scores = sorted(sim_scores, key = lambda x: x[1], reverse = True)\n",
    "\n",
    "    # Get the scores of the 10 most similar movies\n",
    "    sim_scores = sim_scores[1:11]\n",
    "\n",
    "    # Get the movie indices\n",
    "    movie_indices = [i[0] for i in sim_scores]\n",
    "\n",
    "    # Return the top 10 most similar movies\n",
    "    return titles.iloc[movie_indices]"
   ]
  },
  {
   "cell_type": "code",
   "execution_count": 56,
   "id": "53b5c724-0d65-4e16-a960-8bc8d5d8672d",
   "metadata": {},
   "outputs": [
    {
     "name": "stdout",
     "output_type": "stream",
     "text": [
      "Description of the Movie: 3 Idiots\n",
      "---------------------------------------------------------------------\n",
      "7422    In the tradition of “Ferris Bueller’s Day Off”...\n",
      "Name: overview, dtype: object\n",
      "---------------------------------------------------------------------\n",
      "Recommendations: \n"
     ]
    },
    {
     "data": {
      "text/plain": [
       "2336                             Ferris Bueller's Day Off\n",
       "8161                                  Student of the Year\n",
       "262                                              Outbreak\n",
       "2658                                  The Next Best Thing\n",
       "4378    Come Back to the 5 & Dime, Jimmy Dean, Jimmy Dean\n",
       "1861                                   Enemy of the State\n",
       "3098                                          Bring It On\n",
       "7866                                            Contagion\n",
       "4543                                    What a Girl Wants\n",
       "5373                                              College\n",
       "Name: title, dtype: object"
      ]
     },
     "execution_count": 56,
     "metadata": {},
     "output_type": "execute_result"
    }
   ],
   "source": [
    "movie = '3 Idiots'\n",
    "print(f'Description of the Movie: {movie}')\n",
    "print('---------------------------------------------------------------------')\n",
    "print(movies_metadata_small[movies_metadata_small['title'] == movie]['overview'])\n",
    "print('---------------------------------------------------------------------')\n",
    "print(f'Recommendations: ')\n",
    "get_recommendations(movie, cosine_sim = cosine_sim)"
   ]
  },
  {
   "cell_type": "code",
   "execution_count": 57,
   "id": "a08e8955-b180-43e7-900a-739b6684aa02",
   "metadata": {},
   "outputs": [
    {
     "name": "stdout",
     "output_type": "stream",
     "text": [
      "Description of the Movie: The Dark Knight Rises\n",
      "---------------------------------------------------------------------\n",
      "7931    Following the death of District Attorney Harve...\n",
      "Name: overview, dtype: object\n",
      "---------------------------------------------------------------------\n",
      "Recommendations: \n"
     ]
    },
    {
     "data": {
      "text/plain": [
       "132                              Batman Forever\n",
       "6900                            The Dark Knight\n",
       "1113                             Batman Returns\n",
       "2579               Batman: Mask of the Phantasm\n",
       "524                                      Batman\n",
       "7565                 Batman: Under the Red Hood\n",
       "7901                           Batman: Year One\n",
       "8227    Batman: The Dark Knight Returns, Part 2\n",
       "6144                              Batman Begins\n",
       "8165    Batman: The Dark Knight Returns, Part 1\n",
       "Name: title, dtype: object"
      ]
     },
     "execution_count": 57,
     "metadata": {},
     "output_type": "execute_result"
    }
   ],
   "source": [
    "movie = 'The Dark Knight Rises'\n",
    "print(f'Description of the Movie: {movie}')\n",
    "print('---------------------------------------------------------------------')\n",
    "print(movies_metadata_small[movies_metadata_small['title'] == movie]['overview'])\n",
    "print('---------------------------------------------------------------------')\n",
    "print(f'Recommendations: ')\n",
    "get_recommendations(movie, cosine_sim = cosine_sim)"
   ]
  },
  {
   "cell_type": "code",
   "execution_count": 58,
   "id": "7cfae8a1-6222-43fe-a566-a716a2bf0c6d",
   "metadata": {},
   "outputs": [
    {
     "name": "stdout",
     "output_type": "stream",
     "text": [
      "Description of the Movie: The Dark Knight\n",
      "---------------------------------------------------------------------\n",
      "6900    Batman raises the stakes in his war on crime. ...\n",
      "Name: overview, dtype: object\n",
      "---------------------------------------------------------------------\n",
      "Recommendations: \n"
     ]
    },
    {
     "data": {
      "text/plain": [
       "7931                      The Dark Knight Rises\n",
       "132                              Batman Forever\n",
       "1113                             Batman Returns\n",
       "8227    Batman: The Dark Knight Returns, Part 2\n",
       "7565                 Batman: Under the Red Hood\n",
       "524                                      Batman\n",
       "7901                           Batman: Year One\n",
       "2579               Batman: Mask of the Phantasm\n",
       "2696                                        JFK\n",
       "8165    Batman: The Dark Knight Returns, Part 1\n",
       "Name: title, dtype: object"
      ]
     },
     "execution_count": 58,
     "metadata": {},
     "output_type": "execute_result"
    }
   ],
   "source": [
    "movie = 'The Dark Knight'\n",
    "print(f'Description of the Movie: {movie}')\n",
    "print('---------------------------------------------------------------------')\n",
    "print(movies_metadata_small[movies_metadata_small['title'] == movie]['overview'])\n",
    "print('---------------------------------------------------------------------')\n",
    "print(f'Recommendations: ')\n",
    "get_recommendations(movie, cosine_sim = cosine_sim)"
   ]
  },
  {
   "cell_type": "markdown",
   "id": "8c162e90-1403-402a-aa98-b10676a01927",
   "metadata": {},
   "source": [
    "*ข้อสังเกต*  \n",
    "เห็นได้ว่าสำหรับ **The Dark Knight** ระบบแนะนำสามารถระบุได้ว่าภาพยนตร์เรื่องนี้เป็นภาพยนตร์ **Batman** และแนะนำภาพยนตร์ Batman เรื่องอื่นเป็นรายการแนะนำอันดับต้น ๆ ในภายหลัง การดำเนินการนี้ไม่มีประโยชน์มากนักสำหรับคนส่วนใหญ่ เนื่องจากไม่คำนึงถึงคุณสมบัติที่สำคัญมาก เช่น `cast` (นักแสดง), `crew` (ทีมงาน) `director` (ผู้กำกับ) และ `genre` (ประเภท) ซึ่งเป็นตัวกำหนดเรทติ้งและความนิยมของภาพยนตร์ คนที่ชอบ **The Dark Knight** อาจจะชอบเรื่องนี้มากกว่าเพราะ **Noland** และจะไม่ชอบ **Batman Forever** และหนังที่ไม่ได้มาตรฐานทุกเรื่องในแฟรนไชส์ **Batman**\n",
    "\n",
    "*สรุป*  \n",
    "ดังนั้น เราจะใช้ระบบแนะนำที่มากกว่า `Overview` และ `Tagline` ในส่วนถัดไป โดยสร้างระบบแนะนำที่ซับซ้อนขึ้นโดยคำนึงถึง `genre`, `keywords`, `cast`, `director` และ `crew`"
   ]
  },
  {
   "cell_type": "markdown",
   "id": "341db9e1-7ae7-4b23-b5b9-78c733580ab5",
   "metadata": {},
   "source": [
    "## 4.2 Director, Cast, Genres and Keywords Based Recommender"
   ]
  },
  {
   "cell_type": "markdown",
   "id": "d4e2ceaa-c020-4f1b-89ac-7877bf6fbbaa",
   "metadata": {},
   "source": [
    "### 4.2.1 Cleaning the Dataset"
   ]
  },
  {
   "cell_type": "code",
   "execution_count": 59,
   "id": "71778fee-de19-449f-bdb1-7916652c5414",
   "metadata": {},
   "outputs": [],
   "source": [
    "credits = pd.read_csv('The Movies Dataset/credits.csv')\n",
    "keywords = pd.read_csv('The Movies Dataset/keywords.csv')"
   ]
  },
  {
   "cell_type": "code",
   "execution_count": 60,
   "id": "7a2abf7c-cce1-4bce-873f-c1d5f2c2f1ab",
   "metadata": {},
   "outputs": [
    {
     "data": {
      "text/html": [
       "<div>\n",
       "<style scoped>\n",
       "    .dataframe tbody tr th:only-of-type {\n",
       "        vertical-align: middle;\n",
       "    }\n",
       "\n",
       "    .dataframe tbody tr th {\n",
       "        vertical-align: top;\n",
       "    }\n",
       "\n",
       "    .dataframe thead th {\n",
       "        text-align: right;\n",
       "    }\n",
       "</style>\n",
       "<table border=\"1\" class=\"dataframe\">\n",
       "  <thead>\n",
       "    <tr style=\"text-align: right;\">\n",
       "      <th></th>\n",
       "      <th>cast</th>\n",
       "      <th>crew</th>\n",
       "      <th>id</th>\n",
       "    </tr>\n",
       "  </thead>\n",
       "  <tbody>\n",
       "    <tr>\n",
       "      <th>0</th>\n",
       "      <td>[{'cast_id': 14, 'character': 'Woody (voice)',...</td>\n",
       "      <td>[{'credit_id': '52fe4284c3a36847f8024f49', 'de...</td>\n",
       "      <td>862</td>\n",
       "    </tr>\n",
       "    <tr>\n",
       "      <th>1</th>\n",
       "      <td>[{'cast_id': 1, 'character': 'Alan Parrish', '...</td>\n",
       "      <td>[{'credit_id': '52fe44bfc3a36847f80a7cd1', 'de...</td>\n",
       "      <td>8844</td>\n",
       "    </tr>\n",
       "    <tr>\n",
       "      <th>2</th>\n",
       "      <td>[{'cast_id': 2, 'character': 'Max Goldman', 'c...</td>\n",
       "      <td>[{'credit_id': '52fe466a9251416c75077a89', 'de...</td>\n",
       "      <td>15602</td>\n",
       "    </tr>\n",
       "    <tr>\n",
       "      <th>3</th>\n",
       "      <td>[{'cast_id': 1, 'character': \"Savannah 'Vannah...</td>\n",
       "      <td>[{'credit_id': '52fe44779251416c91011acb', 'de...</td>\n",
       "      <td>31357</td>\n",
       "    </tr>\n",
       "    <tr>\n",
       "      <th>4</th>\n",
       "      <td>[{'cast_id': 1, 'character': 'George Banks', '...</td>\n",
       "      <td>[{'credit_id': '52fe44959251416c75039ed7', 'de...</td>\n",
       "      <td>11862</td>\n",
       "    </tr>\n",
       "  </tbody>\n",
       "</table>\n",
       "</div>"
      ],
      "text/plain": [
       "                                                cast  \\\n",
       "0  [{'cast_id': 14, 'character': 'Woody (voice)',...   \n",
       "1  [{'cast_id': 1, 'character': 'Alan Parrish', '...   \n",
       "2  [{'cast_id': 2, 'character': 'Max Goldman', 'c...   \n",
       "3  [{'cast_id': 1, 'character': \"Savannah 'Vannah...   \n",
       "4  [{'cast_id': 1, 'character': 'George Banks', '...   \n",
       "\n",
       "                                                crew     id  \n",
       "0  [{'credit_id': '52fe4284c3a36847f8024f49', 'de...    862  \n",
       "1  [{'credit_id': '52fe44bfc3a36847f80a7cd1', 'de...   8844  \n",
       "2  [{'credit_id': '52fe466a9251416c75077a89', 'de...  15602  \n",
       "3  [{'credit_id': '52fe44779251416c91011acb', 'de...  31357  \n",
       "4  [{'credit_id': '52fe44959251416c75039ed7', 'de...  11862  "
      ]
     },
     "execution_count": 60,
     "metadata": {},
     "output_type": "execute_result"
    }
   ],
   "source": [
    "credits.head()"
   ]
  },
  {
   "cell_type": "code",
   "execution_count": 61,
   "id": "af3de327-8205-4047-a33a-9b2e31a10244",
   "metadata": {},
   "outputs": [
    {
     "data": {
      "text/html": [
       "<div>\n",
       "<style scoped>\n",
       "    .dataframe tbody tr th:only-of-type {\n",
       "        vertical-align: middle;\n",
       "    }\n",
       "\n",
       "    .dataframe tbody tr th {\n",
       "        vertical-align: top;\n",
       "    }\n",
       "\n",
       "    .dataframe thead th {\n",
       "        text-align: right;\n",
       "    }\n",
       "</style>\n",
       "<table border=\"1\" class=\"dataframe\">\n",
       "  <thead>\n",
       "    <tr style=\"text-align: right;\">\n",
       "      <th></th>\n",
       "      <th>id</th>\n",
       "      <th>keywords</th>\n",
       "    </tr>\n",
       "  </thead>\n",
       "  <tbody>\n",
       "    <tr>\n",
       "      <th>0</th>\n",
       "      <td>862</td>\n",
       "      <td>[{'id': 931, 'name': 'jealousy'}, {'id': 4290,...</td>\n",
       "    </tr>\n",
       "    <tr>\n",
       "      <th>1</th>\n",
       "      <td>8844</td>\n",
       "      <td>[{'id': 10090, 'name': 'board game'}, {'id': 1...</td>\n",
       "    </tr>\n",
       "    <tr>\n",
       "      <th>2</th>\n",
       "      <td>15602</td>\n",
       "      <td>[{'id': 1495, 'name': 'fishing'}, {'id': 12392...</td>\n",
       "    </tr>\n",
       "    <tr>\n",
       "      <th>3</th>\n",
       "      <td>31357</td>\n",
       "      <td>[{'id': 818, 'name': 'based on novel'}, {'id':...</td>\n",
       "    </tr>\n",
       "    <tr>\n",
       "      <th>4</th>\n",
       "      <td>11862</td>\n",
       "      <td>[{'id': 1009, 'name': 'baby'}, {'id': 1599, 'n...</td>\n",
       "    </tr>\n",
       "  </tbody>\n",
       "</table>\n",
       "</div>"
      ],
      "text/plain": [
       "      id                                           keywords\n",
       "0    862  [{'id': 931, 'name': 'jealousy'}, {'id': 4290,...\n",
       "1   8844  [{'id': 10090, 'name': 'board game'}, {'id': 1...\n",
       "2  15602  [{'id': 1495, 'name': 'fishing'}, {'id': 12392...\n",
       "3  31357  [{'id': 818, 'name': 'based on novel'}, {'id':...\n",
       "4  11862  [{'id': 1009, 'name': 'baby'}, {'id': 1599, 'n..."
      ]
     },
     "execution_count": 61,
     "metadata": {},
     "output_type": "execute_result"
    }
   ],
   "source": [
    "keywords.head()"
   ]
  },
  {
   "cell_type": "code",
   "execution_count": 62,
   "id": "e041524c-431d-4168-85b4-2b4e64b08375",
   "metadata": {},
   "outputs": [
    {
     "name": "stdout",
     "output_type": "stream",
     "text": [
      "<class 'pandas.core.frame.DataFrame'>\n",
      "RangeIndex: 45476 entries, 0 to 45475\n",
      "Data columns (total 3 columns):\n",
      " #   Column  Non-Null Count  Dtype \n",
      "---  ------  --------------  ----- \n",
      " 0   cast    45476 non-null  object\n",
      " 1   crew    45476 non-null  object\n",
      " 2   id      45476 non-null  int64 \n",
      "dtypes: int64(1), object(2)\n",
      "memory usage: 1.0+ MB\n"
     ]
    }
   ],
   "source": [
    "credits.info()"
   ]
  },
  {
   "cell_type": "code",
   "execution_count": 63,
   "id": "c54e6ad0-19e4-44d1-a33e-ccfdf05b95b7",
   "metadata": {},
   "outputs": [
    {
     "name": "stdout",
     "output_type": "stream",
     "text": [
      "<class 'pandas.core.frame.DataFrame'>\n",
      "RangeIndex: 46419 entries, 0 to 46418\n",
      "Data columns (total 2 columns):\n",
      " #   Column    Non-Null Count  Dtype \n",
      "---  ------    --------------  ----- \n",
      " 0   id        46419 non-null  int64 \n",
      " 1   keywords  46419 non-null  object\n",
      "dtypes: int64(1), object(1)\n",
      "memory usage: 725.4+ KB\n"
     ]
    }
   ],
   "source": [
    "keywords.info()"
   ]
  },
  {
   "cell_type": "code",
   "execution_count": 64,
   "id": "abdd0e8b-11ec-4cb1-838a-6cc4348db631",
   "metadata": {},
   "outputs": [
    {
     "data": {
      "text/plain": [
       "(45463, 25)"
      ]
     },
     "execution_count": 64,
     "metadata": {},
     "output_type": "execute_result"
    }
   ],
   "source": [
    "keywords['id'] = keywords['id'].astype('int')\n",
    "credits['id'] = credits['id'].astype('int')\n",
    "movies_metadata['id'] = movies_metadata['id'].astype('int')\n",
    "\n",
    "movies_metadata.shape"
   ]
  },
  {
   "cell_type": "code",
   "execution_count": 65,
   "id": "d9ffb607-e631-44f4-a6d3-d3da26ee0636",
   "metadata": {},
   "outputs": [],
   "source": [
    "movies_metadata = movies_metadata.merge(keywords, on = 'id')\n",
    "movies_metadata = movies_metadata.merge(credits, on = 'id')"
   ]
  },
  {
   "cell_type": "code",
   "execution_count": 66,
   "id": "c0e700c6-353f-485e-a7e1-31d2ad1d6d90",
   "metadata": {
    "tags": []
   },
   "outputs": [
    {
     "name": "stdout",
     "output_type": "stream",
     "text": [
      "<class 'pandas.core.frame.DataFrame'>\n",
      "Int64Index: 46628 entries, 0 to 46627\n",
      "Data columns (total 28 columns):\n",
      " #   Column                 Non-Null Count  Dtype  \n",
      "---  ------                 --------------  -----  \n",
      " 0   adult                  46628 non-null  object \n",
      " 1   belongs_to_collection  4574 non-null   object \n",
      " 2   budget                 46628 non-null  object \n",
      " 3   genres                 46628 non-null  object \n",
      " 4   homepage               8009 non-null   object \n",
      " 5   id                     46628 non-null  int32  \n",
      " 6   imdb_id                46611 non-null  object \n",
      " 7   original_language      46617 non-null  object \n",
      " 8   original_title         46628 non-null  object \n",
      " 9   overview               45633 non-null  object \n",
      " 10  popularity             46624 non-null  object \n",
      " 11  poster_path            46229 non-null  object \n",
      " 12  production_companies   46628 non-null  object \n",
      " 13  production_countries   46628 non-null  object \n",
      " 14  release_date           46540 non-null  object \n",
      " 15  revenue                46624 non-null  float64\n",
      " 16  runtime                46360 non-null  float64\n",
      " 17  spoken_languages       46628 non-null  object \n",
      " 18  status                 46542 non-null  object \n",
      " 19  tagline                20783 non-null  object \n",
      " 20  title                  46624 non-null  object \n",
      " 21  video                  46624 non-null  object \n",
      " 22  vote_average           46624 non-null  float64\n",
      " 23  vote_count             46624 non-null  float64\n",
      " 24  year                   46628 non-null  object \n",
      " 25  keywords               46628 non-null  object \n",
      " 26  cast                   46628 non-null  object \n",
      " 27  crew                   46628 non-null  object \n",
      "dtypes: float64(4), int32(1), object(23)\n",
      "memory usage: 10.1+ MB\n"
     ]
    }
   ],
   "source": [
    "movies_metadata.info()"
   ]
  },
  {
   "cell_type": "code",
   "execution_count": 67,
   "id": "ba6425fb-b8a2-40aa-b2af-3b84e3fb09b5",
   "metadata": {},
   "outputs": [
    {
     "data": {
      "text/plain": [
       "(9219, 28)"
      ]
     },
     "execution_count": 67,
     "metadata": {},
     "output_type": "execute_result"
    }
   ],
   "source": [
    "movies_metadata_small = movies_metadata[movies_metadata['id'].isin(links_small)]\n",
    "movies_metadata_small.shape"
   ]
  },
  {
   "cell_type": "markdown",
   "id": "f473292a-efc0-45a8-9895-0c54c17cf382",
   "metadata": {},
   "source": [
    "### 4.2.2 Pre-Processing the cast, crew and keywords columns"
   ]
  },
  {
   "cell_type": "code",
   "execution_count": 68,
   "id": "2fab8699-6ff9-48f5-9a48-4c02d02feb8e",
   "metadata": {},
   "outputs": [
    {
     "data": {
      "text/html": [
       "<div>\n",
       "<style scoped>\n",
       "    .dataframe tbody tr th:only-of-type {\n",
       "        vertical-align: middle;\n",
       "    }\n",
       "\n",
       "    .dataframe tbody tr th {\n",
       "        vertical-align: top;\n",
       "    }\n",
       "\n",
       "    .dataframe thead th {\n",
       "        text-align: right;\n",
       "    }\n",
       "</style>\n",
       "<table border=\"1\" class=\"dataframe\">\n",
       "  <thead>\n",
       "    <tr style=\"text-align: right;\">\n",
       "      <th></th>\n",
       "      <th>adult</th>\n",
       "      <th>belongs_to_collection</th>\n",
       "      <th>budget</th>\n",
       "      <th>genres</th>\n",
       "      <th>homepage</th>\n",
       "      <th>id</th>\n",
       "      <th>imdb_id</th>\n",
       "      <th>original_language</th>\n",
       "      <th>original_title</th>\n",
       "      <th>overview</th>\n",
       "      <th>popularity</th>\n",
       "      <th>poster_path</th>\n",
       "      <th>production_companies</th>\n",
       "      <th>production_countries</th>\n",
       "      <th>release_date</th>\n",
       "      <th>revenue</th>\n",
       "      <th>runtime</th>\n",
       "      <th>spoken_languages</th>\n",
       "      <th>status</th>\n",
       "      <th>tagline</th>\n",
       "      <th>title</th>\n",
       "      <th>video</th>\n",
       "      <th>vote_average</th>\n",
       "      <th>vote_count</th>\n",
       "      <th>year</th>\n",
       "      <th>keywords</th>\n",
       "      <th>cast</th>\n",
       "      <th>crew</th>\n",
       "    </tr>\n",
       "  </thead>\n",
       "  <tbody>\n",
       "    <tr>\n",
       "      <th>0</th>\n",
       "      <td>False</td>\n",
       "      <td>{'id': 10194, 'name': 'Toy Story Collection', ...</td>\n",
       "      <td>30000000</td>\n",
       "      <td>[Animation, Comedy, Family]</td>\n",
       "      <td>http://toystory.disney.com/toy-story</td>\n",
       "      <td>862</td>\n",
       "      <td>tt0114709</td>\n",
       "      <td>en</td>\n",
       "      <td>Toy Story</td>\n",
       "      <td>Led by Woody, Andy's toys live happily in his ...</td>\n",
       "      <td>21.946943</td>\n",
       "      <td>/rhIRbceoE9lR4veEXuwCC2wARtG.jpg</td>\n",
       "      <td>[Pixar Animation Studios]</td>\n",
       "      <td>[United States of America]</td>\n",
       "      <td>1995-10-30</td>\n",
       "      <td>373554033.0</td>\n",
       "      <td>81.0</td>\n",
       "      <td>[English]</td>\n",
       "      <td>Released</td>\n",
       "      <td>NaN</td>\n",
       "      <td>Toy Story</td>\n",
       "      <td>False</td>\n",
       "      <td>7.7</td>\n",
       "      <td>5415.0</td>\n",
       "      <td>1995</td>\n",
       "      <td>[{'id': 931, 'name': 'jealousy'}, {'id': 4290,...</td>\n",
       "      <td>[{'cast_id': 14, 'character': 'Woody (voice)',...</td>\n",
       "      <td>[{'credit_id': '52fe4284c3a36847f8024f49', 'de...</td>\n",
       "    </tr>\n",
       "  </tbody>\n",
       "</table>\n",
       "</div>"
      ],
      "text/plain": [
       "   adult                              belongs_to_collection    budget  \\\n",
       "0  False  {'id': 10194, 'name': 'Toy Story Collection', ...  30000000   \n",
       "\n",
       "                        genres                              homepage   id  \\\n",
       "0  [Animation, Comedy, Family]  http://toystory.disney.com/toy-story  862   \n",
       "\n",
       "     imdb_id original_language original_title  \\\n",
       "0  tt0114709                en      Toy Story   \n",
       "\n",
       "                                            overview popularity  \\\n",
       "0  Led by Woody, Andy's toys live happily in his ...  21.946943   \n",
       "\n",
       "                        poster_path       production_companies  \\\n",
       "0  /rhIRbceoE9lR4veEXuwCC2wARtG.jpg  [Pixar Animation Studios]   \n",
       "\n",
       "         production_countries release_date      revenue  runtime  \\\n",
       "0  [United States of America]   1995-10-30  373554033.0     81.0   \n",
       "\n",
       "  spoken_languages    status tagline      title  video  vote_average  \\\n",
       "0        [English]  Released     NaN  Toy Story  False           7.7   \n",
       "\n",
       "   vote_count  year                                           keywords  \\\n",
       "0      5415.0  1995  [{'id': 931, 'name': 'jealousy'}, {'id': 4290,...   \n",
       "\n",
       "                                                cast  \\\n",
       "0  [{'cast_id': 14, 'character': 'Woody (voice)',...   \n",
       "\n",
       "                                                crew  \n",
       "0  [{'credit_id': '52fe4284c3a36847f8024f49', 'de...  "
      ]
     },
     "execution_count": 68,
     "metadata": {},
     "output_type": "execute_result"
    }
   ],
   "source": [
    "movies_metadata_small.head(1)"
   ]
  },
  {
   "cell_type": "code",
   "execution_count": 69,
   "id": "0ec651f9-e5e4-4b47-a493-add3f67293ef",
   "metadata": {
    "tags": []
   },
   "outputs": [
    {
     "name": "stdout",
     "output_type": "stream",
     "text": [
      "[{'cast_id': 14, 'character': 'Woody (voice)', 'credit_id': '52fe4284c3a36847f8024f95', 'gender': 2, 'id': 31, 'name': 'Tom Hanks', 'order': 0, 'profile_path': '/pQFoyx7rp09CJTAb932F2g8Nlho.jpg'}, {'cast_id': 15, 'character': 'Buzz Lightyear (voice)', 'credit_id': '52fe4284c3a36847f8024f99', 'gender': 2, 'id': 12898, 'name': 'Tim Allen', 'order': 1, 'profile_path': '/uX2xVf6pMmPepxnvFWyBtjexzgY.jpg'}, {'cast_id': 16, 'character': 'Mr. Potato Head (voice)', 'credit_id': '52fe4284c3a36847f8024f9d', 'gender': 2, 'id': 7167, 'name': 'Don Rickles', 'order': 2, 'profile_path': '/h5BcaDMPRVLHLDzbQavec4xfSdt.jpg'}, {'cast_id': 17, 'character': 'Slinky Dog (voice)', 'credit_id': '52fe4284c3a36847f8024fa1', 'gender': 2, 'id': 12899, 'name': 'Jim Varney', 'order': 3, 'profile_path': '/eIo2jVVXYgjDtaHoF19Ll9vtW7h.jpg'}, {'cast_id': 18, 'character': 'Rex (voice)', 'credit_id': '52fe4284c3a36847f8024fa5', 'gender': 2, 'id': 12900, 'name': 'Wallace Shawn', 'order': 4, 'profile_path': '/oGE6JqPP2xH4tNORKNqxbNPYi7u.jpg'}, {'cast_id': 19, 'character': 'Hamm (voice)', 'credit_id': '52fe4284c3a36847f8024fa9', 'gender': 2, 'id': 7907, 'name': 'John Ratzenberger', 'order': 5, 'profile_path': '/yGechiKWL6TJDfVE2KPSJYqdMsY.jpg'}, {'cast_id': 20, 'character': 'Bo Peep (voice)', 'credit_id': '52fe4284c3a36847f8024fad', 'gender': 1, 'id': 8873, 'name': 'Annie Potts', 'order': 6, 'profile_path': '/eryXT84RL41jHSJcMy4kS3u9y6w.jpg'}, {'cast_id': 26, 'character': 'Andy (voice)', 'credit_id': '52fe4284c3a36847f8024fc1', 'gender': 0, 'id': 1116442, 'name': 'John Morris', 'order': 7, 'profile_path': '/vYGyvK4LzeaUCoNSHtsuqJUY15M.jpg'}, {'cast_id': 22, 'character': 'Sid (voice)', 'credit_id': '52fe4284c3a36847f8024fb1', 'gender': 2, 'id': 12901, 'name': 'Erik von Detten', 'order': 8, 'profile_path': '/twnF1ZaJ1FUNUuo6xLXwcxjayBE.jpg'}, {'cast_id': 23, 'character': 'Mrs. Davis (voice)', 'credit_id': '52fe4284c3a36847f8024fb5', 'gender': 1, 'id': 12133, 'name': 'Laurie Metcalf', 'order': 9, 'profile_path': '/unMMIT60eoBM2sN2nyR7EZ2BvvD.jpg'}, {'cast_id': 24, 'character': 'Sergeant (voice)', 'credit_id': '52fe4284c3a36847f8024fb9', 'gender': 2, 'id': 8655, 'name': 'R. Lee Ermey', 'order': 10, 'profile_path': '/r8GBqFBjypLUP9VVqDqfZ7wYbSs.jpg'}, {'cast_id': 25, 'character': 'Hannah (voice)', 'credit_id': '52fe4284c3a36847f8024fbd', 'gender': 1, 'id': 12903, 'name': 'Sarah Freeman', 'order': 11, 'profile_path': None}, {'cast_id': 27, 'character': 'TV Announcer (voice)', 'credit_id': '52fe4284c3a36847f8024fc5', 'gender': 2, 'id': 37221, 'name': 'Penn Jillette', 'order': 12, 'profile_path': '/zmAaXUdx12NRsssgHbk1T31j2x9.jpg'}]\n"
     ]
    }
   ],
   "source": [
    "print(movies_metadata_small['cast'][0])"
   ]
  },
  {
   "cell_type": "code",
   "execution_count": 70,
   "id": "14934769-8503-473a-8f0b-7db30867b30d",
   "metadata": {
    "tags": []
   },
   "outputs": [
    {
     "name": "stdout",
     "output_type": "stream",
     "text": [
      "[{'credit_id': '52fe4284c3a36847f8024f49', 'department': 'Directing', 'gender': 2, 'id': 7879, 'job': 'Director', 'name': 'John Lasseter', 'profile_path': '/7EdqiNbr4FRjIhKHyPPdFfEEEFG.jpg'}, {'credit_id': '52fe4284c3a36847f8024f4f', 'department': 'Writing', 'gender': 2, 'id': 12891, 'job': 'Screenplay', 'name': 'Joss Whedon', 'profile_path': '/dTiVsuaTVTeGmvkhcyJvKp2A5kr.jpg'}, {'credit_id': '52fe4284c3a36847f8024f55', 'department': 'Writing', 'gender': 2, 'id': 7, 'job': 'Screenplay', 'name': 'Andrew Stanton', 'profile_path': '/pvQWsu0qc8JFQhMVJkTHuexUAa1.jpg'}, {'credit_id': '52fe4284c3a36847f8024f5b', 'department': 'Writing', 'gender': 2, 'id': 12892, 'job': 'Screenplay', 'name': 'Joel Cohen', 'profile_path': '/dAubAiZcvKFbboWlj7oXOkZnTSu.jpg'}, {'credit_id': '52fe4284c3a36847f8024f61', 'department': 'Writing', 'gender': 0, 'id': 12893, 'job': 'Screenplay', 'name': 'Alec Sokolow', 'profile_path': '/v79vlRYi94BZUQnkkyznbGUZLjT.jpg'}, {'credit_id': '52fe4284c3a36847f8024f67', 'department': 'Production', 'gender': 1, 'id': 12894, 'job': 'Producer', 'name': 'Bonnie Arnold', 'profile_path': None}, {'credit_id': '52fe4284c3a36847f8024f6d', 'department': 'Production', 'gender': 0, 'id': 12895, 'job': 'Executive Producer', 'name': 'Ed Catmull', 'profile_path': None}, {'credit_id': '52fe4284c3a36847f8024f73', 'department': 'Production', 'gender': 2, 'id': 12896, 'job': 'Producer', 'name': 'Ralph Guggenheim', 'profile_path': None}, {'credit_id': '52fe4284c3a36847f8024f79', 'department': 'Production', 'gender': 2, 'id': 12897, 'job': 'Executive Producer', 'name': 'Steve Jobs', 'profile_path': '/mOMP3SwD5qWQSR0ldCIByd3guTV.jpg'}, {'credit_id': '52fe4284c3a36847f8024f8b', 'department': 'Editing', 'gender': 2, 'id': 8, 'job': 'Editor', 'name': 'Lee Unkrich', 'profile_path': '/bdTCCXjgOV3YyaNmLGYGOxFQMOc.jpg'}, {'credit_id': '52fe4284c3a36847f8024f91', 'department': 'Art', 'gender': 2, 'id': 7883, 'job': 'Art Direction', 'name': 'Ralph Eggleston', 'profile_path': '/uUfcGKDsKO1aROMpXRs67Hn6RvR.jpg'}, {'credit_id': '598331bf925141421201044b', 'department': 'Editing', 'gender': 2, 'id': 1168870, 'job': 'Editor', 'name': 'Robert Gordon', 'profile_path': None}, {'credit_id': '5892168cc3a36809660095f9', 'department': 'Sound', 'gender': 0, 'id': 1552883, 'job': 'Foley Editor', 'name': 'Mary Helen Leasman', 'profile_path': None}, {'credit_id': '5531824d9251415289000945', 'department': 'Visual Effects', 'gender': 0, 'id': 1453514, 'job': 'Animation', 'name': 'Kim Blanchette', 'profile_path': None}, {'credit_id': '589215969251412dcb009bf6', 'department': 'Sound', 'gender': 0, 'id': 1414182, 'job': 'ADR Editor', 'name': 'Marilyn McCoppen', 'profile_path': None}, {'credit_id': '589217099251412dc500a018', 'department': 'Sound', 'gender': 2, 'id': 7885, 'job': 'Orchestrator', 'name': 'Randy Newman', 'profile_path': '/w0JzfoiM25nrnxYOzosPHRq6mlE.jpg'}, {'credit_id': '5693e6b29251417b0e0000e3', 'department': 'Editing', 'gender': 0, 'id': 1429549, 'job': 'Color Timer', 'name': 'Dale E. Grahn', 'profile_path': None}, {'credit_id': '572e2522c3a36869e6001a9c', 'department': 'Visual Effects', 'gender': 0, 'id': 7949, 'job': 'CG Painter', 'name': 'Robin Cooper', 'profile_path': None}, {'credit_id': '574f12309251415ca1000012', 'department': 'Writing', 'gender': 2, 'id': 7879, 'job': 'Original Story', 'name': 'John Lasseter', 'profile_path': '/7EdqiNbr4FRjIhKHyPPdFfEEEFG.jpg'}, {'credit_id': '574f1240c3a3682e7300001c', 'department': 'Writing', 'gender': 2, 'id': 12890, 'job': 'Original Story', 'name': 'Pete Docter', 'profile_path': '/r6ngPgnReA3RHmKjmSoVsc6Awjp.jpg'}, {'credit_id': '574f12519251415c92000015', 'department': 'Writing', 'gender': 0, 'id': 7911, 'job': 'Original Story', 'name': 'Joe Ranft', 'profile_path': '/f1BoWC2JbCcfP1e5hKfGsxkHzVU.jpg'}, {'credit_id': '574f12cec3a3682e82000022', 'department': 'Crew', 'gender': 0, 'id': 1629419, 'job': 'Post Production Supervisor', 'name': 'Patsy Bouge', 'profile_path': None}, {'credit_id': '574f14f19251415ca1000082', 'department': 'Art', 'gender': 0, 'id': 7961, 'job': 'Sculptor', 'name': 'Norm DeCarlo', 'profile_path': None}, {'credit_id': '5751ae4bc3a3683772002b7f', 'department': 'Visual Effects', 'gender': 2, 'id': 12905, 'job': 'Animation Director', 'name': 'Ash Brannon', 'profile_path': '/6ueWgPEEBHvS3De2BHYQnYjRTig.jpg'}, {'credit_id': '5891edbe9251412dc5007cd6', 'department': 'Sound', 'gender': 2, 'id': 7885, 'job': 'Music', 'name': 'Randy Newman', 'profile_path': '/w0JzfoiM25nrnxYOzosPHRq6mlE.jpg'}, {'credit_id': '589213d39251412dc8009832', 'department': 'Directing', 'gender': 0, 'id': 1748707, 'job': 'Layout', 'name': 'Roman Figun', 'profile_path': None}, {'credit_id': '5892173dc3a3680968009351', 'department': 'Sound', 'gender': 2, 'id': 4949, 'job': 'Orchestrator', 'name': 'Don Davis', 'profile_path': None}, {'credit_id': '589217cec3a3686b0a0052ba', 'department': 'Sound', 'gender': 0, 'id': 1372885, 'job': 'Music Editor', 'name': 'James Flamberg', 'profile_path': None}, {'credit_id': '58921831c3a3686348004a64', 'department': 'Editing', 'gender': 0, 'id': 1739962, 'job': 'Negative Cutter', 'name': 'Mary Beth Smith', 'profile_path': None}, {'credit_id': '58921838c3a36809700096c0', 'department': 'Editing', 'gender': 0, 'id': 1748513, 'job': 'Negative Cutter', 'name': 'Rick Mackay', 'profile_path': None}, {'credit_id': '589218429251412dd1009d1b', 'department': 'Art', 'gender': 0, 'id': 1458006, 'job': 'Title Designer', 'name': 'Susan Bradley', 'profile_path': None}, {'credit_id': '5891ed99c3a3680966007670', 'department': 'Crew', 'gender': 0, 'id': 1748557, 'job': 'Supervising Technical Director', 'name': 'William Reeves', 'profile_path': None}, {'credit_id': '5891edcec3a3686b0a002eb2', 'department': 'Sound', 'gender': 2, 'id': 7885, 'job': 'Songs', 'name': 'Randy Newman', 'profile_path': '/w0JzfoiM25nrnxYOzosPHRq6mlE.jpg'}, {'credit_id': '5891edf9c3a36809700075e6', 'department': 'Writing', 'gender': 2, 'id': 7, 'job': 'Original Story', 'name': 'Andrew Stanton', 'profile_path': '/pvQWsu0qc8JFQhMVJkTHuexUAa1.jpg'}, {'credit_id': '58920f0b9251412dd7009104', 'department': 'Crew', 'gender': 2, 'id': 12890, 'job': 'Supervising Animator', 'name': 'Pete Docter', 'profile_path': '/r6ngPgnReA3RHmKjmSoVsc6Awjp.jpg'}, {'credit_id': '58920f1fc3a3680977009021', 'department': 'Sound', 'gender': 2, 'id': 2216, 'job': 'Sound Designer', 'name': 'Gary Rydstrom', 'profile_path': '/jZpr1nVfO7lldWI0YtmP1FGw7Rj.jpg'}, {'credit_id': '58920f389251412dd700912d', 'department': 'Production', 'gender': 0, 'id': 12909, 'job': 'Production Supervisor', 'name': 'Karen Robert Jackson', 'profile_path': None}, {'credit_id': '58920fbd9251412dcb00969c', 'department': 'Crew', 'gender': 0, 'id': 953331, 'job': 'Executive Music Producer', 'name': 'Chris Montan', 'profile_path': None}, {'credit_id': '589210069251412dd7009219', 'department': 'Visual Effects', 'gender': 0, 'id': 7893, 'job': 'Animation Director', 'name': 'Rich Quade', 'profile_path': None}, {'credit_id': '589210329251412dcd00943b', 'department': 'Visual Effects', 'gender': 0, 'id': 8025, 'job': 'Animation', 'name': 'Michael Berenstein', 'profile_path': None}, {'credit_id': '5892103bc3a368096a009180', 'department': 'Visual Effects', 'gender': 0, 'id': 78009, 'job': 'Animation', 'name': 'Colin Brady', 'profile_path': None}, {'credit_id': '5892105dc3a3680968008db2', 'department': 'Visual Effects', 'gender': 0, 'id': 1748682, 'job': 'Animation', 'name': 'Davey Crockett Feiten', 'profile_path': None}, {'credit_id': '589210669251412dcd009466', 'department': 'Visual Effects', 'gender': 0, 'id': 1454030, 'job': 'Animation', 'name': 'Angie Glocka', 'profile_path': None}, {'credit_id': '5892107c9251412dd1009613', 'department': 'Visual Effects', 'gender': 0, 'id': 1748683, 'job': 'Animation', 'name': 'Rex Grignon', 'profile_path': None}, {'credit_id': '5892108ac3a3680973008d3f', 'department': 'Visual Effects', 'gender': 0, 'id': 1748684, 'job': 'Animation', 'name': 'Tom K. Gurney', 'profile_path': None}, {'credit_id': '58921093c3a3686348004477', 'department': 'Visual Effects', 'gender': 2, 'id': 8029, 'job': 'Animation', 'name': 'Jimmy Hayward', 'profile_path': '/lTDRpudEY7BDwTefXbXzMlmb0ui.jpg'}, {'credit_id': '5892109b9251412dcd0094b0', 'department': 'Visual Effects', 'gender': 0, 'id': 1426773, 'job': 'Animation', 'name': 'Hal T. Hickel', 'profile_path': None}, {'credit_id': '589210a29251412dc5009a29', 'department': 'Visual Effects', 'gender': 0, 'id': 8035, 'job': 'Animation', 'name': 'Karen Kiser', 'profile_path': None}, {'credit_id': '589210ccc3a3680977009191', 'department': 'Visual Effects', 'gender': 0, 'id': 1748688, 'job': 'Animation', 'name': 'Anthony B. LaMolinara', 'profile_path': None}, {'credit_id': '589210d7c3a3686b0a004c1f', 'department': 'Visual Effects', 'gender': 0, 'id': 587314, 'job': 'Animation', 'name': 'Guionne Leroy', 'profile_path': None}, {'credit_id': '589210e1c3a36809770091a7', 'department': 'Visual Effects', 'gender': 2, 'id': 7918, 'job': 'Animation', 'name': 'Bud Luckey', 'profile_path': '/pcCh7G19FKMNijmPQg1PMH1btic.jpg'}, {'credit_id': '589210ee9251412dc200978a', 'department': 'Visual Effects', 'gender': 0, 'id': 1748689, 'job': 'Animation', 'name': 'Les Major', 'profile_path': None}, {'credit_id': '589210fa9251412dc8009595', 'department': 'Visual Effects', 'gender': 2, 'id': 7892, 'job': 'Animation', 'name': 'Glenn McQueen', 'profile_path': None}, {'credit_id': '589211029251412dc8009598', 'department': 'Visual Effects', 'gender': 0, 'id': 555795, 'job': 'Animation', 'name': 'Mark Oftedal', 'profile_path': None}, {'credit_id': '5892110b9251412dc800959d', 'department': 'Visual Effects', 'gender': 2, 'id': 7882, 'job': 'Animation', 'name': 'Jeff Pidgeon', 'profile_path': '/yLddkg5HcgbJg00cS13GVBnP0HY.jpg'}, {'credit_id': '58921113c3a36863480044e4', 'department': 'Visual Effects', 'gender': 0, 'id': 8017, 'job': 'Animation', 'name': 'Jeff Pratt', 'profile_path': None}, {'credit_id': '5892111c9251412dcb0097e9', 'department': 'Visual Effects', 'gender': 0, 'id': 1184140, 'job': 'Animation', 'name': 'Steve Rabatich', 'profile_path': None}, {'credit_id': '58921123c3a36809700090f6', 'department': 'Visual Effects', 'gender': 0, 'id': 8049, 'job': 'Animation', 'name': 'Roger Rose', 'profile_path': None}, {'credit_id': '5892112b9251412dcb0097fb', 'department': 'Visual Effects', 'gender': 0, 'id': 1509559, 'job': 'Animation', 'name': 'Steve Segal', 'profile_path': None}, {'credit_id': '589211349251412dc80095c3', 'department': 'Visual Effects', 'gender': 0, 'id': 1748691, 'job': 'Animation', 'name': 'Doug Sheppeck', 'profile_path': None}, {'credit_id': '5892113cc3a3680970009106', 'department': 'Visual Effects', 'gender': 0, 'id': 8050, 'job': 'Animation', 'name': 'Alan Sperling', 'profile_path': None}, {'credit_id': '58921148c3a3686b0a004c99', 'department': 'Visual Effects', 'gender': 0, 'id': 8010, 'job': 'Animation', 'name': 'Doug Sweetland', 'profile_path': None}, {'credit_id': '58921150c3a3680966009125', 'department': 'Visual Effects', 'gender': 0, 'id': 8044, 'job': 'Animation', 'name': 'David Tart', 'profile_path': None}, {'credit_id': '589211629251412dc5009b00', 'department': 'Visual Effects', 'gender': 0, 'id': 1454034, 'job': 'Animation', 'name': 'Ken Willard', 'profile_path': None}, {'credit_id': '589211c1c3a3686b0a004d28', 'department': 'Visual Effects', 'gender': 0, 'id': 7887, 'job': 'Visual Effects Supervisor', 'name': 'Thomas Porter', 'profile_path': None}, {'credit_id': '589211d4c3a3680968008ed9', 'department': 'Visual Effects', 'gender': 0, 'id': 1406878, 'job': 'Visual Effects', 'name': 'Mark Thomas Henne', 'profile_path': None}, {'credit_id': '589211f59251412dd4008e65', 'department': 'Visual Effects', 'gender': 0, 'id': 1748698, 'job': 'Visual Effects', 'name': 'Oren Jacob', 'profile_path': None}, {'credit_id': '58921242c3a368096a00939b', 'department': 'Visual Effects', 'gender': 0, 'id': 1748699, 'job': 'Visual Effects', 'name': 'Darwyn Peachey', 'profile_path': None}, {'credit_id': '5892124b9251412dc5009bd2', 'department': 'Visual Effects', 'gender': 0, 'id': 1748701, 'job': 'Visual Effects', 'name': 'Mitch Prater', 'profile_path': None}, {'credit_id': '58921264c3a3686b0a004dbf', 'department': 'Visual Effects', 'gender': 0, 'id': 1748703, 'job': 'Visual Effects', 'name': 'Brian M. Rosen', 'profile_path': None}, {'credit_id': '589212709251412dcd009676', 'department': 'Lighting', 'gender': 1, 'id': 12912, 'job': 'Lighting Supervisor', 'name': 'Sharon Calahan', 'profile_path': None}, {'credit_id': '5892127fc3a3686b0a004de5', 'department': 'Lighting', 'gender': 0, 'id': 7899, 'job': 'Lighting Supervisor', 'name': 'Galyn Susman', 'profile_path': None}, {'credit_id': '589212cdc3a3680970009268', 'department': 'Visual Effects', 'gender': 0, 'id': 12915, 'job': 'CG Painter', 'name': 'William Cone', 'profile_path': None}, {'credit_id': '5892130f9251412dc8009791', 'department': 'Art', 'gender': 0, 'id': 1748705, 'job': 'Sculptor', 'name': 'Shelley Daniels Lekven', 'profile_path': None}, {'credit_id': '5892131c9251412dd4008f4c', 'department': 'Visual Effects', 'gender': 2, 'id': 7889, 'job': 'Character Designer', 'name': 'Bob Pauley', 'profile_path': None}, {'credit_id': '589213249251412dd100987b', 'department': 'Visual Effects', 'gender': 2, 'id': 7918, 'job': 'Character Designer', 'name': 'Bud Luckey', 'profile_path': '/pcCh7G19FKMNijmPQg1PMH1btic.jpg'}, {'credit_id': '5892132b9251412dc80097b1', 'department': 'Visual Effects', 'gender': 2, 'id': 7, 'job': 'Character Designer', 'name': 'Andrew Stanton', 'profile_path': '/pvQWsu0qc8JFQhMVJkTHuexUAa1.jpg'}, {'credit_id': '58921332c3a368634800467b', 'department': 'Visual Effects', 'gender': 0, 'id': 12915, 'job': 'Character Designer', 'name': 'William Cone', 'profile_path': None}, {'credit_id': '5892135f9251412dd4008f90', 'department': 'Visual Effects', 'gender': 0, 'id': 1748706, 'job': 'Character Designer', 'name': 'Steve Johnson', 'profile_path': None}, {'credit_id': '58921384c3a3680973008fd4', 'department': 'Visual Effects', 'gender': 0, 'id': 1176752, 'job': 'Character Designer', 'name': 'Dan Haskett', 'profile_path': None}, {'credit_id': '5892138e9251412dc20099fc', 'department': 'Visual Effects', 'gender': 0, 'id': 1088034, 'job': 'Character Designer', 'name': 'Tom Holloway', 'profile_path': '/a0r0T2usTBpgMI5aZbRBDW1fTl8.jpg'}, {'credit_id': '58921395c3a368097700942f', 'department': 'Visual Effects', 'gender': 0, 'id': 1447465, 'job': 'Character Designer', 'name': 'Jean Gillmore', 'profile_path': None}, {'credit_id': '589213e2c3a3680973009026', 'department': 'Directing', 'gender': 0, 'id': 1748709, 'job': 'Layout', 'name': 'Desirée Mourad', 'profile_path': None}, {'credit_id': '589214099251412dc5009d57', 'department': 'Art', 'gender': 0, 'id': 1748710, 'job': 'Set Dresser', 'name': \"Kelly O'Connell\", 'profile_path': None}, {'credit_id': '58921411c3a3686b0a004f70', 'department': 'Art', 'gender': 0, 'id': 1443471, 'job': 'Set Dresser', 'name': 'Sonoko Konishi', 'profile_path': None}, {'credit_id': '58921434c3a368096a00956e', 'department': 'Art', 'gender': 0, 'id': 1748711, 'job': 'Set Dresser', 'name': 'Ann M. Rockwell', 'profile_path': None}, {'credit_id': '5892144ac3a36809680090de', 'department': 'Editing', 'gender': 0, 'id': 1748712, 'job': 'Editorial Manager', 'name': 'Julie M. McDonald', 'profile_path': None}, {'credit_id': '58921479c3a368096800910f', 'department': 'Editing', 'gender': 0, 'id': 1589729, 'job': 'Assistant Editor', 'name': 'Robin Lee', 'profile_path': None}, {'credit_id': '5892148b9251412dd10099cc', 'department': 'Editing', 'gender': 0, 'id': 1748716, 'job': 'Assistant Editor', 'name': 'Tom Freeman', 'profile_path': None}, {'credit_id': '589214959251412dcb009b1f', 'department': 'Editing', 'gender': 0, 'id': 1748717, 'job': 'Assistant Editor', 'name': 'Ada Cochavi', 'profile_path': None}, {'credit_id': '5892149ec3a3686348004798', 'department': 'Editing', 'gender': 0, 'id': 1336438, 'job': 'Assistant Editor', 'name': 'Dana Mulligan', 'profile_path': None}, {'credit_id': '589214adc3a368096a0095db', 'department': 'Editing', 'gender': 0, 'id': 1748718, 'job': 'Editorial Coordinator', 'name': 'Deirdre Morrison', 'profile_path': None}, {'credit_id': '589214c7c3a368097700952b', 'department': 'Production', 'gender': 0, 'id': 1748719, 'job': 'Production Coordinator', 'name': 'Lori Lombardo', 'profile_path': None}, {'credit_id': '589214cec3a368096a009603', 'department': 'Production', 'gender': 0, 'id': 1748720, 'job': 'Production Coordinator', 'name': 'Ellen Devine', 'profile_path': None}, {'credit_id': '589214e39251412dc8009904', 'department': 'Crew', 'gender': 0, 'id': 1468014, 'job': 'Unit Publicist', 'name': 'Lauren Beth Strogoff', 'profile_path': None}, {'credit_id': '58921544c3a3686b0a00507d', 'department': 'Sound', 'gender': 2, 'id': 2216, 'job': 'Sound Re-Recording Mixer', 'name': 'Gary Rydstrom', 'profile_path': '/jZpr1nVfO7lldWI0YtmP1FGw7Rj.jpg'}, {'credit_id': '5892154c9251412dd1009a56', 'department': 'Sound', 'gender': 0, 'id': 1425978, 'job': 'Sound Re-Recording Mixer', 'name': 'Gary Summers', 'profile_path': None}, {'credit_id': '58921555c3a36809680091bd', 'department': 'Sound', 'gender': 2, 'id': 8276, 'job': 'Supervising Sound Editor', 'name': 'Tim Holland', 'profile_path': None}, {'credit_id': '589215c39251412dcb009c12', 'department': 'Sound', 'gender': 0, 'id': 7069, 'job': 'Sound Effects Editor', 'name': 'Pat Jackson', 'profile_path': None}, {'credit_id': '58921698c3a368096a009788', 'department': 'Crew', 'gender': 2, 'id': 15894, 'job': 'Sound Design Assistant', 'name': 'Tom Myers', 'profile_path': None}, {'credit_id': '589216a89251412dc2009ca4', 'department': 'Sound', 'gender': 0, 'id': 1414177, 'job': 'Assistant Sound Editor', 'name': 'J.R. Grubbs', 'profile_path': None}, {'credit_id': '589216c19251412dc2009cb9', 'department': 'Sound', 'gender': 1, 'id': 1748724, 'job': 'Assistant Sound Editor', 'name': 'Susan Sanford', 'profile_path': None}, {'credit_id': '589216ccc3a3680973009274', 'department': 'Sound', 'gender': 0, 'id': 1748725, 'job': 'Assistant Sound Editor', 'name': 'Susan Popovic', 'profile_path': None}, {'credit_id': '589216d79251412dc8009aa0', 'department': 'Sound', 'gender': 0, 'id': 8067, 'job': 'Assistant Sound Editor', 'name': 'Dan Engstrom', 'profile_path': None}, {'credit_id': '589216e49251412dcd009a4f', 'department': 'Production', 'gender': 1, 'id': 7902, 'job': 'Casting Consultant', 'name': 'Ruth Lambert', 'profile_path': None}, {'credit_id': '589216f39251412dc2009cf3', 'department': 'Production', 'gender': 0, 'id': 84493, 'job': 'ADR Voice Casting', 'name': 'Mickie McGowan', 'profile_path': '/k7TjJBfINsg8vLQxJwos6XObAD6.jpg'}]\n"
     ]
    }
   ],
   "source": [
    "print(movies_metadata_small['crew'][0])"
   ]
  },
  {
   "cell_type": "code",
   "execution_count": 71,
   "id": "3af67854-ad88-45b4-893d-c31e6310bd72",
   "metadata": {},
   "outputs": [
    {
     "name": "stdout",
     "output_type": "stream",
     "text": [
      "[{'id': 931, 'name': 'jealousy'}, {'id': 4290, 'name': 'toy'}, {'id': 5202, 'name': 'boy'}, {'id': 6054, 'name': 'friendship'}, {'id': 9713, 'name': 'friends'}, {'id': 9823, 'name': 'rivalry'}, {'id': 165503, 'name': 'boy next door'}, {'id': 170722, 'name': 'new toy'}, {'id': 187065, 'name': 'toy comes to life'}]\n"
     ]
    }
   ],
   "source": [
    "print(movies_metadata_small['keywords'][0])"
   ]
  },
  {
   "cell_type": "code",
   "execution_count": 72,
   "id": "901366d0-9fd3-4d42-8cc6-264b5d0e0942",
   "metadata": {},
   "outputs": [],
   "source": [
    "# Parse the stringified features into their corresponding python objects\n",
    "features = ['cast', 'crew', 'keywords']\n",
    "for feature in features:\n",
    "    movies_metadata_small[feature] = movies_metadata_small[feature].apply(literal_eval)"
   ]
  },
  {
   "cell_type": "markdown",
   "id": "d8dfa615-815d-43f5-a48c-9feb83b81150",
   "metadata": {},
   "source": [
    "***"
   ]
  },
  {
   "cell_type": "markdown",
   "id": "e98b8cd4-821b-405e-8839-5bb4f4391908",
   "metadata": {},
   "source": [
    "**`Director`**"
   ]
  },
  {
   "cell_type": "code",
   "execution_count": 73,
   "id": "e011e668-7e53-415b-90fd-4c253259da22",
   "metadata": {},
   "outputs": [],
   "source": [
    "# Get the director's name from the crew feature. If director is not listed, return NaN\n",
    "def get_director(x):\n",
    "    for i in x:\n",
    "        if i['job'] == 'Director':\n",
    "            return i['name']\n",
    "    return np.nan"
   ]
  },
  {
   "cell_type": "code",
   "execution_count": 74,
   "id": "717ecd4b-3dfb-4bde-9db3-30a530a172ac",
   "metadata": {},
   "outputs": [],
   "source": [
    "movies_metadata_small['director'] = movies_metadata_small['crew'].apply(get_director)"
   ]
  },
  {
   "cell_type": "code",
   "execution_count": 75,
   "id": "70d790dd-2ba5-4379-937d-7c9252024e33",
   "metadata": {},
   "outputs": [
    {
     "data": {
      "text/plain": [
       "0      John Lasseter\n",
       "1       Joe Johnston\n",
       "2      Howard Deutch\n",
       "3    Forest Whitaker\n",
       "4      Charles Shyer\n",
       "5       Michael Mann\n",
       "6     Sydney Pollack\n",
       "7       Peter Hewitt\n",
       "8        Peter Hyams\n",
       "9    Martin Campbell\n",
       "Name: director, dtype: object"
      ]
     },
     "execution_count": 75,
     "metadata": {},
     "output_type": "execute_result"
    }
   ],
   "source": [
    "movies_metadata_small['director'][:10]"
   ]
  },
  {
   "cell_type": "markdown",
   "id": "6e0bf747-79f8-4a63-a509-824f0ab75cd5",
   "metadata": {},
   "source": [
    "***"
   ]
  },
  {
   "cell_type": "markdown",
   "id": "169bbe14-d530-4f37-ac8c-a33df80161dc",
   "metadata": {},
   "source": [
    "**`Cast`**"
   ]
  },
  {
   "cell_type": "raw",
   "id": "a6f710d1-30b2-4d4f-9e56-6b20e5a3a832",
   "metadata": {
    "tags": []
   },
   "source": [
    "movies_metadata_small['cast'] = movies_metadata_small['cast'].apply(lambda x: [i['name'] for i in x] if isinstance(x, list) else [])\n",
    "movies_metadata_small['cast'] = movies_metadata_small['cast'].apply(lambda x: x[:4] if len(x) >= 4 else x)"
   ]
  },
  {
   "cell_type": "code",
   "execution_count": 76,
   "id": "add17fb4-195e-448d-a254-d11f95c6294e",
   "metadata": {},
   "outputs": [],
   "source": [
    "# Returns the list top 4 elements or entire list; whichever is more.\n",
    "def get_list(x):\n",
    "    if isinstance(x, list):\n",
    "        names = [i['name'] for i in x]\n",
    "        # Check if more than 4 elements exist. If yes, return only first three. If no, return entire list.\n",
    "        if len(names) >= 4:\n",
    "            names = names[:4]\n",
    "        return names\n",
    "\n",
    "    # Return empty list in case of missing/malformed data\n",
    "    return []"
   ]
  },
  {
   "cell_type": "code",
   "execution_count": 77,
   "id": "9539c4c8-8485-4c3d-9b86-6447584c1c6d",
   "metadata": {},
   "outputs": [],
   "source": [
    "movies_metadata_small['cast'] = movies_metadata_small['cast'].apply(get_list)"
   ]
  },
  {
   "cell_type": "code",
   "execution_count": 78,
   "id": "be04f3ea-2873-444b-9b05-d45402fd779b",
   "metadata": {},
   "outputs": [
    {
     "data": {
      "text/plain": [
       "0      [Tom Hanks, Tim Allen, Don Rickles, Jim Varney]\n",
       "1    [Robin Williams, Jonathan Hyde, Kirsten Dunst,...\n",
       "2    [Walter Matthau, Jack Lemmon, Ann-Margret, Sop...\n",
       "3    [Whitney Houston, Angela Bassett, Loretta Devi...\n",
       "4    [Steve Martin, Diane Keaton, Martin Short, Kim...\n",
       "5    [Al Pacino, Robert De Niro, Val Kilmer, Jon Vo...\n",
       "6    [Harrison Ford, Julia Ormond, Greg Kinnear, An...\n",
       "7    [Jonathan Taylor Thomas, Brad Renfro, Rachael ...\n",
       "8    [Jean-Claude Van Damme, Powers Boothe, Dorian ...\n",
       "9    [Pierce Brosnan, Sean Bean, Izabella Scorupco,...\n",
       "Name: cast, dtype: object"
      ]
     },
     "execution_count": 78,
     "metadata": {},
     "output_type": "execute_result"
    }
   ],
   "source": [
    "movies_metadata_small['cast'][:10]"
   ]
  },
  {
   "cell_type": "markdown",
   "id": "e2c54370-8070-4a9a-8de9-509377cae667",
   "metadata": {},
   "source": [
    "***"
   ]
  },
  {
   "cell_type": "markdown",
   "id": "eca25b6c-f19c-47f4-9e1c-102b75dd513f",
   "metadata": {},
   "source": [
    "**`keywords`**"
   ]
  },
  {
   "cell_type": "code",
   "execution_count": 79,
   "id": "0d69d307-2358-44ad-839e-2b57d633107e",
   "metadata": {},
   "outputs": [],
   "source": [
    "movies_metadata_small['keywords'] = movies_metadata_small['keywords'].apply(lambda x: [i['name'] for i in x] if isinstance(x, list) else [])"
   ]
  },
  {
   "cell_type": "code",
   "execution_count": 80,
   "id": "d66709f0-6926-4c75-95ab-c27a87bbe3f1",
   "metadata": {},
   "outputs": [
    {
     "data": {
      "text/plain": [
       "0    [jealousy, toy, boy, friendship, friends, riva...\n",
       "1    [board game, disappearance, based on children'...\n",
       "2    [fishing, best friend, duringcreditsstinger, o...\n",
       "3    [based on novel, interracial relationship, sin...\n",
       "4    [baby, midlife crisis, confidence, aging, daug...\n",
       "5    [robbery, detective, bank, obsession, chase, s...\n",
       "6    [paris, brother brother relationship, chauffeu...\n",
       "7                                                   []\n",
       "8      [terrorist, hostage, explosive, vice president]\n",
       "9    [cuba, falsely accused, secret identity, compu...\n",
       "Name: keywords, dtype: object"
      ]
     },
     "execution_count": 80,
     "metadata": {},
     "output_type": "execute_result"
    }
   ],
   "source": [
    "movies_metadata_small['keywords'][:10]"
   ]
  },
  {
   "cell_type": "code",
   "execution_count": 81,
   "id": "87ecc9fd-fd8a-45cc-a8dc-412de5913fde",
   "metadata": {},
   "outputs": [
    {
     "data": {
      "text/html": [
       "<div>\n",
       "<style scoped>\n",
       "    .dataframe tbody tr th:only-of-type {\n",
       "        vertical-align: middle;\n",
       "    }\n",
       "\n",
       "    .dataframe tbody tr th {\n",
       "        vertical-align: top;\n",
       "    }\n",
       "\n",
       "    .dataframe thead th {\n",
       "        text-align: right;\n",
       "    }\n",
       "</style>\n",
       "<table border=\"1\" class=\"dataframe\">\n",
       "  <thead>\n",
       "    <tr style=\"text-align: right;\">\n",
       "      <th></th>\n",
       "      <th>title</th>\n",
       "      <th>cast</th>\n",
       "      <th>director</th>\n",
       "      <th>keywords</th>\n",
       "      <th>genres</th>\n",
       "    </tr>\n",
       "  </thead>\n",
       "  <tbody>\n",
       "    <tr>\n",
       "      <th>0</th>\n",
       "      <td>Toy Story</td>\n",
       "      <td>[Tom Hanks, Tim Allen, Don Rickles, Jim Varney]</td>\n",
       "      <td>John Lasseter</td>\n",
       "      <td>[jealousy, toy, boy, friendship, friends, riva...</td>\n",
       "      <td>[Animation, Comedy, Family]</td>\n",
       "    </tr>\n",
       "    <tr>\n",
       "      <th>1</th>\n",
       "      <td>Jumanji</td>\n",
       "      <td>[Robin Williams, Jonathan Hyde, Kirsten Dunst,...</td>\n",
       "      <td>Joe Johnston</td>\n",
       "      <td>[board game, disappearance, based on children'...</td>\n",
       "      <td>[Adventure, Fantasy, Family]</td>\n",
       "    </tr>\n",
       "    <tr>\n",
       "      <th>2</th>\n",
       "      <td>Grumpier Old Men</td>\n",
       "      <td>[Walter Matthau, Jack Lemmon, Ann-Margret, Sop...</td>\n",
       "      <td>Howard Deutch</td>\n",
       "      <td>[fishing, best friend, duringcreditsstinger, o...</td>\n",
       "      <td>[Romance, Comedy]</td>\n",
       "    </tr>\n",
       "    <tr>\n",
       "      <th>3</th>\n",
       "      <td>Waiting to Exhale</td>\n",
       "      <td>[Whitney Houston, Angela Bassett, Loretta Devi...</td>\n",
       "      <td>Forest Whitaker</td>\n",
       "      <td>[based on novel, interracial relationship, sin...</td>\n",
       "      <td>[Comedy, Drama, Romance]</td>\n",
       "    </tr>\n",
       "    <tr>\n",
       "      <th>4</th>\n",
       "      <td>Father of the Bride Part II</td>\n",
       "      <td>[Steve Martin, Diane Keaton, Martin Short, Kim...</td>\n",
       "      <td>Charles Shyer</td>\n",
       "      <td>[baby, midlife crisis, confidence, aging, daug...</td>\n",
       "      <td>[Comedy]</td>\n",
       "    </tr>\n",
       "  </tbody>\n",
       "</table>\n",
       "</div>"
      ],
      "text/plain": [
       "                         title  \\\n",
       "0                    Toy Story   \n",
       "1                      Jumanji   \n",
       "2             Grumpier Old Men   \n",
       "3            Waiting to Exhale   \n",
       "4  Father of the Bride Part II   \n",
       "\n",
       "                                                cast         director  \\\n",
       "0    [Tom Hanks, Tim Allen, Don Rickles, Jim Varney]    John Lasseter   \n",
       "1  [Robin Williams, Jonathan Hyde, Kirsten Dunst,...     Joe Johnston   \n",
       "2  [Walter Matthau, Jack Lemmon, Ann-Margret, Sop...    Howard Deutch   \n",
       "3  [Whitney Houston, Angela Bassett, Loretta Devi...  Forest Whitaker   \n",
       "4  [Steve Martin, Diane Keaton, Martin Short, Kim...    Charles Shyer   \n",
       "\n",
       "                                            keywords  \\\n",
       "0  [jealousy, toy, boy, friendship, friends, riva...   \n",
       "1  [board game, disappearance, based on children'...   \n",
       "2  [fishing, best friend, duringcreditsstinger, o...   \n",
       "3  [based on novel, interracial relationship, sin...   \n",
       "4  [baby, midlife crisis, confidence, aging, daug...   \n",
       "\n",
       "                         genres  \n",
       "0   [Animation, Comedy, Family]  \n",
       "1  [Adventure, Fantasy, Family]  \n",
       "2             [Romance, Comedy]  \n",
       "3      [Comedy, Drama, Romance]  \n",
       "4                      [Comedy]  "
      ]
     },
     "execution_count": 81,
     "metadata": {},
     "output_type": "execute_result"
    }
   ],
   "source": [
    "movies_metadata_small[['title', 'cast', 'director', 'keywords', 'genres']].head(5)"
   ]
  },
  {
   "cell_type": "markdown",
   "id": "912f8cc0-ed74-42b7-bd28-1970cde9ef84",
   "metadata": {},
   "source": [
    "*next step*\n",
    "\n",
    "- **Strip Spaces and Convert to Lowercase** from all our features. This way, our engine will not confuse between Johnny Depp and Johnny Galecki.\n",
    "\n",
    "- **Mention Director 3 times** to give it more weight relative to the entire cast\n"
   ]
  },
  {
   "cell_type": "code",
   "execution_count": 82,
   "id": "6505c9be-404a-41ca-b360-4a60754b01ec",
   "metadata": {},
   "outputs": [],
   "source": [
    "movies_metadata_small['cast'] = movies_metadata_small['cast'].apply(lambda x: [str.lower(i.replace(\" \", \"\")) for i in x])"
   ]
  },
  {
   "cell_type": "code",
   "execution_count": 83,
   "id": "dafba74b-af42-4c5e-8615-6e1158a49a12",
   "metadata": {},
   "outputs": [],
   "source": [
    "movies_metadata_small['director'] = movies_metadata_small['director'].astype('str').apply(lambda x: str.lower(x.replace(\" \", \"\")))\n",
    "movies_metadata_small['director'] = movies_metadata_small['director'].apply(lambda x: [x, x, x])"
   ]
  },
  {
   "cell_type": "code",
   "execution_count": 84,
   "id": "e3f33ef5-b222-433e-904a-6f694917a8c7",
   "metadata": {},
   "outputs": [
    {
     "data": {
      "text/html": [
       "<div>\n",
       "<style scoped>\n",
       "    .dataframe tbody tr th:only-of-type {\n",
       "        vertical-align: middle;\n",
       "    }\n",
       "\n",
       "    .dataframe tbody tr th {\n",
       "        vertical-align: top;\n",
       "    }\n",
       "\n",
       "    .dataframe thead th {\n",
       "        text-align: right;\n",
       "    }\n",
       "</style>\n",
       "<table border=\"1\" class=\"dataframe\">\n",
       "  <thead>\n",
       "    <tr style=\"text-align: right;\">\n",
       "      <th></th>\n",
       "      <th>title</th>\n",
       "      <th>cast</th>\n",
       "      <th>director</th>\n",
       "      <th>keywords</th>\n",
       "      <th>genres</th>\n",
       "    </tr>\n",
       "  </thead>\n",
       "  <tbody>\n",
       "    <tr>\n",
       "      <th>0</th>\n",
       "      <td>Toy Story</td>\n",
       "      <td>[tomhanks, timallen, donrickles, jimvarney]</td>\n",
       "      <td>[johnlasseter, johnlasseter, johnlasseter]</td>\n",
       "      <td>[jealousy, toy, boy, friendship, friends, riva...</td>\n",
       "      <td>[Animation, Comedy, Family]</td>\n",
       "    </tr>\n",
       "    <tr>\n",
       "      <th>1</th>\n",
       "      <td>Jumanji</td>\n",
       "      <td>[robinwilliams, jonathanhyde, kirstendunst, br...</td>\n",
       "      <td>[joejohnston, joejohnston, joejohnston]</td>\n",
       "      <td>[board game, disappearance, based on children'...</td>\n",
       "      <td>[Adventure, Fantasy, Family]</td>\n",
       "    </tr>\n",
       "    <tr>\n",
       "      <th>2</th>\n",
       "      <td>Grumpier Old Men</td>\n",
       "      <td>[waltermatthau, jacklemmon, ann-margret, sophi...</td>\n",
       "      <td>[howarddeutch, howarddeutch, howarddeutch]</td>\n",
       "      <td>[fishing, best friend, duringcreditsstinger, o...</td>\n",
       "      <td>[Romance, Comedy]</td>\n",
       "    </tr>\n",
       "    <tr>\n",
       "      <th>3</th>\n",
       "      <td>Waiting to Exhale</td>\n",
       "      <td>[whitneyhouston, angelabassett, lorettadevine,...</td>\n",
       "      <td>[forestwhitaker, forestwhitaker, forestwhitaker]</td>\n",
       "      <td>[based on novel, interracial relationship, sin...</td>\n",
       "      <td>[Comedy, Drama, Romance]</td>\n",
       "    </tr>\n",
       "    <tr>\n",
       "      <th>4</th>\n",
       "      <td>Father of the Bride Part II</td>\n",
       "      <td>[stevemartin, dianekeaton, martinshort, kimber...</td>\n",
       "      <td>[charlesshyer, charlesshyer, charlesshyer]</td>\n",
       "      <td>[baby, midlife crisis, confidence, aging, daug...</td>\n",
       "      <td>[Comedy]</td>\n",
       "    </tr>\n",
       "  </tbody>\n",
       "</table>\n",
       "</div>"
      ],
      "text/plain": [
       "                         title  \\\n",
       "0                    Toy Story   \n",
       "1                      Jumanji   \n",
       "2             Grumpier Old Men   \n",
       "3            Waiting to Exhale   \n",
       "4  Father of the Bride Part II   \n",
       "\n",
       "                                                cast  \\\n",
       "0        [tomhanks, timallen, donrickles, jimvarney]   \n",
       "1  [robinwilliams, jonathanhyde, kirstendunst, br...   \n",
       "2  [waltermatthau, jacklemmon, ann-margret, sophi...   \n",
       "3  [whitneyhouston, angelabassett, lorettadevine,...   \n",
       "4  [stevemartin, dianekeaton, martinshort, kimber...   \n",
       "\n",
       "                                           director  \\\n",
       "0        [johnlasseter, johnlasseter, johnlasseter]   \n",
       "1           [joejohnston, joejohnston, joejohnston]   \n",
       "2        [howarddeutch, howarddeutch, howarddeutch]   \n",
       "3  [forestwhitaker, forestwhitaker, forestwhitaker]   \n",
       "4        [charlesshyer, charlesshyer, charlesshyer]   \n",
       "\n",
       "                                            keywords  \\\n",
       "0  [jealousy, toy, boy, friendship, friends, riva...   \n",
       "1  [board game, disappearance, based on children'...   \n",
       "2  [fishing, best friend, duringcreditsstinger, o...   \n",
       "3  [based on novel, interracial relationship, sin...   \n",
       "4  [baby, midlife crisis, confidence, aging, daug...   \n",
       "\n",
       "                         genres  \n",
       "0   [Animation, Comedy, Family]  \n",
       "1  [Adventure, Fantasy, Family]  \n",
       "2             [Romance, Comedy]  \n",
       "3      [Comedy, Drama, Romance]  \n",
       "4                      [Comedy]  "
      ]
     },
     "execution_count": 84,
     "metadata": {},
     "output_type": "execute_result"
    }
   ],
   "source": [
    "movies_metadata_small[['title', 'cast', 'director', 'keywords', 'genres']].head(5)"
   ]
  },
  {
   "cell_type": "markdown",
   "id": "d221dd76-f96c-4f18-bf87-373b6c6d9d46",
   "metadata": {},
   "source": [
    "### 4.2.3 Stemming"
   ]
  },
  {
   "cell_type": "markdown",
   "id": "679ce9c7-bc37-499b-a5e6-186d26cd9345",
   "metadata": {},
   "source": [
    "`Stemming` คือ กระบวนการเรียนรู้แบบฮิวริสติก (heuristic process) ซึ่ง**คำลงท้ายจะถูกตัดออก** เป็นการยับยั้งเกิดจากคำพูดโดยที่ไม่รู้บริบท ตัวอย่างเช่น คำว่า jumped และ jumps อาจลดลงเป็น jump ในขณะที่ jumpiness อาจลดลงถึง jumpi"
   ]
  },
  {
   "cell_type": "markdown",
   "id": "f9aaeb04-cb10-431f-ad5e-391013c26c2b",
   "metadata": {},
   "source": [
    "`Keywords`"
   ]
  },
  {
   "cell_type": "code",
   "execution_count": 85,
   "id": "9bbc1cbb-8a62-4577-b4d2-0d0a78523d32",
   "metadata": {},
   "outputs": [],
   "source": [
    "s = movies_metadata_small.apply(lambda x: pd.Series(x['keywords']), axis = 1).stack().reset_index(level = 1, drop = True)\n",
    "s.name = 'keyword'"
   ]
  },
  {
   "cell_type": "code",
   "execution_count": 86,
   "id": "c388d852-00cb-483a-abdb-04f27a279ff2",
   "metadata": {},
   "outputs": [
    {
     "data": {
      "text/plain": [
       "independent film        610\n",
       "woman director          550\n",
       "murder                  399\n",
       "duringcreditsstinger    327\n",
       "based on novel          318\n",
       "violence                264\n",
       "love                    222\n",
       "musical                 219\n",
       "sex                     219\n",
       "suspense                212\n",
       "Name: keyword, dtype: int64"
      ]
     },
     "execution_count": 86,
     "metadata": {},
     "output_type": "execute_result"
    }
   ],
   "source": [
    "s = s.value_counts()\n",
    "s[:10]"
   ]
  },
  {
   "cell_type": "code",
   "execution_count": 87,
   "id": "22a8e4dd-9201-4960-9527-9dcedd778544",
   "metadata": {},
   "outputs": [],
   "source": [
    "s = s[s > 1]"
   ]
  },
  {
   "cell_type": "code",
   "execution_count": 88,
   "id": "607eb959-3ac1-4359-a8f3-a2a4a6bd8230",
   "metadata": {},
   "outputs": [
    {
     "data": {
      "text/plain": [
       "('sport', 'dog', 'good')"
      ]
     },
     "execution_count": 88,
     "metadata": {},
     "output_type": "execute_result"
    }
   ],
   "source": [
    "stemmer = SnowballStemmer('english')\n",
    "stemmer.stem('sportingly'), stemmer.stem('dogs'), stemmer.stem('goodness')"
   ]
  },
  {
   "cell_type": "code",
   "execution_count": 89,
   "id": "9f9a9a13-bcd6-4cad-a2a5-a1aa98ad1274",
   "metadata": {},
   "outputs": [],
   "source": [
    "def filter_keywords(x):\n",
    "    words = []\n",
    "    for i in x:\n",
    "        if i in s:\n",
    "            words.append(i)\n",
    "    return words"
   ]
  },
  {
   "cell_type": "code",
   "execution_count": 90,
   "id": "89ebf801-bac7-460d-b82c-ffb3d86b959e",
   "metadata": {},
   "outputs": [],
   "source": [
    "movies_metadata_small['keywords'] = movies_metadata_small['keywords'].apply(filter_keywords)\n",
    "movies_metadata_small['keywords'] = movies_metadata_small['keywords'].apply(lambda x: [stemmer.stem(i) for i in x])\n",
    "movies_metadata_small['keywords'] = movies_metadata_small['keywords'].apply(lambda x: [str.lower(i.replace(\" \", \"\")) for i in x])"
   ]
  },
  {
   "cell_type": "code",
   "execution_count": 91,
   "id": "9ada7de2-9fbb-4e12-8882-6b1b04af2fd8",
   "metadata": {},
   "outputs": [
    {
     "data": {
      "text/html": [
       "<div>\n",
       "<style scoped>\n",
       "    .dataframe tbody tr th:only-of-type {\n",
       "        vertical-align: middle;\n",
       "    }\n",
       "\n",
       "    .dataframe tbody tr th {\n",
       "        vertical-align: top;\n",
       "    }\n",
       "\n",
       "    .dataframe thead th {\n",
       "        text-align: right;\n",
       "    }\n",
       "</style>\n",
       "<table border=\"1\" class=\"dataframe\">\n",
       "  <thead>\n",
       "    <tr style=\"text-align: right;\">\n",
       "      <th></th>\n",
       "      <th>title</th>\n",
       "      <th>cast</th>\n",
       "      <th>director</th>\n",
       "      <th>keywords</th>\n",
       "      <th>genres</th>\n",
       "    </tr>\n",
       "  </thead>\n",
       "  <tbody>\n",
       "    <tr>\n",
       "      <th>0</th>\n",
       "      <td>Toy Story</td>\n",
       "      <td>[tomhanks, timallen, donrickles, jimvarney]</td>\n",
       "      <td>[johnlasseter, johnlasseter, johnlasseter]</td>\n",
       "      <td>[jealousi, toy, boy, friendship, friend, rival...</td>\n",
       "      <td>[Animation, Comedy, Family]</td>\n",
       "    </tr>\n",
       "    <tr>\n",
       "      <th>1</th>\n",
       "      <td>Jumanji</td>\n",
       "      <td>[robinwilliams, jonathanhyde, kirstendunst, br...</td>\n",
       "      <td>[joejohnston, joejohnston, joejohnston]</td>\n",
       "      <td>[boardgam, disappear, basedonchildren'sbook, n...</td>\n",
       "      <td>[Adventure, Fantasy, Family]</td>\n",
       "    </tr>\n",
       "    <tr>\n",
       "      <th>2</th>\n",
       "      <td>Grumpier Old Men</td>\n",
       "      <td>[waltermatthau, jacklemmon, ann-margret, sophi...</td>\n",
       "      <td>[howarddeutch, howarddeutch, howarddeutch]</td>\n",
       "      <td>[fish, bestfriend, duringcreditssting]</td>\n",
       "      <td>[Romance, Comedy]</td>\n",
       "    </tr>\n",
       "    <tr>\n",
       "      <th>3</th>\n",
       "      <td>Waiting to Exhale</td>\n",
       "      <td>[whitneyhouston, angelabassett, lorettadevine,...</td>\n",
       "      <td>[forestwhitaker, forestwhitaker, forestwhitaker]</td>\n",
       "      <td>[basedonnovel, interracialrelationship, single...</td>\n",
       "      <td>[Comedy, Drama, Romance]</td>\n",
       "    </tr>\n",
       "    <tr>\n",
       "      <th>4</th>\n",
       "      <td>Father of the Bride Part II</td>\n",
       "      <td>[stevemartin, dianekeaton, martinshort, kimber...</td>\n",
       "      <td>[charlesshyer, charlesshyer, charlesshyer]</td>\n",
       "      <td>[babi, midlifecrisi, confid, age, daughter, mo...</td>\n",
       "      <td>[Comedy]</td>\n",
       "    </tr>\n",
       "  </tbody>\n",
       "</table>\n",
       "</div>"
      ],
      "text/plain": [
       "                         title  \\\n",
       "0                    Toy Story   \n",
       "1                      Jumanji   \n",
       "2             Grumpier Old Men   \n",
       "3            Waiting to Exhale   \n",
       "4  Father of the Bride Part II   \n",
       "\n",
       "                                                cast  \\\n",
       "0        [tomhanks, timallen, donrickles, jimvarney]   \n",
       "1  [robinwilliams, jonathanhyde, kirstendunst, br...   \n",
       "2  [waltermatthau, jacklemmon, ann-margret, sophi...   \n",
       "3  [whitneyhouston, angelabassett, lorettadevine,...   \n",
       "4  [stevemartin, dianekeaton, martinshort, kimber...   \n",
       "\n",
       "                                           director  \\\n",
       "0        [johnlasseter, johnlasseter, johnlasseter]   \n",
       "1           [joejohnston, joejohnston, joejohnston]   \n",
       "2        [howarddeutch, howarddeutch, howarddeutch]   \n",
       "3  [forestwhitaker, forestwhitaker, forestwhitaker]   \n",
       "4        [charlesshyer, charlesshyer, charlesshyer]   \n",
       "\n",
       "                                            keywords  \\\n",
       "0  [jealousi, toy, boy, friendship, friend, rival...   \n",
       "1  [boardgam, disappear, basedonchildren'sbook, n...   \n",
       "2             [fish, bestfriend, duringcreditssting]   \n",
       "3  [basedonnovel, interracialrelationship, single...   \n",
       "4  [babi, midlifecrisi, confid, age, daughter, mo...   \n",
       "\n",
       "                         genres  \n",
       "0   [Animation, Comedy, Family]  \n",
       "1  [Adventure, Fantasy, Family]  \n",
       "2             [Romance, Comedy]  \n",
       "3      [Comedy, Drama, Romance]  \n",
       "4                      [Comedy]  "
      ]
     },
     "execution_count": 91,
     "metadata": {},
     "output_type": "execute_result"
    }
   ],
   "source": [
    "movies_metadata_small[['title', 'cast', 'director', 'keywords', 'genres']].head(5)"
   ]
  },
  {
   "cell_type": "markdown",
   "id": "c5b5b5ed-5ec8-491f-82f8-6040067ffd80",
   "metadata": {},
   "source": [
    "### 4.2.4  CountVectorizer"
   ]
  },
  {
   "cell_type": "markdown",
   "id": "f38081ca-8f88-4f57-8e16-5cb1f20baca6",
   "metadata": {},
   "source": [
    "`Count Vectorizer` คือ การนำกลุ่มของ token มาสร้างเป็น matrix โดยใช้กลุ่มของคำที่มีเป็นตัวอ้างอิง คำที่มีในประโยคจะถูกตั้งค่าเป็น 1 คำที่ไม่มีจะเป็น 0 เช่น   \n",
    "มีกลุ่มของคำ `[“This”, “is”, “am”, “are”, “a”, “be”, “test”, “word”, “sentence”]`   \n",
    "ประโยค `“This is a test sentence”`   \n",
    "จะแปลงเป็น matrix ได้ดังนี้ `[1, 1, 0, 0, 1, 0, 1, 0 ,1]`  "
   ]
  },
  {
   "cell_type": "markdown",
   "id": "ccbd8c42-9356-43be-9c88-9fb6d213bee3",
   "metadata": {},
   "source": [
    "ใช้ `CountVectorizer()` แทน `TF-IDF` เพราะ ไม่ต้องการลดน้ำหนักการแสดงของนักแสดง/ผู้กำกับ หากแสดงหรือกำกับภาพยนตร์ค่อนข้างมาก มันไม่สมเหตุสมผลเลย"
   ]
  },
  {
   "cell_type": "markdown",
   "id": "7f5cb095-ad4c-46f2-8abb-f99bb77d4857",
   "metadata": {},
   "source": [
    "**`soup`**"
   ]
  },
  {
   "cell_type": "code",
   "execution_count": 92,
   "id": "a3cc9c72-2b89-4061-88ef-7f5dcd337616",
   "metadata": {},
   "outputs": [],
   "source": [
    "movies_metadata_small['soup'] = movies_metadata_small['keywords'] + movies_metadata_small['cast'] + movies_metadata_small['director'] + movies_metadata_small['genres']\n",
    "movies_metadata_small['soup'] = movies_metadata_small['soup'].apply(lambda x: ' '.join(x))"
   ]
  },
  {
   "cell_type": "code",
   "execution_count": 93,
   "id": "2fe0ce53-f4d4-44a1-9628-608a79fc7b55",
   "metadata": {},
   "outputs": [
    {
     "data": {
      "text/html": [
       "<div>\n",
       "<style scoped>\n",
       "    .dataframe tbody tr th:only-of-type {\n",
       "        vertical-align: middle;\n",
       "    }\n",
       "\n",
       "    .dataframe tbody tr th {\n",
       "        vertical-align: top;\n",
       "    }\n",
       "\n",
       "    .dataframe thead th {\n",
       "        text-align: right;\n",
       "    }\n",
       "</style>\n",
       "<table border=\"1\" class=\"dataframe\">\n",
       "  <thead>\n",
       "    <tr style=\"text-align: right;\">\n",
       "      <th></th>\n",
       "      <th>title</th>\n",
       "      <th>cast</th>\n",
       "      <th>director</th>\n",
       "      <th>keywords</th>\n",
       "      <th>genres</th>\n",
       "      <th>soup</th>\n",
       "    </tr>\n",
       "  </thead>\n",
       "  <tbody>\n",
       "    <tr>\n",
       "      <th>0</th>\n",
       "      <td>Toy Story</td>\n",
       "      <td>[tomhanks, timallen, donrickles, jimvarney]</td>\n",
       "      <td>[johnlasseter, johnlasseter, johnlasseter]</td>\n",
       "      <td>[jealousi, toy, boy, friendship, friend, rival...</td>\n",
       "      <td>[Animation, Comedy, Family]</td>\n",
       "      <td>jealousi toy boy friendship friend rivalri boy...</td>\n",
       "    </tr>\n",
       "    <tr>\n",
       "      <th>1</th>\n",
       "      <td>Jumanji</td>\n",
       "      <td>[robinwilliams, jonathanhyde, kirstendunst, br...</td>\n",
       "      <td>[joejohnston, joejohnston, joejohnston]</td>\n",
       "      <td>[boardgam, disappear, basedonchildren'sbook, n...</td>\n",
       "      <td>[Adventure, Fantasy, Family]</td>\n",
       "      <td>boardgam disappear basedonchildren'sbook newho...</td>\n",
       "    </tr>\n",
       "    <tr>\n",
       "      <th>2</th>\n",
       "      <td>Grumpier Old Men</td>\n",
       "      <td>[waltermatthau, jacklemmon, ann-margret, sophi...</td>\n",
       "      <td>[howarddeutch, howarddeutch, howarddeutch]</td>\n",
       "      <td>[fish, bestfriend, duringcreditssting]</td>\n",
       "      <td>[Romance, Comedy]</td>\n",
       "      <td>fish bestfriend duringcreditssting waltermatth...</td>\n",
       "    </tr>\n",
       "    <tr>\n",
       "      <th>3</th>\n",
       "      <td>Waiting to Exhale</td>\n",
       "      <td>[whitneyhouston, angelabassett, lorettadevine,...</td>\n",
       "      <td>[forestwhitaker, forestwhitaker, forestwhitaker]</td>\n",
       "      <td>[basedonnovel, interracialrelationship, single...</td>\n",
       "      <td>[Comedy, Drama, Romance]</td>\n",
       "      <td>basedonnovel interracialrelationship singlemot...</td>\n",
       "    </tr>\n",
       "    <tr>\n",
       "      <th>4</th>\n",
       "      <td>Father of the Bride Part II</td>\n",
       "      <td>[stevemartin, dianekeaton, martinshort, kimber...</td>\n",
       "      <td>[charlesshyer, charlesshyer, charlesshyer]</td>\n",
       "      <td>[babi, midlifecrisi, confid, age, daughter, mo...</td>\n",
       "      <td>[Comedy]</td>\n",
       "      <td>babi midlifecrisi confid age daughter motherda...</td>\n",
       "    </tr>\n",
       "  </tbody>\n",
       "</table>\n",
       "</div>"
      ],
      "text/plain": [
       "                         title  \\\n",
       "0                    Toy Story   \n",
       "1                      Jumanji   \n",
       "2             Grumpier Old Men   \n",
       "3            Waiting to Exhale   \n",
       "4  Father of the Bride Part II   \n",
       "\n",
       "                                                cast  \\\n",
       "0        [tomhanks, timallen, donrickles, jimvarney]   \n",
       "1  [robinwilliams, jonathanhyde, kirstendunst, br...   \n",
       "2  [waltermatthau, jacklemmon, ann-margret, sophi...   \n",
       "3  [whitneyhouston, angelabassett, lorettadevine,...   \n",
       "4  [stevemartin, dianekeaton, martinshort, kimber...   \n",
       "\n",
       "                                           director  \\\n",
       "0        [johnlasseter, johnlasseter, johnlasseter]   \n",
       "1           [joejohnston, joejohnston, joejohnston]   \n",
       "2        [howarddeutch, howarddeutch, howarddeutch]   \n",
       "3  [forestwhitaker, forestwhitaker, forestwhitaker]   \n",
       "4        [charlesshyer, charlesshyer, charlesshyer]   \n",
       "\n",
       "                                            keywords  \\\n",
       "0  [jealousi, toy, boy, friendship, friend, rival...   \n",
       "1  [boardgam, disappear, basedonchildren'sbook, n...   \n",
       "2             [fish, bestfriend, duringcreditssting]   \n",
       "3  [basedonnovel, interracialrelationship, single...   \n",
       "4  [babi, midlifecrisi, confid, age, daughter, mo...   \n",
       "\n",
       "                         genres  \\\n",
       "0   [Animation, Comedy, Family]   \n",
       "1  [Adventure, Fantasy, Family]   \n",
       "2             [Romance, Comedy]   \n",
       "3      [Comedy, Drama, Romance]   \n",
       "4                      [Comedy]   \n",
       "\n",
       "                                                soup  \n",
       "0  jealousi toy boy friendship friend rivalri boy...  \n",
       "1  boardgam disappear basedonchildren'sbook newho...  \n",
       "2  fish bestfriend duringcreditssting waltermatth...  \n",
       "3  basedonnovel interracialrelationship singlemot...  \n",
       "4  babi midlifecrisi confid age daughter motherda...  "
      ]
     },
     "execution_count": 93,
     "metadata": {},
     "output_type": "execute_result"
    }
   ],
   "source": [
    "movies_metadata_small[['title', 'cast', 'director', 'keywords', 'genres', 'soup']].head(5)"
   ]
  },
  {
   "cell_type": "code",
   "execution_count": 94,
   "id": "c3120797-131f-4dae-b067-ddc3a0be4a75",
   "metadata": {},
   "outputs": [],
   "source": [
    "count = CountVectorizer(analyzer = 'word', \n",
    "                        ngram_range = (1, 2), \n",
    "                        min_df = 0, \n",
    "                        stop_words = 'english')\n",
    "count_matrix = count.fit_transform(movies_metadata_small['soup'])"
   ]
  },
  {
   "cell_type": "code",
   "execution_count": 95,
   "id": "c761b35d-2077-46d3-be02-b2446e0d9a7a",
   "metadata": {},
   "outputs": [
    {
     "name": "stdout",
     "output_type": "stream",
     "text": [
      "No. of feature_words: (9219, 119620)\n"
     ]
    }
   ],
   "source": [
    "print(f'No. of feature_words: {count_matrix.shape}')"
   ]
  },
  {
   "cell_type": "markdown",
   "id": "32068e39-44a1-4a80-9341-9bfc4754b48c",
   "metadata": {},
   "source": [
    "*สรุป*  \n",
    "มีการใช้คำ 119620 คำ เพื่ออธิบายภาพยนต์ 9219 เรื่อง"
   ]
  },
  {
   "cell_type": "markdown",
   "id": "8f257b1a-8ffe-433d-8771-a2c0753c1f10",
   "metadata": {},
   "source": [
    "### 4.2.5 Cosine Similarity"
   ]
  },
  {
   "cell_type": "markdown",
   "id": "1be1e557-bb42-4711-93c9-78faba1e4b4c",
   "metadata": {},
   "source": [
    "ใช้ `cosine similarity` ในการคำนวณตัวเลขเชิงปริมาณที่แสดงถึงความคล้ายคลึงกันระหว่างภาพยนตร์สองเรื่อง เราใช้คะแนนความคล้ายคลึงกันของโคไซน์เนื่องจากไม่ขึ้นอยู่กับขนาดและคำนวณได้ง่ายและรวดเร็ว ในทางคณิตศาสตร์กำหนดไว้ดังนี้\n",
    "\n",
    "![](https://wikimedia.org/api/rest_v1/media/math/render/svg/0a4c9a778656537624a3303e646559a429868863)\n",
    "\n"
   ]
  },
  {
   "cell_type": "code",
   "execution_count": 96,
   "id": "a667076c-df29-453e-bf95-09423b3cd5b3",
   "metadata": {},
   "outputs": [],
   "source": [
    "cosine_sim_2 = cosine_similarity(count_matrix, count_matrix)"
   ]
  },
  {
   "cell_type": "code",
   "execution_count": 97,
   "id": "4562077d-1cd0-4eb2-824d-feeaa5e3c8f6",
   "metadata": {},
   "outputs": [
    {
     "data": {
      "text/plain": [
       "array([1.        , 0.02328101, 0.02594996, ..., 0.        , 0.        ,\n",
       "       0.        ])"
      ]
     },
     "execution_count": 97,
     "metadata": {},
     "output_type": "execute_result"
    }
   ],
   "source": [
    "cosine_sim_2[0]"
   ]
  },
  {
   "cell_type": "markdown",
   "id": "18b09cf9-a72e-49fe-8a64-d61d4bca17a3",
   "metadata": {},
   "source": [
    "### 4.2.6 Get Recommendations"
   ]
  },
  {
   "cell_type": "code",
   "execution_count": 98,
   "id": "7a09ed93-2b0d-41d2-bfc7-75373d19d361",
   "metadata": {},
   "outputs": [],
   "source": [
    "movies_metadata_small = movies_metadata_small.reset_index()\n",
    "titles = movies_metadata_small['title']\n",
    "indices = pd.Series(movies_metadata_small.index, index = movies_metadata_small['title'])"
   ]
  },
  {
   "cell_type": "code",
   "execution_count": 99,
   "id": "edb7c4f0-03a7-4cac-b766-52778e484a91",
   "metadata": {},
   "outputs": [
    {
     "name": "stdout",
     "output_type": "stream",
     "text": [
      "Recommendations: \n"
     ]
    },
    {
     "data": {
      "text/plain": [
       "8031         The Dark Knight Rises\n",
       "6218                 Batman Begins\n",
       "6623                  The Prestige\n",
       "2085                     Following\n",
       "7648                     Inception\n",
       "4145                      Insomnia\n",
       "3381                       Memento\n",
       "8613                  Interstellar\n",
       "7659    Batman: Under the Red Hood\n",
       "1134                Batman Returns\n",
       "Name: title, dtype: object"
      ]
     },
     "execution_count": 99,
     "metadata": {},
     "output_type": "execute_result"
    }
   ],
   "source": [
    "movie = 'The Dark Knight'\n",
    "print(f'Recommendations: ')\n",
    "get_recommendations(movie, cosine_sim = cosine_sim_2)"
   ]
  },
  {
   "cell_type": "markdown",
   "id": "28dcbca4-c65d-4b22-9e49-990e3e80473f",
   "metadata": {},
   "source": [
    "*สรุป*  \n",
    "ระแบบแนะนำภาพยนต์อื่น ๆ ของ **Christopher Nolan** เป็นอันดับต้น ๆ ในรายการ เนื่องจาก `Director` มีน้ำหนักมาก \n",
    "\n",
    "*ตัวอย่างภาพยนต์ของ **Christopher Nolan***\n",
    "\n",
    "    1.) Batman Begins (2005) แบทแมน บีกินส์\n",
    "    2.) The Dark Knight (2008) แบทแมน อัศวินรัตติกาล\n",
    "    3.) The Dark Knight Rises (2012) แบทแมน อัศวินรัตติกาล ผงาด\n",
    "    4.) Dunkirk (2017) ดันเคิร์ก\n",
    "    5.) Following (1998) แกะรอยอาชญากรซ่อนเขี้ยว\n",
    "    6.) Inception (2010) จิตพิฆาตโลก\n",
    "    7.) Memento (2000) ภาพหลอนซ่อนรอยมรณะ\n",
    "    8.) Insomnia (2002) เกมเขย่าขั้วอำมหิต\n",
    "    9.) The Prestige (2006) ศึกมายากลหยุดโลก\n",
    "    10.) Interstellar (2014) ทะยานดาวกู้โลก"
   ]
  },
  {
   "cell_type": "code",
   "execution_count": 100,
   "id": "44c561f2-bbe0-43c5-8dbe-a13e99eff054",
   "metadata": {},
   "outputs": [
    {
     "name": "stdout",
     "output_type": "stream",
     "text": [
      "Recommendations: \n"
     ]
    },
    {
     "data": {
      "text/plain": [
       "3319               Head Over Heels\n",
       "4763                 Freaky Friday\n",
       "1329              The House of Yes\n",
       "6277              Just Like Heaven\n",
       "7905         Mr. Popper's Penguins\n",
       "7332    Ghosts of Girlfriends Past\n",
       "6959     The Spiderwick Chronicles\n",
       "8883                      The DUFF\n",
       "6698         It's a Boy Girl Thing\n",
       "7377       I Love You, Beth Cooper\n",
       "Name: title, dtype: object"
      ]
     },
     "execution_count": 100,
     "metadata": {},
     "output_type": "execute_result"
    }
   ],
   "source": [
    "movie = 'Mean Girls'\n",
    "print(f'Recommendations: ')\n",
    "get_recommendations(movie, cosine_sim = cosine_sim_2)"
   ]
  },
  {
   "cell_type": "markdown",
   "id": "f3a0af78-82c1-4dc1-acb4-58a89a0679f5",
   "metadata": {},
   "source": [
    "### 4.2.7 Improve Recommendations"
   ]
  },
  {
   "cell_type": "markdown",
   "id": "2f95d94e-9662-4b28-b368-419a6e87c97b",
   "metadata": {},
   "source": [
    "สิ่งหนึ่งที่เราสังเกตเห็นเกี่ยวกับระบบแนะนำของเรา คือ ระบบแนะนำภาพยนตร์โดยไม่คำนึงถึง **`Popularity and Ratings`** เป็นความจริงที่ **Batman and Robin** มีตัวละครที่คล้ายกันมากเมื่อเทียบกับ **The Dark Knight** แต่มันเป็นภาพยนต์ที่แย่มากที่ไม่ควรแนะนำให้ใครดู\n",
    "\n",
    "ดังนั้นเราจะเพิ่มกลไกในการลบภาพยนตร์ที่ไม่ดี และส่งคืนภาพยนตร์ที่ได้รับความนิยมและได้รับการตอบรับอย่างดี\n",
    "\n",
    "ใช้ภาพยนต์ 25 อันดับแรกมาวัดจากคะแนนความเหมือน และคำนวณคะแนนของภาพยนต์ 50th percentile จากนั้นใช้สิ่งนี้เป็นค่าของ m แล้วคำนวณการจัด rating แบบถ่วงน้ำหนักของภาพยนตร์แต่ละเรื่องโดยใช้สูตรของ IMDB เช่นเดียวกับที่ทำในส่วน Demographic Filtering"
   ]
  },
  {
   "cell_type": "markdown",
   "id": "dcd609c2-2dac-4464-ad1b-7b4ffdbc5851",
   "metadata": {},
   "source": [
    "**`Popularity and Ratings`**"
   ]
  },
  {
   "cell_type": "code",
   "execution_count": 101,
   "id": "3bbd1fe3-c355-4f81-b47d-6c8130ae4252",
   "metadata": {},
   "outputs": [],
   "source": [
    "def improved_recommendations(title, cosine_sim = cosine_sim_2):\n",
    "    idx = indices[title]\n",
    "    sim_scores = list(enumerate(cosine_sim[idx]))\n",
    "    sim_scores = sorted(sim_scores, key = lambda x: x[1], reverse = True)\n",
    "    sim_scores = sim_scores[1:26]\n",
    "    movie_indices = [i[0] for i in sim_scores]\n",
    "    \n",
    "    movies = movies_metadata_small.iloc[movie_indices][['title', 'vote_count', 'vote_average', 'year']]\n",
    "    vote_counts = movies[movies['vote_count'].notnull()]['vote_count'].astype('int')\n",
    "    vote_averages = movies[movies['vote_average'].notnull()]['vote_average'].astype('int')\n",
    "    C = vote_averages.mean()\n",
    "    m = vote_counts.quantile(0.50)\n",
    "    qualified = movies[(movies['vote_count'] >= m) & (movies['vote_count'].notnull()) & (movies['vote_average'].notnull())]\n",
    "    qualified['vote_count'] = qualified['vote_count'].astype('int')\n",
    "    qualified['vote_average'] = qualified['vote_average'].astype('int')\n",
    "    qualified['wr'] = qualified.apply(weighted_rating, axis = 1)\n",
    "    qualified = qualified.sort_values('wr', ascending = False).head(10)\n",
    "    return qualified"
   ]
  },
  {
   "cell_type": "code",
   "execution_count": 102,
   "id": "e0beaf4b-04b5-4e83-84f9-5bf85de51ba1",
   "metadata": {},
   "outputs": [
    {
     "name": "stdout",
     "output_type": "stream",
     "text": [
      "Recommendations: \n"
     ]
    },
    {
     "data": {
      "text/html": [
       "<div>\n",
       "<style scoped>\n",
       "    .dataframe tbody tr th:only-of-type {\n",
       "        vertical-align: middle;\n",
       "    }\n",
       "\n",
       "    .dataframe tbody tr th {\n",
       "        vertical-align: top;\n",
       "    }\n",
       "\n",
       "    .dataframe thead th {\n",
       "        text-align: right;\n",
       "    }\n",
       "</style>\n",
       "<table border=\"1\" class=\"dataframe\">\n",
       "  <thead>\n",
       "    <tr style=\"text-align: right;\">\n",
       "      <th></th>\n",
       "      <th>title</th>\n",
       "      <th>vote_count</th>\n",
       "      <th>vote_average</th>\n",
       "      <th>year</th>\n",
       "      <th>wr</th>\n",
       "    </tr>\n",
       "  </thead>\n",
       "  <tbody>\n",
       "    <tr>\n",
       "      <th>7648</th>\n",
       "      <td>Inception</td>\n",
       "      <td>14075</td>\n",
       "      <td>8</td>\n",
       "      <td>2010</td>\n",
       "      <td>7.917588</td>\n",
       "    </tr>\n",
       "    <tr>\n",
       "      <th>8613</th>\n",
       "      <td>Interstellar</td>\n",
       "      <td>11187</td>\n",
       "      <td>8</td>\n",
       "      <td>2014</td>\n",
       "      <td>7.897107</td>\n",
       "    </tr>\n",
       "    <tr>\n",
       "      <th>6623</th>\n",
       "      <td>The Prestige</td>\n",
       "      <td>4510</td>\n",
       "      <td>8</td>\n",
       "      <td>2006</td>\n",
       "      <td>7.758148</td>\n",
       "    </tr>\n",
       "    <tr>\n",
       "      <th>3381</th>\n",
       "      <td>Memento</td>\n",
       "      <td>4168</td>\n",
       "      <td>8</td>\n",
       "      <td>2000</td>\n",
       "      <td>7.740175</td>\n",
       "    </tr>\n",
       "    <tr>\n",
       "      <th>8031</th>\n",
       "      <td>The Dark Knight Rises</td>\n",
       "      <td>9263</td>\n",
       "      <td>7</td>\n",
       "      <td>2012</td>\n",
       "      <td>6.921448</td>\n",
       "    </tr>\n",
       "    <tr>\n",
       "      <th>6218</th>\n",
       "      <td>Batman Begins</td>\n",
       "      <td>7511</td>\n",
       "      <td>7</td>\n",
       "      <td>2005</td>\n",
       "      <td>6.904127</td>\n",
       "    </tr>\n",
       "    <tr>\n",
       "      <th>1134</th>\n",
       "      <td>Batman Returns</td>\n",
       "      <td>1706</td>\n",
       "      <td>6</td>\n",
       "      <td>1992</td>\n",
       "      <td>5.846862</td>\n",
       "    </tr>\n",
       "    <tr>\n",
       "      <th>4145</th>\n",
       "      <td>Insomnia</td>\n",
       "      <td>1181</td>\n",
       "      <td>6</td>\n",
       "      <td>2002</td>\n",
       "      <td>5.797081</td>\n",
       "    </tr>\n",
       "    <tr>\n",
       "      <th>132</th>\n",
       "      <td>Batman Forever</td>\n",
       "      <td>1529</td>\n",
       "      <td>5</td>\n",
       "      <td>1995</td>\n",
       "      <td>5.054144</td>\n",
       "    </tr>\n",
       "    <tr>\n",
       "      <th>9162</th>\n",
       "      <td>London Has Fallen</td>\n",
       "      <td>1656</td>\n",
       "      <td>5</td>\n",
       "      <td>2016</td>\n",
       "      <td>5.050854</td>\n",
       "    </tr>\n",
       "  </tbody>\n",
       "</table>\n",
       "</div>"
      ],
      "text/plain": [
       "                      title  vote_count  vote_average  year        wr\n",
       "7648              Inception       14075             8  2010  7.917588\n",
       "8613           Interstellar       11187             8  2014  7.897107\n",
       "6623           The Prestige        4510             8  2006  7.758148\n",
       "3381                Memento        4168             8  2000  7.740175\n",
       "8031  The Dark Knight Rises        9263             7  2012  6.921448\n",
       "6218          Batman Begins        7511             7  2005  6.904127\n",
       "1134         Batman Returns        1706             6  1992  5.846862\n",
       "4145               Insomnia        1181             6  2002  5.797081\n",
       "132          Batman Forever        1529             5  1995  5.054144\n",
       "9162      London Has Fallen        1656             5  2016  5.050854"
      ]
     },
     "execution_count": 102,
     "metadata": {},
     "output_type": "execute_result"
    }
   ],
   "source": [
    "movie = 'The Dark Knight'\n",
    "print(f'Recommendations: ')\n",
    "improved_recommendations(movie, cosine_sim = cosine_sim_2)"
   ]
  },
  {
   "cell_type": "code",
   "execution_count": 103,
   "id": "b1f99abd-5353-449a-95cf-ee2fa6b95cbe",
   "metadata": {},
   "outputs": [
    {
     "name": "stdout",
     "output_type": "stream",
     "text": [
      "Recommendations: \n"
     ]
    },
    {
     "data": {
      "text/html": [
       "<div>\n",
       "<style scoped>\n",
       "    .dataframe tbody tr th:only-of-type {\n",
       "        vertical-align: middle;\n",
       "    }\n",
       "\n",
       "    .dataframe tbody tr th {\n",
       "        vertical-align: top;\n",
       "    }\n",
       "\n",
       "    .dataframe thead th {\n",
       "        text-align: right;\n",
       "    }\n",
       "</style>\n",
       "<table border=\"1\" class=\"dataframe\">\n",
       "  <thead>\n",
       "    <tr style=\"text-align: right;\">\n",
       "      <th></th>\n",
       "      <th>title</th>\n",
       "      <th>vote_count</th>\n",
       "      <th>vote_average</th>\n",
       "      <th>year</th>\n",
       "      <th>wr</th>\n",
       "    </tr>\n",
       "  </thead>\n",
       "  <tbody>\n",
       "    <tr>\n",
       "      <th>1547</th>\n",
       "      <td>The Breakfast Club</td>\n",
       "      <td>2189</td>\n",
       "      <td>7</td>\n",
       "      <td>1985</td>\n",
       "      <td>6.709602</td>\n",
       "    </tr>\n",
       "    <tr>\n",
       "      <th>390</th>\n",
       "      <td>Dazed and Confused</td>\n",
       "      <td>588</td>\n",
       "      <td>7</td>\n",
       "      <td>1993</td>\n",
       "      <td>6.254682</td>\n",
       "    </tr>\n",
       "    <tr>\n",
       "      <th>8883</th>\n",
       "      <td>The DUFF</td>\n",
       "      <td>1372</td>\n",
       "      <td>6</td>\n",
       "      <td>2015</td>\n",
       "      <td>5.818541</td>\n",
       "    </tr>\n",
       "    <tr>\n",
       "      <th>3712</th>\n",
       "      <td>The Princess Diaries</td>\n",
       "      <td>1063</td>\n",
       "      <td>6</td>\n",
       "      <td>2001</td>\n",
       "      <td>5.781086</td>\n",
       "    </tr>\n",
       "    <tr>\n",
       "      <th>4763</th>\n",
       "      <td>Freaky Friday</td>\n",
       "      <td>919</td>\n",
       "      <td>6</td>\n",
       "      <td>2003</td>\n",
       "      <td>5.757786</td>\n",
       "    </tr>\n",
       "    <tr>\n",
       "      <th>6277</th>\n",
       "      <td>Just Like Heaven</td>\n",
       "      <td>595</td>\n",
       "      <td>6</td>\n",
       "      <td>2005</td>\n",
       "      <td>5.681521</td>\n",
       "    </tr>\n",
       "    <tr>\n",
       "      <th>6959</th>\n",
       "      <td>The Spiderwick Chronicles</td>\n",
       "      <td>593</td>\n",
       "      <td>6</td>\n",
       "      <td>2008</td>\n",
       "      <td>5.680901</td>\n",
       "    </tr>\n",
       "    <tr>\n",
       "      <th>6449</th>\n",
       "      <td>Aquamarine</td>\n",
       "      <td>372</td>\n",
       "      <td>5</td>\n",
       "      <td>2006</td>\n",
       "      <td>5.131867</td>\n",
       "    </tr>\n",
       "    <tr>\n",
       "      <th>2005</th>\n",
       "      <td>She's All That</td>\n",
       "      <td>425</td>\n",
       "      <td>5</td>\n",
       "      <td>1999</td>\n",
       "      <td>5.123731</td>\n",
       "    </tr>\n",
       "    <tr>\n",
       "      <th>7494</th>\n",
       "      <td>American Pie Presents: The Book of Love</td>\n",
       "      <td>454</td>\n",
       "      <td>5</td>\n",
       "      <td>2009</td>\n",
       "      <td>5.119690</td>\n",
       "    </tr>\n",
       "  </tbody>\n",
       "</table>\n",
       "</div>"
      ],
      "text/plain": [
       "                                        title  vote_count  vote_average  year  \\\n",
       "1547                       The Breakfast Club        2189             7  1985   \n",
       "390                        Dazed and Confused         588             7  1993   \n",
       "8883                                 The DUFF        1372             6  2015   \n",
       "3712                     The Princess Diaries        1063             6  2001   \n",
       "4763                            Freaky Friday         919             6  2003   \n",
       "6277                         Just Like Heaven         595             6  2005   \n",
       "6959                The Spiderwick Chronicles         593             6  2008   \n",
       "6449                               Aquamarine         372             5  2006   \n",
       "2005                           She's All That         425             5  1999   \n",
       "7494  American Pie Presents: The Book of Love         454             5  2009   \n",
       "\n",
       "            wr  \n",
       "1547  6.709602  \n",
       "390   6.254682  \n",
       "8883  5.818541  \n",
       "3712  5.781086  \n",
       "4763  5.757786  \n",
       "6277  5.681521  \n",
       "6959  5.680901  \n",
       "6449  5.131867  \n",
       "2005  5.123731  \n",
       "7494  5.119690  "
      ]
     },
     "execution_count": 103,
     "metadata": {},
     "output_type": "execute_result"
    }
   ],
   "source": [
    "movie = 'Mean Girls'\n",
    "print(f'Recommendations: ')\n",
    "improved_recommendations(movie, cosine_sim = cosine_sim_2)"
   ]
  },
  {
   "cell_type": "code",
   "execution_count": 104,
   "id": "48b8ef2f-073d-42c8-b813-8346365163d1",
   "metadata": {},
   "outputs": [
    {
     "data": {
      "text/html": [
       "<div>\n",
       "<style scoped>\n",
       "    .dataframe tbody tr th:only-of-type {\n",
       "        vertical-align: middle;\n",
       "    }\n",
       "\n",
       "    .dataframe tbody tr th {\n",
       "        vertical-align: top;\n",
       "    }\n",
       "\n",
       "    .dataframe thead th {\n",
       "        text-align: right;\n",
       "    }\n",
       "</style>\n",
       "<table border=\"1\" class=\"dataframe\">\n",
       "  <thead>\n",
       "    <tr style=\"text-align: right;\">\n",
       "      <th></th>\n",
       "      <th>title</th>\n",
       "      <th>vote_count</th>\n",
       "      <th>vote_average</th>\n",
       "      <th>year</th>\n",
       "      <th>wr</th>\n",
       "    </tr>\n",
       "  </thead>\n",
       "  <tbody>\n",
       "    <tr>\n",
       "      <th>3840</th>\n",
       "      <td>Harry Potter and the Philosopher's Stone</td>\n",
       "      <td>7188</td>\n",
       "      <td>7</td>\n",
       "      <td>2001</td>\n",
       "      <td>6.900064</td>\n",
       "    </tr>\n",
       "    <tr>\n",
       "      <th>4366</th>\n",
       "      <td>Harry Potter and the Chamber of Secrets</td>\n",
       "      <td>5966</td>\n",
       "      <td>7</td>\n",
       "      <td>2002</td>\n",
       "      <td>6.880982</td>\n",
       "    </tr>\n",
       "    <tr>\n",
       "      <th>519</th>\n",
       "      <td>Home Alone</td>\n",
       "      <td>2487</td>\n",
       "      <td>7</td>\n",
       "      <td>1990</td>\n",
       "      <td>6.739228</td>\n",
       "    </tr>\n",
       "    <tr>\n",
       "      <th>2388</th>\n",
       "      <td>Home Alone 2: Lost in New York</td>\n",
       "      <td>2459</td>\n",
       "      <td>6</td>\n",
       "      <td>1992</td>\n",
       "      <td>5.886721</td>\n",
       "    </tr>\n",
       "    <tr>\n",
       "      <th>7538</th>\n",
       "      <td>Percy Jackson &amp; the Olympians: The Lightning T...</td>\n",
       "      <td>2079</td>\n",
       "      <td>6</td>\n",
       "      <td>2010</td>\n",
       "      <td>5.869592</td>\n",
       "    </tr>\n",
       "    <tr>\n",
       "      <th>2553</th>\n",
       "      <td>Bicentennial Man</td>\n",
       "      <td>998</td>\n",
       "      <td>6</td>\n",
       "      <td>1999</td>\n",
       "      <td>5.771149</td>\n",
       "    </tr>\n",
       "    <tr>\n",
       "      <th>1958</th>\n",
       "      <td>Stepmom</td>\n",
       "      <td>286</td>\n",
       "      <td>6</td>\n",
       "      <td>1998</td>\n",
       "      <td>5.544840</td>\n",
       "    </tr>\n",
       "    <tr>\n",
       "      <th>837</th>\n",
       "      <td>Homeward Bound: The Incredible Journey</td>\n",
       "      <td>218</td>\n",
       "      <td>6</td>\n",
       "      <td>1993</td>\n",
       "      <td>5.497370</td>\n",
       "    </tr>\n",
       "    <tr>\n",
       "      <th>2833</th>\n",
       "      <td>Parenthood</td>\n",
       "      <td>177</td>\n",
       "      <td>6</td>\n",
       "      <td>1989</td>\n",
       "      <td>5.463642</td>\n",
       "    </tr>\n",
       "    <tr>\n",
       "      <th>1708</th>\n",
       "      <td>Adventures in Babysitting</td>\n",
       "      <td>169</td>\n",
       "      <td>6</td>\n",
       "      <td>1987</td>\n",
       "      <td>5.456526</td>\n",
       "    </tr>\n",
       "  </tbody>\n",
       "</table>\n",
       "</div>"
      ],
      "text/plain": [
       "                                                  title  vote_count  \\\n",
       "3840           Harry Potter and the Philosopher's Stone        7188   \n",
       "4366            Harry Potter and the Chamber of Secrets        5966   \n",
       "519                                          Home Alone        2487   \n",
       "2388                     Home Alone 2: Lost in New York        2459   \n",
       "7538  Percy Jackson & the Olympians: The Lightning T...        2079   \n",
       "2553                                   Bicentennial Man         998   \n",
       "1958                                            Stepmom         286   \n",
       "837              Homeward Bound: The Incredible Journey         218   \n",
       "2833                                         Parenthood         177   \n",
       "1708                          Adventures in Babysitting         169   \n",
       "\n",
       "      vote_average  year        wr  \n",
       "3840             7  2001  6.900064  \n",
       "4366             7  2002  6.880982  \n",
       "519              7  1990  6.739228  \n",
       "2388             6  1992  5.886721  \n",
       "7538             6  2010  5.869592  \n",
       "2553             6  1999  5.771149  \n",
       "1958             6  1998  5.544840  \n",
       "837              6  1993  5.497370  \n",
       "2833             6  1989  5.463642  \n",
       "1708             6  1987  5.456526  "
      ]
     },
     "execution_count": 104,
     "metadata": {},
     "output_type": "execute_result"
    }
   ],
   "source": [
    "improved_recommendations('Mrs. Doubtfire')"
   ]
  },
  {
   "cell_type": "markdown",
   "id": "842a5010-6f2d-48fe-aa23-2501add186b3",
   "metadata": {
    "jp-MarkdownHeadingCollapsed": true,
    "tags": []
   },
   "source": [
    "**[Back to Table of Contents](#8)**\n",
    "\n",
    "***"
   ]
  },
  {
   "cell_type": "markdown",
   "id": "3b4affdb-2947-465a-bbf8-78fd69554c1e",
   "metadata": {},
   "source": [
    "<a id=\"5\"></a> \n",
    "# 5. Collaborative filtering"
   ]
  },
  {
   "cell_type": "markdown",
   "id": "be58954d-7922-4e21-ac19-12aeb6758996",
   "metadata": {},
   "source": [
    "**Collaborative filtering (การคัดกรองผ่านลักษณะของผู้ใช้งานที่เหมือนกัน)** เป็นการคัดกรองสินค้าโดยคำนึงถึงพฤติกรรมของผู้ใช้งานที่มีลักษณะคล้ายกับผู้ใช้งานผู้นี้ด้วย โดยมีสมมติฐานว่า ผู้ใช้ลักษณะคล้ายกันมีแนวโน้มจะชื่นชอบสินค้าคล้ายกัน \n"
   ]
  },
  {
   "cell_type": "markdown",
   "id": "febc45b5-bae0-4e79-97e0-baa9379dc111",
   "metadata": {},
   "source": [
    "## 5.1 Import Dataset"
   ]
  },
  {
   "cell_type": "code",
   "execution_count": 105,
   "id": "753976a3-4090-4ca3-a41e-80a310470aba",
   "metadata": {},
   "outputs": [],
   "source": [
    "ratings = pd.read_csv('The Movies Dataset/ratings_small.csv')"
   ]
  },
  {
   "cell_type": "code",
   "execution_count": 106,
   "id": "2ce77276-e64b-4754-a5ea-5c37bd02325d",
   "metadata": {},
   "outputs": [
    {
     "data": {
      "text/html": [
       "<div>\n",
       "<style scoped>\n",
       "    .dataframe tbody tr th:only-of-type {\n",
       "        vertical-align: middle;\n",
       "    }\n",
       "\n",
       "    .dataframe tbody tr th {\n",
       "        vertical-align: top;\n",
       "    }\n",
       "\n",
       "    .dataframe thead th {\n",
       "        text-align: right;\n",
       "    }\n",
       "</style>\n",
       "<table border=\"1\" class=\"dataframe\">\n",
       "  <thead>\n",
       "    <tr style=\"text-align: right;\">\n",
       "      <th></th>\n",
       "      <th>userId</th>\n",
       "      <th>movieId</th>\n",
       "      <th>rating</th>\n",
       "      <th>timestamp</th>\n",
       "    </tr>\n",
       "  </thead>\n",
       "  <tbody>\n",
       "    <tr>\n",
       "      <th>0</th>\n",
       "      <td>1</td>\n",
       "      <td>31</td>\n",
       "      <td>2.5</td>\n",
       "      <td>1260759144</td>\n",
       "    </tr>\n",
       "    <tr>\n",
       "      <th>1</th>\n",
       "      <td>1</td>\n",
       "      <td>1029</td>\n",
       "      <td>3.0</td>\n",
       "      <td>1260759179</td>\n",
       "    </tr>\n",
       "    <tr>\n",
       "      <th>2</th>\n",
       "      <td>1</td>\n",
       "      <td>1061</td>\n",
       "      <td>3.0</td>\n",
       "      <td>1260759182</td>\n",
       "    </tr>\n",
       "    <tr>\n",
       "      <th>3</th>\n",
       "      <td>1</td>\n",
       "      <td>1129</td>\n",
       "      <td>2.0</td>\n",
       "      <td>1260759185</td>\n",
       "    </tr>\n",
       "    <tr>\n",
       "      <th>4</th>\n",
       "      <td>1</td>\n",
       "      <td>1172</td>\n",
       "      <td>4.0</td>\n",
       "      <td>1260759205</td>\n",
       "    </tr>\n",
       "  </tbody>\n",
       "</table>\n",
       "</div>"
      ],
      "text/plain": [
       "   userId  movieId  rating   timestamp\n",
       "0       1       31     2.5  1260759144\n",
       "1       1     1029     3.0  1260759179\n",
       "2       1     1061     3.0  1260759182\n",
       "3       1     1129     2.0  1260759185\n",
       "4       1     1172     4.0  1260759205"
      ]
     },
     "execution_count": 106,
     "metadata": {},
     "output_type": "execute_result"
    }
   ],
   "source": [
    "ratings.head()"
   ]
  },
  {
   "cell_type": "code",
   "execution_count": 107,
   "id": "29b3b2a0-5525-4e0e-8182-33b3211b1d11",
   "metadata": {},
   "outputs": [
    {
     "name": "stdout",
     "output_type": "stream",
     "text": [
      "<class 'pandas.core.frame.DataFrame'>\n",
      "RangeIndex: 100004 entries, 0 to 100003\n",
      "Data columns (total 4 columns):\n",
      " #   Column     Non-Null Count   Dtype  \n",
      "---  ------     --------------   -----  \n",
      " 0   userId     100004 non-null  int64  \n",
      " 1   movieId    100004 non-null  int64  \n",
      " 2   rating     100004 non-null  float64\n",
      " 3   timestamp  100004 non-null  int64  \n",
      "dtypes: float64(1), int64(3)\n",
      "memory usage: 3.1 MB\n"
     ]
    }
   ],
   "source": [
    "ratings.info()"
   ]
  },
  {
   "cell_type": "code",
   "execution_count": 108,
   "id": "4eac7acf-cdf8-45a9-9545-dbe959f60586",
   "metadata": {},
   "outputs": [
    {
     "name": "stdout",
     "output_type": "stream",
     "text": [
      "<class 'pandas.core.frame.DataFrame'>\n",
      "Int64Index: 46628 entries, 0 to 46627\n",
      "Data columns (total 28 columns):\n",
      " #   Column                 Non-Null Count  Dtype  \n",
      "---  ------                 --------------  -----  \n",
      " 0   adult                  46628 non-null  object \n",
      " 1   belongs_to_collection  4574 non-null   object \n",
      " 2   budget                 46628 non-null  object \n",
      " 3   genres                 46628 non-null  object \n",
      " 4   homepage               8009 non-null   object \n",
      " 5   id                     46628 non-null  int32  \n",
      " 6   imdb_id                46611 non-null  object \n",
      " 7   original_language      46617 non-null  object \n",
      " 8   original_title         46628 non-null  object \n",
      " 9   overview               45633 non-null  object \n",
      " 10  popularity             46624 non-null  object \n",
      " 11  poster_path            46229 non-null  object \n",
      " 12  production_companies   46628 non-null  object \n",
      " 13  production_countries   46628 non-null  object \n",
      " 14  release_date           46540 non-null  object \n",
      " 15  revenue                46624 non-null  float64\n",
      " 16  runtime                46360 non-null  float64\n",
      " 17  spoken_languages       46628 non-null  object \n",
      " 18  status                 46542 non-null  object \n",
      " 19  tagline                20783 non-null  object \n",
      " 20  title                  46624 non-null  object \n",
      " 21  video                  46624 non-null  object \n",
      " 22  vote_average           46624 non-null  float64\n",
      " 23  vote_count             46624 non-null  float64\n",
      " 24  year                   46628 non-null  object \n",
      " 25  keywords               46628 non-null  object \n",
      " 26  cast                   46628 non-null  object \n",
      " 27  crew                   46628 non-null  object \n",
      "dtypes: float64(4), int32(1), object(23)\n",
      "memory usage: 10.1+ MB\n"
     ]
    }
   ],
   "source": [
    "movies_metadata.info()"
   ]
  },
  {
   "cell_type": "markdown",
   "id": "473ea8b9-dd75-4ee1-90ab-b3c2e9710c96",
   "metadata": {},
   "source": [
    "## 5.2 Singular Value Decomposition (SVD)"
   ]
  },
  {
   "cell_type": "markdown",
   "id": "9cd55184-f612-42ee-a38e-29df16ba7fab",
   "metadata": {},
   "source": [
    "`Singular Value Decomposition (SVD)` คือ วิธีแยกตัวประกอบยอดนิยม โดย SVD จะทำการแปลง matrix ขนาดใหญ่ ออกเป็น 3 matrix ขนาดเล็กกว่า ที่คูณกันแล้วได้เท่ากับ matrix ต้นทาง ซึ่งทั้ง 3 matrix ใหม่ที่ได้ออกมานั้นจะมีคุณสมบัติพิเศษบางอย่างทำให้สามาถรนำมาใช้งานวิเคราะห์ข้อมูลได้ดีขึ้น\n",
    "\n",
    "![](https://upload.wikimedia.org/wikipedia/commons/thumb/c/c8/Singular_value_decomposition_visualisation.svg/412px-Singular_value_decomposition_visualisation.svg.png)\n",
    "\n",
    "![](https://scontent.fhdy1-1.fna.fbcdn.net/v/t39.8562-6/240830512_3327345744159123_4259402309984662581_n.png?_nc_cat=108&ccb=1-7&_nc_sid=6825c5&_nc_eui2=AeGgzHC65zFO3E0mawDmDfw9VOsoDh6jg0RU6ygOHqODROBdbXiG9rbU3uPaiWhcdpEqjkWNagPXxK_GHaNX3t6d&_nc_ohc=vNxdBKQhcYAAX9xr1lQ&_nc_ht=scontent.fhdy1-1.fna&oh=00_AfAvq7WlhPCcRMaEx8MsjEJs4N0Mls-_6nTV7d3drvcykg&oe=64574D12)\n",
    "\n",
    "[ข้อมูลเพิ่มเติม](https://www.bualabs.com/archives/2971/lsa-latent-semantic-analysis-text-classification-singular-value-decomposition-svd-non-negative-matrix-factorization-nmf-nlp-ep-4/)"
   ]
  },
  {
   "cell_type": "code",
   "execution_count": 109,
   "id": "3e27052e-4fa0-4a37-b64d-26e5f420135d",
   "metadata": {},
   "outputs": [],
   "source": [
    "reader = Reader()\n",
    "data = Dataset.load_from_df(ratings[['userId', 'movieId', 'rating']], reader)"
   ]
  },
  {
   "cell_type": "code",
   "execution_count": 110,
   "id": "6bd1c984-e6d7-4ce2-a8be-b710003d8338",
   "metadata": {},
   "outputs": [],
   "source": [
    "svd = SVD()"
   ]
  },
  {
   "cell_type": "code",
   "execution_count": 111,
   "id": "55815ef2-2790-4126-b6fb-fa7e39a01426",
   "metadata": {},
   "outputs": [
    {
     "data": {
      "text/plain": [
       "{'test_rmse': array([0.88956128, 0.89472458, 0.90924076, 0.90255909, 0.89325499]),\n",
       " 'test_mae': array([0.68535229, 0.68498445, 0.69969208, 0.69394879, 0.69049588]),\n",
       " 'fit_time': (1.1200649738311768,\n",
       "  1.149083137512207,\n",
       "  1.11808443069458,\n",
       "  1.2130913734436035,\n",
       "  1.3551013469696045),\n",
       " 'test_time': (0.14702296257019043,\n",
       "  0.31502294540405273,\n",
       "  0.15600919723510742,\n",
       "  0.16351819038391113,\n",
       "  0.17301464080810547)}"
      ]
     },
     "execution_count": 111,
     "metadata": {},
     "output_type": "execute_result"
    }
   ],
   "source": [
    "cross_validate = cross_validate(svd, data, measures = ['RMSE', 'MAE'], cv = 5)\n",
    "cross_validate"
   ]
  },
  {
   "cell_type": "code",
   "execution_count": 112,
   "id": "a86608ff-80b3-4af3-8dcb-5d542097758f",
   "metadata": {},
   "outputs": [
    {
     "name": "stdout",
     "output_type": "stream",
     "text": [
      "mean of RMSE: 0.8979\n"
     ]
    }
   ],
   "source": [
    "mean_rmse = cross_validate['test_rmse'].mean()\n",
    "print(f'mean of RMSE: {mean_rmse:.4f}')"
   ]
  },
  {
   "cell_type": "code",
   "execution_count": 113,
   "id": "36e65b99-f80a-4921-897a-7806cc53df93",
   "metadata": {},
   "outputs": [
    {
     "data": {
      "text/plain": [
       "<surprise.prediction_algorithms.matrix_factorization.SVD at 0x24cd2c08850>"
      ]
     },
     "execution_count": 113,
     "metadata": {},
     "output_type": "execute_result"
    }
   ],
   "source": [
    "trainset = data.build_full_trainset()\n",
    "svd.fit(trainset)"
   ]
  },
  {
   "cell_type": "code",
   "execution_count": 114,
   "id": "29ee603a-08ed-4a6a-893d-7cf75262e505",
   "metadata": {},
   "outputs": [],
   "source": [
    "user_rating = pd.merge(ratings, movies_metadata, left_on = 'movieId', right_on = 'id', how = 'inner')"
   ]
  },
  {
   "cell_type": "code",
   "execution_count": 115,
   "id": "148e7924-8f5e-4c92-b560-93d54218f334",
   "metadata": {},
   "outputs": [],
   "source": [
    "user_ratings_final = user_rating[['userId', 'movieId', 'rating', 'original_title', 'genres']]"
   ]
  },
  {
   "cell_type": "code",
   "execution_count": 116,
   "id": "af11b61c-007d-4784-862f-10f2edbc5c13",
   "metadata": {},
   "outputs": [],
   "source": [
    "user_ratings = user_ratings_final.sort_values(by = 'userId')"
   ]
  },
  {
   "cell_type": "code",
   "execution_count": 117,
   "id": "81a3d379-138f-4adb-b32c-ee42f9c809d0",
   "metadata": {},
   "outputs": [
    {
     "data": {
      "text/html": [
       "<div>\n",
       "<style scoped>\n",
       "    .dataframe tbody tr th:only-of-type {\n",
       "        vertical-align: middle;\n",
       "    }\n",
       "\n",
       "    .dataframe tbody tr th {\n",
       "        vertical-align: top;\n",
       "    }\n",
       "\n",
       "    .dataframe thead th {\n",
       "        text-align: right;\n",
       "    }\n",
       "</style>\n",
       "<table border=\"1\" class=\"dataframe\">\n",
       "  <thead>\n",
       "    <tr style=\"text-align: right;\">\n",
       "      <th></th>\n",
       "      <th>userId</th>\n",
       "      <th>movieId</th>\n",
       "      <th>rating</th>\n",
       "      <th>original_title</th>\n",
       "      <th>genres</th>\n",
       "    </tr>\n",
       "  </thead>\n",
       "  <tbody>\n",
       "    <tr>\n",
       "      <th>0</th>\n",
       "      <td>1</td>\n",
       "      <td>1371</td>\n",
       "      <td>2.5</td>\n",
       "      <td>Rocky III</td>\n",
       "      <td>[Drama]</td>\n",
       "    </tr>\n",
       "    <tr>\n",
       "      <th>93</th>\n",
       "      <td>1</td>\n",
       "      <td>2105</td>\n",
       "      <td>4.0</td>\n",
       "      <td>American Pie</td>\n",
       "      <td>[Comedy, Romance]</td>\n",
       "    </tr>\n",
       "    <tr>\n",
       "      <th>140</th>\n",
       "      <td>1</td>\n",
       "      <td>2193</td>\n",
       "      <td>2.0</td>\n",
       "      <td>My Tutor</td>\n",
       "      <td>[Comedy, Drama, Romance]</td>\n",
       "    </tr>\n",
       "    <tr>\n",
       "      <th>47</th>\n",
       "      <td>1</td>\n",
       "      <td>1405</td>\n",
       "      <td>1.0</td>\n",
       "      <td>Greed</td>\n",
       "      <td>[Drama, History]</td>\n",
       "    </tr>\n",
       "    <tr>\n",
       "      <th>182</th>\n",
       "      <td>1</td>\n",
       "      <td>2294</td>\n",
       "      <td>2.0</td>\n",
       "      <td>Jay and Silent Bob Strike Back</td>\n",
       "      <td>[Comedy]</td>\n",
       "    </tr>\n",
       "    <tr>\n",
       "      <th>235</th>\n",
       "      <td>1</td>\n",
       "      <td>2455</td>\n",
       "      <td>2.5</td>\n",
       "      <td>Vivement dimanche!</td>\n",
       "      <td>[Drama, Comedy, Crime]</td>\n",
       "    </tr>\n",
       "    <tr>\n",
       "      <th>2038</th>\n",
       "      <td>2</td>\n",
       "      <td>272</td>\n",
       "      <td>3.0</td>\n",
       "      <td>Batman Begins</td>\n",
       "      <td>[Action, Crime, Drama]</td>\n",
       "    </tr>\n",
       "    <tr>\n",
       "      <th>1965</th>\n",
       "      <td>2</td>\n",
       "      <td>266</td>\n",
       "      <td>5.0</td>\n",
       "      <td>Le Mépris</td>\n",
       "      <td>[Drama]</td>\n",
       "    </tr>\n",
       "    <tr>\n",
       "      <th>282</th>\n",
       "      <td>2</td>\n",
       "      <td>17</td>\n",
       "      <td>5.0</td>\n",
       "      <td>The Dark</td>\n",
       "      <td>[Horror, Thriller, Mystery]</td>\n",
       "    </tr>\n",
       "    <tr>\n",
       "      <th>5758</th>\n",
       "      <td>2</td>\n",
       "      <td>592</td>\n",
       "      <td>5.0</td>\n",
       "      <td>The Conversation</td>\n",
       "      <td>[Crime, Drama, Mystery]</td>\n",
       "    </tr>\n",
       "  </tbody>\n",
       "</table>\n",
       "</div>"
      ],
      "text/plain": [
       "      userId  movieId  rating                  original_title  \\\n",
       "0          1     1371     2.5                       Rocky III   \n",
       "93         1     2105     4.0                    American Pie   \n",
       "140        1     2193     2.0                        My Tutor   \n",
       "47         1     1405     1.0                           Greed   \n",
       "182        1     2294     2.0  Jay and Silent Bob Strike Back   \n",
       "235        1     2455     2.5              Vivement dimanche!   \n",
       "2038       2      272     3.0                   Batman Begins   \n",
       "1965       2      266     5.0                       Le Mépris   \n",
       "282        2       17     5.0                        The Dark   \n",
       "5758       2      592     5.0                The Conversation   \n",
       "\n",
       "                           genres  \n",
       "0                         [Drama]  \n",
       "93              [Comedy, Romance]  \n",
       "140      [Comedy, Drama, Romance]  \n",
       "47               [Drama, History]  \n",
       "182                      [Comedy]  \n",
       "235        [Drama, Comedy, Crime]  \n",
       "2038       [Action, Crime, Drama]  \n",
       "1965                      [Drama]  \n",
       "282   [Horror, Thriller, Mystery]  \n",
       "5758      [Crime, Drama, Mystery]  "
      ]
     },
     "execution_count": 117,
     "metadata": {},
     "output_type": "execute_result"
    }
   ],
   "source": [
    "user_ratings.head(10)"
   ]
  },
  {
   "cell_type": "markdown",
   "id": "daa4504c-1fc2-43f6-82b5-574a112f313e",
   "metadata": {},
   "source": [
    "## 5.3 Prediction"
   ]
  },
  {
   "cell_type": "markdown",
   "id": "08f3e8e2-4c6b-4225-8606-36f96810c631",
   "metadata": {},
   "source": [
    "ตรวจสอบ `userId 7` ว่าให้ `rating` ภาพยนต์ที่ดูเท่าไร   \n",
    "แล้ว `predicted` ว่า `userId 7` ให้ `rating` ภาพยนต์เรื่องใหม่เท่าไร ?"
   ]
  },
  {
   "cell_type": "code",
   "execution_count": 118,
   "id": "28124381-af86-4842-aab2-57ead264401e",
   "metadata": {},
   "outputs": [
    {
     "data": {
      "text/html": [
       "<div>\n",
       "<style scoped>\n",
       "    .dataframe tbody tr th:only-of-type {\n",
       "        vertical-align: middle;\n",
       "    }\n",
       "\n",
       "    .dataframe tbody tr th {\n",
       "        vertical-align: top;\n",
       "    }\n",
       "\n",
       "    .dataframe thead th {\n",
       "        text-align: right;\n",
       "    }\n",
       "</style>\n",
       "<table border=\"1\" class=\"dataframe\">\n",
       "  <thead>\n",
       "    <tr style=\"text-align: right;\">\n",
       "      <th></th>\n",
       "      <th>userId</th>\n",
       "      <th>movieId</th>\n",
       "      <th>rating</th>\n",
       "      <th>original_title</th>\n",
       "      <th>genres</th>\n",
       "    </tr>\n",
       "  </thead>\n",
       "  <tbody>\n",
       "    <tr>\n",
       "      <th>18645</th>\n",
       "      <td>7</td>\n",
       "      <td>671</td>\n",
       "      <td>4.0</td>\n",
       "      <td>Harry Potter and the Philosopher's Stone</td>\n",
       "      <td>[Adventure, Fantasy, Family]</td>\n",
       "    </tr>\n",
       "    <tr>\n",
       "      <th>4200</th>\n",
       "      <td>7</td>\n",
       "      <td>500</td>\n",
       "      <td>3.0</td>\n",
       "      <td>Reservoir Dogs</td>\n",
       "      <td>[Crime, Thriller]</td>\n",
       "    </tr>\n",
       "    <tr>\n",
       "      <th>18739</th>\n",
       "      <td>7</td>\n",
       "      <td>745</td>\n",
       "      <td>5.0</td>\n",
       "      <td>The Sixth Sense</td>\n",
       "      <td>[Mystery, Thriller, Drama]</td>\n",
       "    </tr>\n",
       "    <tr>\n",
       "      <th>18801</th>\n",
       "      <td>7</td>\n",
       "      <td>780</td>\n",
       "      <td>3.0</td>\n",
       "      <td>La passion de Jeanne d'Arc</td>\n",
       "      <td>[Drama, History]</td>\n",
       "    </tr>\n",
       "    <tr>\n",
       "      <th>11487</th>\n",
       "      <td>7</td>\n",
       "      <td>1376</td>\n",
       "      <td>3.0</td>\n",
       "      <td>Sweet Sixteen</td>\n",
       "      <td>[Crime, Drama]</td>\n",
       "    </tr>\n",
       "    <tr>\n",
       "      <th>48</th>\n",
       "      <td>7</td>\n",
       "      <td>1405</td>\n",
       "      <td>5.0</td>\n",
       "      <td>Greed</td>\n",
       "      <td>[Drama, History]</td>\n",
       "    </tr>\n",
       "    <tr>\n",
       "      <th>8557</th>\n",
       "      <td>7</td>\n",
       "      <td>260</td>\n",
       "      <td>5.0</td>\n",
       "      <td>The 39 Steps</td>\n",
       "      <td>[Action, Thriller, Mystery]</td>\n",
       "    </tr>\n",
       "    <tr>\n",
       "      <th>4770</th>\n",
       "      <td>7</td>\n",
       "      <td>539</td>\n",
       "      <td>3.0</td>\n",
       "      <td>Psycho</td>\n",
       "      <td>[Drama, Horror, Thriller]</td>\n",
       "    </tr>\n",
       "    <tr>\n",
       "      <th>3242</th>\n",
       "      <td>7</td>\n",
       "      <td>377</td>\n",
       "      <td>3.0</td>\n",
       "      <td>A Nightmare on Elm Street</td>\n",
       "      <td>[Horror]</td>\n",
       "    </tr>\n",
       "    <tr>\n",
       "      <th>19019</th>\n",
       "      <td>7</td>\n",
       "      <td>786</td>\n",
       "      <td>2.0</td>\n",
       "      <td>Almost Famous</td>\n",
       "      <td>[Drama, Music]</td>\n",
       "    </tr>\n",
       "    <tr>\n",
       "      <th>2039</th>\n",
       "      <td>7</td>\n",
       "      <td>272</td>\n",
       "      <td>3.0</td>\n",
       "      <td>Batman Begins</td>\n",
       "      <td>[Action, Crime, Drama]</td>\n",
       "    </tr>\n",
       "    <tr>\n",
       "      <th>5345</th>\n",
       "      <td>7</td>\n",
       "      <td>588</td>\n",
       "      <td>4.0</td>\n",
       "      <td>Silent Hill</td>\n",
       "      <td>[Horror, Mystery]</td>\n",
       "    </tr>\n",
       "    <tr>\n",
       "      <th>19360</th>\n",
       "      <td>7</td>\n",
       "      <td>1408</td>\n",
       "      <td>1.0</td>\n",
       "      <td>Cutthroat Island</td>\n",
       "      <td>[Action, Adventure]</td>\n",
       "    </tr>\n",
       "    <tr>\n",
       "      <th>8395</th>\n",
       "      <td>7</td>\n",
       "      <td>141</td>\n",
       "      <td>4.0</td>\n",
       "      <td>Donnie Darko</td>\n",
       "      <td>[Fantasy, Drama, Mystery]</td>\n",
       "    </tr>\n",
       "    <tr>\n",
       "      <th>6410</th>\n",
       "      <td>7</td>\n",
       "      <td>318</td>\n",
       "      <td>5.0</td>\n",
       "      <td>The Million Dollar Hotel</td>\n",
       "      <td>[Drama, Thriller]</td>\n",
       "    </tr>\n",
       "    <tr>\n",
       "      <th>2</th>\n",
       "      <td>7</td>\n",
       "      <td>1371</td>\n",
       "      <td>3.0</td>\n",
       "      <td>Rocky III</td>\n",
       "      <td>[Drama]</td>\n",
       "    </tr>\n",
       "    <tr>\n",
       "      <th>8345</th>\n",
       "      <td>7</td>\n",
       "      <td>112</td>\n",
       "      <td>4.0</td>\n",
       "      <td>Italiensk for begyndere</td>\n",
       "      <td>[Comedy, Drama, Romance]</td>\n",
       "    </tr>\n",
       "    <tr>\n",
       "      <th>19290</th>\n",
       "      <td>7</td>\n",
       "      <td>1394</td>\n",
       "      <td>3.0</td>\n",
       "      <td>Nostalghia</td>\n",
       "      <td>[Drama, Romance]</td>\n",
       "    </tr>\n",
       "    <tr>\n",
       "      <th>4906</th>\n",
       "      <td>7</td>\n",
       "      <td>551</td>\n",
       "      <td>4.0</td>\n",
       "      <td>The Poseidon Adventure</td>\n",
       "      <td>[Action, Adventure]</td>\n",
       "    </tr>\n",
       "    <tr>\n",
       "      <th>11415</th>\n",
       "      <td>7</td>\n",
       "      <td>1374</td>\n",
       "      <td>4.0</td>\n",
       "      <td>Rocky IV</td>\n",
       "      <td>[Drama]</td>\n",
       "    </tr>\n",
       "    <tr>\n",
       "      <th>19088</th>\n",
       "      <td>7</td>\n",
       "      <td>924</td>\n",
       "      <td>4.0</td>\n",
       "      <td>Dawn of the Dead</td>\n",
       "      <td>[Fantasy, Horror, Action]</td>\n",
       "    </tr>\n",
       "    <tr>\n",
       "      <th>19236</th>\n",
       "      <td>7</td>\n",
       "      <td>1375</td>\n",
       "      <td>3.0</td>\n",
       "      <td>Rocky V</td>\n",
       "      <td>[Drama]</td>\n",
       "    </tr>\n",
       "    <tr>\n",
       "      <th>19211</th>\n",
       "      <td>7</td>\n",
       "      <td>1373</td>\n",
       "      <td>2.0</td>\n",
       "      <td>The Discovery of Heaven</td>\n",
       "      <td>[Drama, Fantasy]</td>\n",
       "    </tr>\n",
       "    <tr>\n",
       "      <th>11368</th>\n",
       "      <td>7</td>\n",
       "      <td>1372</td>\n",
       "      <td>3.0</td>\n",
       "      <td>Blood Diamond</td>\n",
       "      <td>[Drama, Thriller, Action]</td>\n",
       "    </tr>\n",
       "    <tr>\n",
       "      <th>3042</th>\n",
       "      <td>7</td>\n",
       "      <td>364</td>\n",
       "      <td>3.0</td>\n",
       "      <td>Batman Returns</td>\n",
       "      <td>[Action, Fantasy]</td>\n",
       "    </tr>\n",
       "    <tr>\n",
       "      <th>11169</th>\n",
       "      <td>7</td>\n",
       "      <td>1278</td>\n",
       "      <td>3.0</td>\n",
       "      <td>The Dreamers</td>\n",
       "      <td>[Drama, Romance]</td>\n",
       "    </tr>\n",
       "    <tr>\n",
       "      <th>18620</th>\n",
       "      <td>7</td>\n",
       "      <td>534</td>\n",
       "      <td>4.0</td>\n",
       "      <td>Terminator Salvation</td>\n",
       "      <td>[Action, Science Fiction, Thriller]</td>\n",
       "    </tr>\n",
       "    <tr>\n",
       "      <th>6722</th>\n",
       "      <td>7</td>\n",
       "      <td>595</td>\n",
       "      <td>3.0</td>\n",
       "      <td>To Kill a Mockingbird</td>\n",
       "      <td>[Crime, Drama]</td>\n",
       "    </tr>\n",
       "    <tr>\n",
       "      <th>18678</th>\n",
       "      <td>7</td>\n",
       "      <td>708</td>\n",
       "      <td>3.0</td>\n",
       "      <td>The Living Daylights</td>\n",
       "      <td>[Action, Adventure, Thriller]</td>\n",
       "    </tr>\n",
       "    <tr>\n",
       "      <th>3866</th>\n",
       "      <td>7</td>\n",
       "      <td>480</td>\n",
       "      <td>4.0</td>\n",
       "      <td>Monsoon Wedding</td>\n",
       "      <td>[Comedy, Drama, Romance]</td>\n",
       "    </tr>\n",
       "    <tr>\n",
       "      <th>14416</th>\n",
       "      <td>7</td>\n",
       "      <td>104</td>\n",
       "      <td>3.0</td>\n",
       "      <td>Lola rennt</td>\n",
       "      <td>[Action, Drama, Thriller]</td>\n",
       "    </tr>\n",
       "    <tr>\n",
       "      <th>9707</th>\n",
       "      <td>7</td>\n",
       "      <td>594</td>\n",
       "      <td>4.0</td>\n",
       "      <td>The Terminal</td>\n",
       "      <td>[Comedy, Drama]</td>\n",
       "    </tr>\n",
       "    <tr>\n",
       "      <th>18211</th>\n",
       "      <td>7</td>\n",
       "      <td>21</td>\n",
       "      <td>3.0</td>\n",
       "      <td>The Endless Summer</td>\n",
       "      <td>[Documentary]</td>\n",
       "    </tr>\n",
       "    <tr>\n",
       "      <th>18306</th>\n",
       "      <td>7</td>\n",
       "      <td>198</td>\n",
       "      <td>2.0</td>\n",
       "      <td>To Be or Not to Be</td>\n",
       "      <td>[Comedy, War]</td>\n",
       "    </tr>\n",
       "    <tr>\n",
       "      <th>5558</th>\n",
       "      <td>7</td>\n",
       "      <td>590</td>\n",
       "      <td>4.0</td>\n",
       "      <td>The Hours</td>\n",
       "      <td>[Drama]</td>\n",
       "    </tr>\n",
       "    <tr>\n",
       "      <th>8976</th>\n",
       "      <td>7</td>\n",
       "      <td>380</td>\n",
       "      <td>4.0</td>\n",
       "      <td>Rain Man</td>\n",
       "      <td>[Drama]</td>\n",
       "    </tr>\n",
       "    <tr>\n",
       "      <th>18349</th>\n",
       "      <td>7</td>\n",
       "      <td>207</td>\n",
       "      <td>3.0</td>\n",
       "      <td>Dead Poets Society</td>\n",
       "      <td>[Drama]</td>\n",
       "    </tr>\n",
       "    <tr>\n",
       "      <th>5760</th>\n",
       "      <td>7</td>\n",
       "      <td>592</td>\n",
       "      <td>3.0</td>\n",
       "      <td>The Conversation</td>\n",
       "      <td>[Crime, Drama, Mystery]</td>\n",
       "    </tr>\n",
       "    <tr>\n",
       "      <th>8862</th>\n",
       "      <td>7</td>\n",
       "      <td>329</td>\n",
       "      <td>3.0</td>\n",
       "      <td>Jurassic Park</td>\n",
       "      <td>[Adventure, Science Fiction]</td>\n",
       "    </tr>\n",
       "    <tr>\n",
       "      <th>18377</th>\n",
       "      <td>7</td>\n",
       "      <td>316</td>\n",
       "      <td>2.0</td>\n",
       "      <td>Halbe Treppe</td>\n",
       "      <td>[Comedy, Drama]</td>\n",
       "    </tr>\n",
       "    <tr>\n",
       "      <th>10358</th>\n",
       "      <td>7</td>\n",
       "      <td>1073</td>\n",
       "      <td>3.0</td>\n",
       "      <td>Arlington Road</td>\n",
       "      <td>[Drama, Thriller, Mystery]</td>\n",
       "    </tr>\n",
       "    <tr>\n",
       "      <th>10638</th>\n",
       "      <td>7</td>\n",
       "      <td>1125</td>\n",
       "      <td>3.0</td>\n",
       "      <td>Dreamgirls</td>\n",
       "      <td>[Drama]</td>\n",
       "    </tr>\n",
       "    <tr>\n",
       "      <th>9561</th>\n",
       "      <td>7</td>\n",
       "      <td>541</td>\n",
       "      <td>4.0</td>\n",
       "      <td>The Man with the Golden Arm</td>\n",
       "      <td>[Crime, Drama, Romance]</td>\n",
       "    </tr>\n",
       "    <tr>\n",
       "      <th>457</th>\n",
       "      <td>7</td>\n",
       "      <td>110</td>\n",
       "      <td>5.0</td>\n",
       "      <td>Trois couleurs : Rouge</td>\n",
       "      <td>[Drama, Mystery, Romance]</td>\n",
       "    </tr>\n",
       "    <tr>\n",
       "      <th>18572</th>\n",
       "      <td>7</td>\n",
       "      <td>345</td>\n",
       "      <td>3.0</td>\n",
       "      <td>Eyes Wide Shut</td>\n",
       "      <td>[Mystery, Drama]</td>\n",
       "    </tr>\n",
       "    <tr>\n",
       "      <th>18522</th>\n",
       "      <td>7</td>\n",
       "      <td>333</td>\n",
       "      <td>3.0</td>\n",
       "      <td>Bollywood/Hollywood</td>\n",
       "      <td>[Comedy, Drama, Music, Romance]</td>\n",
       "    </tr>\n",
       "  </tbody>\n",
       "</table>\n",
       "</div>"
      ],
      "text/plain": [
       "       userId  movieId  rating                            original_title  \\\n",
       "18645       7      671     4.0  Harry Potter and the Philosopher's Stone   \n",
       "4200        7      500     3.0                            Reservoir Dogs   \n",
       "18739       7      745     5.0                           The Sixth Sense   \n",
       "18801       7      780     3.0                La passion de Jeanne d'Arc   \n",
       "11487       7     1376     3.0                             Sweet Sixteen   \n",
       "48          7     1405     5.0                                     Greed   \n",
       "8557        7      260     5.0                              The 39 Steps   \n",
       "4770        7      539     3.0                                    Psycho   \n",
       "3242        7      377     3.0                 A Nightmare on Elm Street   \n",
       "19019       7      786     2.0                             Almost Famous   \n",
       "2039        7      272     3.0                             Batman Begins   \n",
       "5345        7      588     4.0                               Silent Hill   \n",
       "19360       7     1408     1.0                          Cutthroat Island   \n",
       "8395        7      141     4.0                              Donnie Darko   \n",
       "6410        7      318     5.0                  The Million Dollar Hotel   \n",
       "2           7     1371     3.0                                 Rocky III   \n",
       "8345        7      112     4.0                   Italiensk for begyndere   \n",
       "19290       7     1394     3.0                                Nostalghia   \n",
       "4906        7      551     4.0                    The Poseidon Adventure   \n",
       "11415       7     1374     4.0                                  Rocky IV   \n",
       "19088       7      924     4.0                          Dawn of the Dead   \n",
       "19236       7     1375     3.0                                   Rocky V   \n",
       "19211       7     1373     2.0                   The Discovery of Heaven   \n",
       "11368       7     1372     3.0                             Blood Diamond   \n",
       "3042        7      364     3.0                            Batman Returns   \n",
       "11169       7     1278     3.0                              The Dreamers   \n",
       "18620       7      534     4.0                      Terminator Salvation   \n",
       "6722        7      595     3.0                     To Kill a Mockingbird   \n",
       "18678       7      708     3.0                      The Living Daylights   \n",
       "3866        7      480     4.0                           Monsoon Wedding   \n",
       "14416       7      104     3.0                                Lola rennt   \n",
       "9707        7      594     4.0                              The Terminal   \n",
       "18211       7       21     3.0                        The Endless Summer   \n",
       "18306       7      198     2.0                        To Be or Not to Be   \n",
       "5558        7      590     4.0                                 The Hours   \n",
       "8976        7      380     4.0                                  Rain Man   \n",
       "18349       7      207     3.0                        Dead Poets Society   \n",
       "5760        7      592     3.0                          The Conversation   \n",
       "8862        7      329     3.0                             Jurassic Park   \n",
       "18377       7      316     2.0                              Halbe Treppe   \n",
       "10358       7     1073     3.0                            Arlington Road   \n",
       "10638       7     1125     3.0                                Dreamgirls   \n",
       "9561        7      541     4.0               The Man with the Golden Arm   \n",
       "457         7      110     5.0                    Trois couleurs : Rouge   \n",
       "18572       7      345     3.0                            Eyes Wide Shut   \n",
       "18522       7      333     3.0                       Bollywood/Hollywood   \n",
       "\n",
       "                                    genres  \n",
       "18645         [Adventure, Fantasy, Family]  \n",
       "4200                     [Crime, Thriller]  \n",
       "18739           [Mystery, Thriller, Drama]  \n",
       "18801                     [Drama, History]  \n",
       "11487                       [Crime, Drama]  \n",
       "48                        [Drama, History]  \n",
       "8557           [Action, Thriller, Mystery]  \n",
       "4770             [Drama, Horror, Thriller]  \n",
       "3242                              [Horror]  \n",
       "19019                       [Drama, Music]  \n",
       "2039                [Action, Crime, Drama]  \n",
       "5345                     [Horror, Mystery]  \n",
       "19360                  [Action, Adventure]  \n",
       "8395             [Fantasy, Drama, Mystery]  \n",
       "6410                     [Drama, Thriller]  \n",
       "2                                  [Drama]  \n",
       "8345              [Comedy, Drama, Romance]  \n",
       "19290                     [Drama, Romance]  \n",
       "4906                   [Action, Adventure]  \n",
       "11415                              [Drama]  \n",
       "19088            [Fantasy, Horror, Action]  \n",
       "19236                              [Drama]  \n",
       "19211                     [Drama, Fantasy]  \n",
       "11368            [Drama, Thriller, Action]  \n",
       "3042                     [Action, Fantasy]  \n",
       "11169                     [Drama, Romance]  \n",
       "18620  [Action, Science Fiction, Thriller]  \n",
       "6722                        [Crime, Drama]  \n",
       "18678        [Action, Adventure, Thriller]  \n",
       "3866              [Comedy, Drama, Romance]  \n",
       "14416            [Action, Drama, Thriller]  \n",
       "9707                       [Comedy, Drama]  \n",
       "18211                        [Documentary]  \n",
       "18306                        [Comedy, War]  \n",
       "5558                               [Drama]  \n",
       "8976                               [Drama]  \n",
       "18349                              [Drama]  \n",
       "5760               [Crime, Drama, Mystery]  \n",
       "8862          [Adventure, Science Fiction]  \n",
       "18377                      [Comedy, Drama]  \n",
       "10358           [Drama, Thriller, Mystery]  \n",
       "10638                              [Drama]  \n",
       "9561               [Crime, Drama, Romance]  \n",
       "457              [Drama, Mystery, Romance]  \n",
       "18572                     [Mystery, Drama]  \n",
       "18522      [Comedy, Drama, Music, Romance]  "
      ]
     },
     "execution_count": 118,
     "metadata": {},
     "output_type": "execute_result"
    }
   ],
   "source": [
    "user_ratings[user_ratings['userId'] == 7]"
   ]
  },
  {
   "cell_type": "markdown",
   "id": "f8e80142-30a7-47ec-b823-e88390d62153",
   "metadata": {},
   "source": [
    "*ข้อสังเกต*  \n",
    "`userId 7` ดูภาพยนต์หลายเรื่อง หลาย `genre` เช่น Action และ Drama\n",
    "\n",
    "ดังนั้นเพื่อทดสอบกับผู้ใช้รายนี้ ให้เลือกภาพยนต์สองเรื่องที่เขายังไม่ได้ดู แล้วทำนาย `rating` ของเขาในเรื่องเดียวกัน"
   ]
  },
  {
   "cell_type": "code",
   "execution_count": 119,
   "id": "cef06182-2ca4-42cd-8762-e2001f72e0ea",
   "metadata": {},
   "outputs": [
    {
     "data": {
      "text/html": [
       "<div>\n",
       "<style scoped>\n",
       "    .dataframe tbody tr th:only-of-type {\n",
       "        vertical-align: middle;\n",
       "    }\n",
       "\n",
       "    .dataframe tbody tr th {\n",
       "        vertical-align: top;\n",
       "    }\n",
       "\n",
       "    .dataframe thead th {\n",
       "        text-align: right;\n",
       "    }\n",
       "</style>\n",
       "<table border=\"1\" class=\"dataframe\">\n",
       "  <thead>\n",
       "    <tr style=\"text-align: right;\">\n",
       "      <th></th>\n",
       "      <th>original_title</th>\n",
       "      <th>id</th>\n",
       "    </tr>\n",
       "  </thead>\n",
       "  <tbody>\n",
       "    <tr>\n",
       "      <th>21475</th>\n",
       "      <td>The Conjuring</td>\n",
       "      <td>138843</td>\n",
       "    </tr>\n",
       "  </tbody>\n",
       "</table>\n",
       "</div>"
      ],
      "text/plain": [
       "      original_title      id\n",
       "21475  The Conjuring  138843"
      ]
     },
     "execution_count": 119,
     "metadata": {},
     "output_type": "execute_result"
    }
   ],
   "source": [
    "movie = movies_metadata['original_title'] == 'The Conjuring'\n",
    "movies_metadata[movie][['original_title', 'id']]"
   ]
  },
  {
   "cell_type": "code",
   "execution_count": 120,
   "id": "a2b2bec6-d84a-4bbf-aebe-bfabc6cd28e2",
   "metadata": {},
   "outputs": [
    {
     "data": {
      "text/plain": [
       "Prediction(uid=7, iid=138843, r_ui=3, est=3.2944465063347854, details={'was_impossible': False})"
      ]
     },
     "execution_count": 120,
     "metadata": {},
     "output_type": "execute_result"
    }
   ],
   "source": [
    "svd.predict(uid = 7, iid = 138843, r_ui = 3)"
   ]
  },
  {
   "cell_type": "markdown",
   "id": "b360bb29-79af-45a5-bc82-9913190775a6",
   "metadata": {},
   "source": [
    "*ข้อสังเกต*  \n",
    "`est=3.3381320358160123` เท่ากับ `rating` ปานกลาง หากดูจากภาพยนต์ที่ `userId 7` เคยดู ส่วนใหญ่เขาให้ `rating 3 - 5 คะแนน`\n",
    "\n",
    "*สรุป*  \n",
    "สำหรับภาพยนตร์ `id 138843` ได้ `estimated prediction เท่ากับ 2.618` คุณสมบัติที่น่าตกใจประการหนึ่งของระบบผู้แนะนำนี้คือมันไม่สนใจว่าภาพยนตร์คือเรื่องอะไร (หรือประกอบด้วยอะไรบ้าง) มันทำงานบนพื้นฐานของรหัสภาพยนตร์ที่กำหนดเท่านั้น และพยายามทำนายการจัด `rating` ตามวิธีที่ผู้ใช้รายอื่นทำนายภาพยนตร์"
   ]
  },
  {
   "cell_type": "code",
   "execution_count": 121,
   "id": "0fe3c508-af7a-4b2d-a032-0210202d7237",
   "metadata": {},
   "outputs": [
    {
     "data": {
      "text/html": [
       "<div>\n",
       "<style scoped>\n",
       "    .dataframe tbody tr th:only-of-type {\n",
       "        vertical-align: middle;\n",
       "    }\n",
       "\n",
       "    .dataframe tbody tr th {\n",
       "        vertical-align: top;\n",
       "    }\n",
       "\n",
       "    .dataframe thead th {\n",
       "        text-align: right;\n",
       "    }\n",
       "</style>\n",
       "<table border=\"1\" class=\"dataframe\">\n",
       "  <thead>\n",
       "    <tr style=\"text-align: right;\">\n",
       "      <th></th>\n",
       "      <th>original_title</th>\n",
       "      <th>id</th>\n",
       "    </tr>\n",
       "  </thead>\n",
       "  <tbody>\n",
       "    <tr>\n",
       "      <th>314</th>\n",
       "      <td>The Shawshank Redemption</td>\n",
       "      <td>278</td>\n",
       "    </tr>\n",
       "  </tbody>\n",
       "</table>\n",
       "</div>"
      ],
      "text/plain": [
       "               original_title   id\n",
       "314  The Shawshank Redemption  278"
      ]
     },
     "execution_count": 121,
     "metadata": {},
     "output_type": "execute_result"
    }
   ],
   "source": [
    "movie = movies_metadata['original_title'] == 'The Shawshank Redemption'\n",
    "movies_metadata[movie][['original_title', 'id']]"
   ]
  },
  {
   "cell_type": "code",
   "execution_count": 122,
   "id": "ae5bd9c5-ca33-47b1-8740-d07d04754e38",
   "metadata": {},
   "outputs": [
    {
     "data": {
      "text/plain": [
       "Prediction(uid=7, iid=278, r_ui=3, est=3.1582968609563244, details={'was_impossible': False})"
      ]
     },
     "execution_count": 122,
     "metadata": {},
     "output_type": "execute_result"
    }
   ],
   "source": [
    "svd.predict(uid = 7, iid = 278, r_ui = 3)"
   ]
  },
  {
   "cell_type": "markdown",
   "id": "cca4aa1a-1762-4e37-b077-6a9becf38671",
   "metadata": {
    "jp-MarkdownHeadingCollapsed": true,
    "tags": []
   },
   "source": [
    "**[Back to Table of Contents](#8)**\n",
    "\n",
    "***"
   ]
  },
  {
   "cell_type": "markdown",
   "id": "a1953d70-b287-44b5-9d79-ede2ae405d5c",
   "metadata": {
    "tags": []
   },
   "source": [
    "<a id=\"6\"></a> \n",
    "# 6. Hybrid Recommender"
   ]
  },
  {
   "cell_type": "markdown",
   "id": "58e0098c-f8d5-466d-8014-d3ed301ce3e4",
   "metadata": {},
   "source": [
    "ในส่วนนี้ จะสร้าง `Hybrid Recommender` อย่างง่าย ที่รวบรวมเทคนิค `Content-based filtering และ Collaborative filtering`   \n",
    "นี่คือวิธีการทำงาน:\n",
    "\n",
    "- **`Input:`** `User ID` และ `Title ของภาพยนตร์`\n",
    "\n",
    "- **`Output:`** ภาพยนตร์ที่คล้ายกันจัดเรียงตามการจัด `ratings` ที่คาดหวังโดยผู้ใช้รายนั้นๆ"
   ]
  },
  {
   "cell_type": "code",
   "execution_count": 123,
   "id": "4fefcc25-bf5e-469e-80b1-c65f8cf957f0",
   "metadata": {},
   "outputs": [],
   "source": [
    "def convert_int(x):\n",
    "    try:\n",
    "        return int(x)\n",
    "    except:\n",
    "        return np.nan"
   ]
  },
  {
   "cell_type": "code",
   "execution_count": 124,
   "id": "2bc87ee8-33e7-40f9-a592-d07ef2471d0c",
   "metadata": {},
   "outputs": [],
   "source": [
    "id_map = pd.read_csv('The Movies Dataset/links_small.csv')[['movieId', 'tmdbId']]\n",
    "id_map['tmdbId'] = id_map['tmdbId'].apply(convert_int)\n",
    "id_map.columns = ['movieId', 'id']\n",
    "id_map = id_map.merge(movies_metadata_small[['title', 'id']], on = 'id').set_index('title')"
   ]
  },
  {
   "cell_type": "code",
   "execution_count": 125,
   "id": "1ee3a945-bbc1-4f82-9b7e-6829ed02860b",
   "metadata": {},
   "outputs": [],
   "source": [
    "indices_map = id_map.set_index('id')"
   ]
  },
  {
   "cell_type": "code",
   "execution_count": 126,
   "id": "59bb5495-6518-48fe-931c-737d66169a89",
   "metadata": {},
   "outputs": [],
   "source": [
    "def hybrid(userId, title, cosine_sim = cosine_sim_2):\n",
    "    idx = indices[title]\n",
    "    tmdbId = id_map.loc[title]['id']\n",
    "    #print(idx)\n",
    "    movie_id = id_map.loc[title]['movieId']\n",
    "    \n",
    "    sim_scores = list(enumerate(cosine_sim[int(idx)]))\n",
    "    sim_scores = sorted(sim_scores, key = lambda x: x[1], reverse = True)\n",
    "    sim_scores = sim_scores[1:26]\n",
    "    movie_indices = [i[0] for i in sim_scores]\n",
    "    \n",
    "    movies = movies_metadata_small.iloc[movie_indices][['title', 'vote_count', 'vote_average', 'year', 'id']]\n",
    "    movies['est'] = movies['id'].apply(lambda x: svd.predict(userId, indices_map.loc[x]['movieId']).est)\n",
    "    movies = movies.sort_values('est', ascending = False)\n",
    "    return movies.head(10)"
   ]
  },
  {
   "cell_type": "code",
   "execution_count": 127,
   "id": "cc264f29-f0e3-476b-a5c5-7ef2cf84d5db",
   "metadata": {},
   "outputs": [
    {
     "data": {
      "text/html": [
       "<div>\n",
       "<style scoped>\n",
       "    .dataframe tbody tr th:only-of-type {\n",
       "        vertical-align: middle;\n",
       "    }\n",
       "\n",
       "    .dataframe tbody tr th {\n",
       "        vertical-align: top;\n",
       "    }\n",
       "\n",
       "    .dataframe thead th {\n",
       "        text-align: right;\n",
       "    }\n",
       "</style>\n",
       "<table border=\"1\" class=\"dataframe\">\n",
       "  <thead>\n",
       "    <tr style=\"text-align: right;\">\n",
       "      <th></th>\n",
       "      <th>title</th>\n",
       "      <th>vote_count</th>\n",
       "      <th>vote_average</th>\n",
       "      <th>year</th>\n",
       "      <th>id</th>\n",
       "      <th>est</th>\n",
       "    </tr>\n",
       "  </thead>\n",
       "  <tbody>\n",
       "    <tr>\n",
       "      <th>6981</th>\n",
       "      <td>The Dark Knight</td>\n",
       "      <td>12269.0</td>\n",
       "      <td>8.3</td>\n",
       "      <td>2008</td>\n",
       "      <td>155</td>\n",
       "      <td>4.070275</td>\n",
       "    </tr>\n",
       "    <tr>\n",
       "      <th>3381</th>\n",
       "      <td>Memento</td>\n",
       "      <td>4168.0</td>\n",
       "      <td>8.1</td>\n",
       "      <td>2000</td>\n",
       "      <td>77</td>\n",
       "      <td>4.001828</td>\n",
       "    </tr>\n",
       "    <tr>\n",
       "      <th>8613</th>\n",
       "      <td>Interstellar</td>\n",
       "      <td>11187.0</td>\n",
       "      <td>8.1</td>\n",
       "      <td>2014</td>\n",
       "      <td>157336</td>\n",
       "      <td>3.819975</td>\n",
       "    </tr>\n",
       "    <tr>\n",
       "      <th>6623</th>\n",
       "      <td>The Prestige</td>\n",
       "      <td>4510.0</td>\n",
       "      <td>8.0</td>\n",
       "      <td>2006</td>\n",
       "      <td>1124</td>\n",
       "      <td>3.818131</td>\n",
       "    </tr>\n",
       "    <tr>\n",
       "      <th>6218</th>\n",
       "      <td>Batman Begins</td>\n",
       "      <td>7511.0</td>\n",
       "      <td>7.5</td>\n",
       "      <td>2005</td>\n",
       "      <td>272</td>\n",
       "      <td>3.593160</td>\n",
       "    </tr>\n",
       "    <tr>\n",
       "      <th>6640</th>\n",
       "      <td>Déjà Vu</td>\n",
       "      <td>1519.0</td>\n",
       "      <td>6.6</td>\n",
       "      <td>2006</td>\n",
       "      <td>7551</td>\n",
       "      <td>3.584676</td>\n",
       "    </tr>\n",
       "    <tr>\n",
       "      <th>8031</th>\n",
       "      <td>The Dark Knight Rises</td>\n",
       "      <td>9263.0</td>\n",
       "      <td>7.6</td>\n",
       "      <td>2012</td>\n",
       "      <td>49026</td>\n",
       "      <td>3.539103</td>\n",
       "    </tr>\n",
       "    <tr>\n",
       "      <th>4145</th>\n",
       "      <td>Insomnia</td>\n",
       "      <td>1181.0</td>\n",
       "      <td>6.8</td>\n",
       "      <td>2002</td>\n",
       "      <td>320</td>\n",
       "      <td>3.480917</td>\n",
       "    </tr>\n",
       "    <tr>\n",
       "      <th>4173</th>\n",
       "      <td>Minority Report</td>\n",
       "      <td>2663.0</td>\n",
       "      <td>7.1</td>\n",
       "      <td>2002</td>\n",
       "      <td>180</td>\n",
       "      <td>3.478914</td>\n",
       "    </tr>\n",
       "    <tr>\n",
       "      <th>5580</th>\n",
       "      <td>The Three Lives of Thomasina</td>\n",
       "      <td>12.0</td>\n",
       "      <td>6.8</td>\n",
       "      <td>1963</td>\n",
       "      <td>15081</td>\n",
       "      <td>3.407616</td>\n",
       "    </tr>\n",
       "  </tbody>\n",
       "</table>\n",
       "</div>"
      ],
      "text/plain": [
       "                             title  vote_count  vote_average  year      id  \\\n",
       "6981               The Dark Knight     12269.0           8.3  2008     155   \n",
       "3381                       Memento      4168.0           8.1  2000      77   \n",
       "8613                  Interstellar     11187.0           8.1  2014  157336   \n",
       "6623                  The Prestige      4510.0           8.0  2006    1124   \n",
       "6218                 Batman Begins      7511.0           7.5  2005     272   \n",
       "6640                       Déjà Vu      1519.0           6.6  2006    7551   \n",
       "8031         The Dark Knight Rises      9263.0           7.6  2012   49026   \n",
       "4145                      Insomnia      1181.0           6.8  2002     320   \n",
       "4173               Minority Report      2663.0           7.1  2002     180   \n",
       "5580  The Three Lives of Thomasina        12.0           6.8  1963   15081   \n",
       "\n",
       "           est  \n",
       "6981  4.070275  \n",
       "3381  4.001828  \n",
       "8613  3.819975  \n",
       "6623  3.818131  \n",
       "6218  3.593160  \n",
       "6640  3.584676  \n",
       "8031  3.539103  \n",
       "4145  3.480917  \n",
       "4173  3.478914  \n",
       "5580  3.407616  "
      ]
     },
     "execution_count": 127,
     "metadata": {},
     "output_type": "execute_result"
    }
   ],
   "source": [
    "hybrid(userId = 7, title = 'Inception')"
   ]
  },
  {
   "cell_type": "code",
   "execution_count": 128,
   "id": "39dc8e5e-0612-4227-b323-188145321269",
   "metadata": {},
   "outputs": [
    {
     "data": {
      "text/html": [
       "<div>\n",
       "<style scoped>\n",
       "    .dataframe tbody tr th:only-of-type {\n",
       "        vertical-align: middle;\n",
       "    }\n",
       "\n",
       "    .dataframe tbody tr th {\n",
       "        vertical-align: top;\n",
       "    }\n",
       "\n",
       "    .dataframe thead th {\n",
       "        text-align: right;\n",
       "    }\n",
       "</style>\n",
       "<table border=\"1\" class=\"dataframe\">\n",
       "  <thead>\n",
       "    <tr style=\"text-align: right;\">\n",
       "      <th></th>\n",
       "      <th>title</th>\n",
       "      <th>vote_count</th>\n",
       "      <th>vote_average</th>\n",
       "      <th>year</th>\n",
       "      <th>id</th>\n",
       "      <th>est</th>\n",
       "    </tr>\n",
       "  </thead>\n",
       "  <tbody>\n",
       "    <tr>\n",
       "      <th>6981</th>\n",
       "      <td>The Dark Knight</td>\n",
       "      <td>12269.0</td>\n",
       "      <td>8.3</td>\n",
       "      <td>2008</td>\n",
       "      <td>155</td>\n",
       "      <td>4.268279</td>\n",
       "    </tr>\n",
       "    <tr>\n",
       "      <th>3381</th>\n",
       "      <td>Memento</td>\n",
       "      <td>4168.0</td>\n",
       "      <td>8.1</td>\n",
       "      <td>2000</td>\n",
       "      <td>77</td>\n",
       "      <td>3.877529</td>\n",
       "    </tr>\n",
       "    <tr>\n",
       "      <th>6623</th>\n",
       "      <td>The Prestige</td>\n",
       "      <td>4510.0</td>\n",
       "      <td>8.0</td>\n",
       "      <td>2006</td>\n",
       "      <td>1124</td>\n",
       "      <td>3.820019</td>\n",
       "    </tr>\n",
       "    <tr>\n",
       "      <th>8613</th>\n",
       "      <td>Interstellar</td>\n",
       "      <td>11187.0</td>\n",
       "      <td>8.1</td>\n",
       "      <td>2014</td>\n",
       "      <td>157336</td>\n",
       "      <td>3.620049</td>\n",
       "    </tr>\n",
       "    <tr>\n",
       "      <th>6218</th>\n",
       "      <td>Batman Begins</td>\n",
       "      <td>7511.0</td>\n",
       "      <td>7.5</td>\n",
       "      <td>2005</td>\n",
       "      <td>272</td>\n",
       "      <td>3.613059</td>\n",
       "    </tr>\n",
       "    <tr>\n",
       "      <th>8031</th>\n",
       "      <td>The Dark Knight Rises</td>\n",
       "      <td>9263.0</td>\n",
       "      <td>7.6</td>\n",
       "      <td>2012</td>\n",
       "      <td>49026</td>\n",
       "      <td>3.544642</td>\n",
       "    </tr>\n",
       "    <tr>\n",
       "      <th>4173</th>\n",
       "      <td>Minority Report</td>\n",
       "      <td>2663.0</td>\n",
       "      <td>7.1</td>\n",
       "      <td>2002</td>\n",
       "      <td>180</td>\n",
       "      <td>3.526300</td>\n",
       "    </tr>\n",
       "    <tr>\n",
       "      <th>6640</th>\n",
       "      <td>Déjà Vu</td>\n",
       "      <td>1519.0</td>\n",
       "      <td>6.6</td>\n",
       "      <td>2006</td>\n",
       "      <td>7551</td>\n",
       "      <td>3.423516</td>\n",
       "    </tr>\n",
       "    <tr>\n",
       "      <th>8207</th>\n",
       "      <td>Looper</td>\n",
       "      <td>4777.0</td>\n",
       "      <td>6.6</td>\n",
       "      <td>2012</td>\n",
       "      <td>59967</td>\n",
       "      <td>3.318764</td>\n",
       "    </tr>\n",
       "    <tr>\n",
       "      <th>7948</th>\n",
       "      <td>Stake Land</td>\n",
       "      <td>290.0</td>\n",
       "      <td>6.2</td>\n",
       "      <td>2010</td>\n",
       "      <td>52015</td>\n",
       "      <td>3.299071</td>\n",
       "    </tr>\n",
       "  </tbody>\n",
       "</table>\n",
       "</div>"
      ],
      "text/plain": [
       "                      title  vote_count  vote_average  year      id       est\n",
       "6981        The Dark Knight     12269.0           8.3  2008     155  4.268279\n",
       "3381                Memento      4168.0           8.1  2000      77  3.877529\n",
       "6623           The Prestige      4510.0           8.0  2006    1124  3.820019\n",
       "8613           Interstellar     11187.0           8.1  2014  157336  3.620049\n",
       "6218          Batman Begins      7511.0           7.5  2005     272  3.613059\n",
       "8031  The Dark Knight Rises      9263.0           7.6  2012   49026  3.544642\n",
       "4173        Minority Report      2663.0           7.1  2002     180  3.526300\n",
       "6640                Déjà Vu      1519.0           6.6  2006    7551  3.423516\n",
       "8207                 Looper      4777.0           6.6  2012   59967  3.318764\n",
       "7948             Stake Land       290.0           6.2  2010   52015  3.299071"
      ]
     },
     "execution_count": 128,
     "metadata": {},
     "output_type": "execute_result"
    }
   ],
   "source": [
    "hybrid(userId = 25, title = 'Inception')"
   ]
  },
  {
   "cell_type": "markdown",
   "id": "a648d356-b774-44ff-b4ec-2e2634e7fe6d",
   "metadata": {},
   "source": [
    "*สรุป*  \n",
    "จะเห็นว่าสำหรับ **Hybrid Recommender** ผลลัพธ์ให้คำแนะนำที่แตกต่างกันสำหรับผู้ใช้ที่แตกต่างกัน แม้ว่าภาพยนตร์จะเหมือนกันก็ตาม   \n",
    "ดังนั้น คำแนะนำจึงมีความเป็นส่วนตัวมากขึ้น และปรับให้เหมาะกับผู้ใช้แต่ละรายโดยเฉพาะ"
   ]
  },
  {
   "cell_type": "markdown",
   "id": "9319ec75-bf7b-418e-92e2-8d15d3175f02",
   "metadata": {
    "jp-MarkdownHeadingCollapsed": true,
    "tags": []
   },
   "source": [
    "**[Back to Table of Contents](#8)**\n",
    "\n",
    "***"
   ]
  },
  {
   "cell_type": "markdown",
   "id": "c62ae669-a575-4e99-992b-d2e16b892b93",
   "metadata": {},
   "source": [
    "<a id=\"7\"></a> \n",
    "# 7. Reference"
   ]
  },
  {
   "cell_type": "markdown",
   "id": "03b01b2b-9c77-4c08-b081-efd8b86c787a",
   "metadata": {},
   "source": [
    "kaggle:\n",
    "- https://www.kaggle.com/code/ibtesama/getting-started-with-a-movie-recommendation-system\n",
    "- https://www.kaggle.com/code/paramarthasengupta/movies-recommendation-tool-approaching-patterns\n",
    "- https://www.kaggle.com/code/rounakbanik/movie-recommender-systems\n",
    "- https://www.kaggle.com/code/sagarbapodara/movie-recommendation-system-web-app\n",
    "\n",
    "Recommendation System:\n",
    "- https://bigdata.go.th/movements/youtube-recommendation-system/\n",
    "- http://ir-ithesis.swu.ac.th/dspace/bitstream/123456789/1166/1/gs621130235.pdf\n",
    "\n",
    "SVD:\n",
    "- https://www.bualabs.com/archives/2971/lsa-latent-semantic-analysis-text-classification-singular-value-decomposition-svd-non-negative-matrix-factorization-nmf-nlp-ep-4/\n",
    "\n",
    "TF-IDF & CountVectorizer:\n",
    "- https://bigdata.go.th/big-data-101/tf-idf-1/\n",
    "- https://medium.com/mmp-li/%E0%B8%A5%E0%B8%94%E0%B8%A1%E0%B8%B4%E0%B8%95%E0%B8%B4%E0%B8%82%E0%B9%89%E0%B8%AD%E0%B8%A1%E0%B8%B9%E0%B8%A5%E0%B9%80%E0%B8%9E%E0%B8%B7%E0%B9%88%E0%B8%AD%E0%B8%97%E0%B8%B3-recommender-system-by-unsupervised-learning-ca8ff80a563"
   ]
  },
  {
   "cell_type": "code",
   "execution_count": null,
   "id": "95f644c8-a707-4dad-bf8f-998ea02eea5d",
   "metadata": {},
   "outputs": [],
   "source": []
  }
 ],
 "metadata": {
  "kernelspec": {
   "display_name": "Python 3 (ipykernel)",
   "language": "python",
   "name": "python3"
  },
  "language_info": {
   "codemirror_mode": {
    "name": "ipython",
    "version": 3
   },
   "file_extension": ".py",
   "mimetype": "text/x-python",
   "name": "python",
   "nbconvert_exporter": "python",
   "pygments_lexer": "ipython3",
   "version": "3.9.13"
  }
 },
 "nbformat": 4,
 "nbformat_minor": 5
}
