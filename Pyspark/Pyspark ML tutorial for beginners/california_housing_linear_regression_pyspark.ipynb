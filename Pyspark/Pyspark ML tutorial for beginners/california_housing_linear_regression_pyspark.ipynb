{
 "cells": [
  {
   "cell_type": "markdown",
   "id": "3d3b94b6-cf80-4513-8cd4-8085f8554dc5",
   "metadata": {},
   "source": [
    "# Predicting House Prices with Apache Spark\n",
    "\n",
    "## LINEAR REGRESSION\n",
    "ในส่วนนี้เราจะใช้ชุดข้อมูลที่เรียกว่า [California Housing](http://www.dcc.fc.up.pt/~ltorgo/Regression/cal_housing.html) โปรดทราบว่านั่นคือ 'ข้อมูลขนาดเล็ก' และการใช้ Spark ในบริบทนี้อาจจะเป็นการใช้งานที่เกินความจำเป็น (เหมาะกับ Big Data)  \n",
    "สมุดบันทึกนี้เป็นเพียงเพื่อการศึกษาเท่านั้นและมีเจตนาที่จะให้เรารู้ว่าเราสามารถใช้ PySpark เพื่อสร้างโมเดลเรียนรู้ของเครื่องได้อย่างไร"
   ]
  },
  {
   "cell_type": "markdown",
   "id": "c4898778-229c-4d32-81b7-1ab0dd5f9cdf",
   "metadata": {},
   "source": [
    "<a id=\"10\"></a> \n",
    "# Table of Contents  \n",
    "**[1. Understanding the Data Set](#1)       \n",
    "[2. Creating the Spark Session](#2)   \n",
    "[3. Load The Data From a File Into a Dataframe](#3)   \n",
    "[4. Data Exploration](#4)       \n",
    "[5. Data Preprocessing](#5)       \n",
    "[6. Feature Engineering](#6)  \n",
    "[7. Building A Machine Learning Model With Spark ML](#7)  \n",
    "[8. Evaluating the Model](#8)  \n",
    "[9. Reference](#9)**\n",
    "\n",
    "***"
   ]
  },
  {
   "cell_type": "markdown",
   "id": "753cbe6a-22b1-4b36-9268-73e757b5a413",
   "metadata": {},
   "source": [
    "<a id=\"1\"></a>\n",
    "## 1. Understanding the Data Set\n",
    "ชุดข้อมูล California Housing ปรากฏในบทความเมื่อปี 1997 ที่ชื่อ Sparse Spatial Autoregressions ที่เขียนโดย Pace, R. Kelley และ Ronald Barry และเผยแพร่ในวารสาร Statistics and Probability Letters นักวิจัยสร้างชุดข้อมูลนี้โดยใช้ข้อมูลสำรวจประชากรในรัฐแคลิฟอร์เนียปี 1990\n",
    "\n",
    "ข้อมูลประกอบด้วยแถวละหนึ่งแถวต่อกลุ่มบล็อก กลุ่มบล็อก คือ หน่วยภูมิศาสตร์ที่เล็กที่สุดที่สำนักงานการสำรวจประชากรสหรัฐฯ จะเผยแพร่ข้อมูลตัวอย่าง (กลุ่มบล็อกมักมีประชากรประมาณ 600 ถึง 3,000 คน) ในตัวอย่างนี้ กลุ่มบล็อกในเฉลี่ยประกอบด้วยบุคคลจำนวนเฉลี่ย 1425.5 คนที่อาศัยอยู่ในพื้นที่ที่มีขนาดเล็กทางภูมิศาสตร์\n",
    "\n",
    "ข้อมูลเชิงพื้นที่เหล่านี้ประกอบด้วยการสำรวจราคาที่บ้าน 20,640 ค่าสังเกตการณ์ พร้อมกับตัวแปรทางเศรษฐกิจ 9 ตัวแปร\n",
    "\n",
    "**`Longitude:`** หมายถึงระยะทางมุมของสถานที่ทางภูมิศาสตร์ทางเหนือหรือทางใต้ของเส้นศูนย์ส่วนของโลกสำหรับแต่ละกลุ่มบล็อก  \n",
    "**`Latitude:`** หมายถึงระยะทางมุมของสถานที่ทางภูมิศาสตร์ทางตะวันออกหรือทางตะวันตกของเส้นศูนย์ส่วนของโลกสำหรับแต่ละกลุ่มบล็อก  \n",
    "**`Housing Median Age:`** เป็นอายุเฉลี่ยของคนที่อยู่ในกลุ่มบล็อก โปรดทราบว่าอายุเฉลี่ยหมายถึงค่าที่อยู่ตรงกลางของการกระจายความถี่ของค่าที่สังเกตเห็น  \n",
    "**`Total Rooms:`** เป็นจำนวนห้องทั้งหมดในบ้านต่อกลุ่มบล็อก  \n",
    "**`Total Bedrooms:`** เป็นจำนวนห้องนอนทั้งหมดในบ้านต่อกลุ่มบล็อก  \n",
    "**`Population:`** เป็นจำนวนประชากรในกลุ่มบล็อก  \n",
    "**`Households:`** เป็นหน่วยบ้านและผู้อาศัยต่อกลุ่มบล็อก  \n",
    "**`Median Income:`** เป็นการลงทะเบียนรายได้เฉลี่ยของคนที่อยู่ในกลุ่มบล็อก  \n",
    "**`Median House Value:`** เป็นตัวแปรตามซึ่งเป็นค่ากลางของมูลค่าบ้านเฉลี่ยต่อกลุ่มบล็อก  \n",
    "\n",
    "\n",
    "นอกจากนี้เรายังได้เรียนรู้ว่าข้อมูลของตัวแปรอิสระ และตัวแปรตามทั้งหมดในกลุ่มบล็อกที่มีค่าเป็นศูนย์ถูกยกเว้นออกจากข้อมูล  \n",
    "\n",
    "**`Median House Value`** เป็นตัวแปรตามที่เป็นตัวแปรขึ้นกับตัวแปรอิสระ และจะได้รับการกำหนดบทบาทเป็นตัวแปรเป้าหมายในโมเดลเรียนรู้ของเรา"
   ]
  },
  {
   "cell_type": "markdown",
   "id": "dc116422-d0e6-4fe9-aa93-bef48079b95e",
   "metadata": {},
   "source": [
    "### Import Libraries"
   ]
  },
  {
   "cell_type": "code",
   "execution_count": 1,
   "id": "65b510ce-b462-4a6c-ac09-48e7a41012a7",
   "metadata": {},
   "outputs": [],
   "source": [
    "import os\n",
    "import pandas as pd\n",
    "import numpy as np\n",
    "\n",
    "# entry point\n",
    "from pyspark import SparkConf, SparkContext\n",
    "from pyspark.sql import SparkSession, SQLContext\n",
    "\n",
    "from pyspark.sql.types import *\n",
    "import pyspark.sql.functions as F\n",
    "from pyspark.sql.functions import udf, col\n",
    "\n",
    "# Machine Learning & Evaluation\n",
    "from pyspark.ml.regression import LinearRegression\n",
    "from pyspark.mllib.evaluation import RegressionMetrics\n",
    "\n",
    "from pyspark.ml.tuning import ParamGridBuilder, CrossValidator, CrossValidatorModel\n",
    "from pyspark.ml.feature import VectorAssembler, StandardScaler\n",
    "from pyspark.ml.evaluation import RegressionEvaluator"
   ]
  },
  {
   "cell_type": "code",
   "execution_count": 2,
   "id": "9c7f3866-eba8-4089-b85b-38b7c9c49bde",
   "metadata": {},
   "outputs": [],
   "source": [
    "# Visualization\n",
    "import seaborn as sns\n",
    "import matplotlib.pyplot as plt\n",
    "%matplotlib inline\n",
    "%config InlineBackend.figure_format = 'retina'\n",
    "\n",
    "from IPython.core.interactiveshell import InteractiveShell\n",
    "InteractiveShell.ast_node_interactivity = 'all'\n",
    "\n",
    "pd.set_option('display.max_columns', 200)\n",
    "pd.set_option('display.max_colwidth', 400)\n",
    "\n",
    "from matplotlib import rcParams\n",
    "sns.set(context = 'notebook', \n",
    "        style = 'whitegrid', \n",
    "        rc = {'figure.figsize': (18, 4)})\n",
    "rcParams['figure.figsize'] = 18, 4\n"
   ]
  },
  {
   "cell_type": "code",
   "execution_count": 3,
   "id": "10fbc3a9-5ab5-450e-b93d-ff36b92e6d3e",
   "metadata": {},
   "outputs": [],
   "source": [
    "# setting random seed for notebook reproducability\n",
    "rnd_seed = 23\n",
    "np.random.seed = rnd_seed\n",
    "np.random.set_state = rnd_seed"
   ]
  },
  {
   "cell_type": "markdown",
   "id": "a0c4aa44-7aaa-4beb-9281-baf06cbf9167",
   "metadata": {
    "jp-MarkdownHeadingCollapsed": true,
    "tags": []
   },
   "source": [
    "**[Back to Table of Contents](#10)**\n",
    "\n",
    "***"
   ]
  },
  {
   "cell_type": "markdown",
   "id": "91518e04-2272-43ca-bced-8d63716f1271",
   "metadata": {},
   "source": [
    "<a id=\"2\"></a>\n",
    "## 2. Creating the Spark Session"
   ]
  },
  {
   "cell_type": "markdown",
   "id": "fa13b706-09b3-4a2b-a72a-da5b59e2c38c",
   "metadata": {},
   "source": [
    "จุดเริ่มต้นของการใช้ Spark คือ เราต้องสร้าง entry point หรือ ประตูที่สามารถให้เราเข้าไปใช้ฟังชั่นต่างๆใน Spark Core ได้ โดยเริ่มจากการอิมพอร์ท SparkContext"
   ]
  },
  {
   "cell_type": "code",
   "execution_count": 4,
   "id": "c786d9b2-c8c8-40a8-a388-c6a3e031a26a",
   "metadata": {},
   "outputs": [
    {
     "data": {
      "text/html": [
       "\n",
       "            <div>\n",
       "                <p><b>SparkSession - in-memory</b></p>\n",
       "                \n",
       "        <div>\n",
       "            <p><b>SparkContext</b></p>\n",
       "\n",
       "            <p><a href=\"http://EVOSHAMAN:4040\">Spark UI</a></p>\n",
       "\n",
       "            <dl>\n",
       "              <dt>Version</dt>\n",
       "                <dd><code>v3.4.1</code></dd>\n",
       "              <dt>Master</dt>\n",
       "                <dd><code>local[2]</code></dd>\n",
       "              <dt>AppName</dt>\n",
       "                <dd><code>Linear-Regression-California-Housing</code></dd>\n",
       "            </dl>\n",
       "        </div>\n",
       "        \n",
       "            </div>\n",
       "        "
      ],
      "text/plain": [
       "<pyspark.sql.session.SparkSession at 0x1128989da30>"
      ]
     },
     "execution_count": 4,
     "metadata": {},
     "output_type": "execute_result"
    }
   ],
   "source": [
    "spark = SparkSession.builder.master('local[2]').appName('Linear-Regression-California-Housing').getOrCreate()\n",
    "spark"
   ]
  },
  {
   "cell_type": "code",
   "execution_count": 5,
   "id": "9c52a5fc-9ff9-498f-97f9-6d2f4fe4de39",
   "metadata": {},
   "outputs": [
    {
     "data": {
      "text/html": [
       "\n",
       "        <div>\n",
       "            <p><b>SparkContext</b></p>\n",
       "\n",
       "            <p><a href=\"http://EVOSHAMAN:4040\">Spark UI</a></p>\n",
       "\n",
       "            <dl>\n",
       "              <dt>Version</dt>\n",
       "                <dd><code>v3.4.1</code></dd>\n",
       "              <dt>Master</dt>\n",
       "                <dd><code>local[2]</code></dd>\n",
       "              <dt>AppName</dt>\n",
       "                <dd><code>Linear-Regression-California-Housing</code></dd>\n",
       "            </dl>\n",
       "        </div>\n",
       "        "
      ],
      "text/plain": [
       "<SparkContext master=local[2] appName=Linear-Regression-California-Housing>"
      ]
     },
     "execution_count": 5,
     "metadata": {},
     "output_type": "execute_result"
    }
   ],
   "source": [
    "sc = spark.sparkContext\n",
    "sc"
   ]
  },
  {
   "cell_type": "code",
   "execution_count": 6,
   "id": "dee7928f-10a4-4104-8356-f4d97191eda6",
   "metadata": {},
   "outputs": [
    {
     "name": "stderr",
     "output_type": "stream",
     "text": [
      "C:\\Users\\PP\\anaconda3\\lib\\site-packages\\pyspark\\sql\\context.py:112: FutureWarning: Deprecated in 3.0.0. Use SparkSession.builder.getOrCreate() instead.\n",
      "  warnings.warn(\n"
     ]
    },
    {
     "data": {
      "text/plain": [
       "<pyspark.sql.context.SQLContext at 0x1128989dc10>"
      ]
     },
     "execution_count": 6,
     "metadata": {},
     "output_type": "execute_result"
    }
   ],
   "source": [
    "sqlContext = SQLContext(sc)\n",
    "sqlContext"
   ]
  },
  {
   "cell_type": "markdown",
   "id": "ce5d385a-d38a-4961-95be-7884010e2cd4",
   "metadata": {
    "jp-MarkdownHeadingCollapsed": true,
    "tags": []
   },
   "source": [
    "**[Back to Table of Contents](#10)**\n",
    "\n",
    "***"
   ]
  },
  {
   "cell_type": "markdown",
   "id": "7d0d8c5e-cafc-43e5-869e-7c6bad283234",
   "metadata": {},
   "source": [
    "<a id=\"3\"></a>\n",
    "## 3. Load The Data From a File Into a Dataframe"
   ]
  },
  {
   "cell_type": "code",
   "execution_count": 7,
   "id": "fa38da3b-49fb-447d-acd1-37947156b73a",
   "metadata": {},
   "outputs": [],
   "source": [
    "HOUSING_DATA = 'data/cal_housing.data'"
   ]
  },
  {
   "cell_type": "code",
   "execution_count": 8,
   "id": "bd6795b8-3d92-4fe5-adf1-8a215fdc07cb",
   "metadata": {},
   "outputs": [],
   "source": [
    "# define the schema, corresponding to a line in the csv data file.\n",
    "schema = StructType(\n",
    "                    [\n",
    "                        StructField('long', FloatType(), nullable = True),\n",
    "                        StructField('lat', FloatType(), nullable = True),\n",
    "                        StructField('medage', FloatType(), nullable = True),\n",
    "                        StructField('totrooms', FloatType(), nullable = True),\n",
    "                        StructField('totbdrms', FloatType(), nullable = True),\n",
    "                        StructField('pop', FloatType(), nullable = True),\n",
    "                        StructField('houshlds', FloatType(), nullable = True),\n",
    "                        StructField('medinc', FloatType(), nullable = True),\n",
    "                        StructField('medhv', FloatType(), nullable = True)\n",
    "                    ]\n",
    ")"
   ]
  },
  {
   "cell_type": "code",
   "execution_count": 9,
   "id": "c782c030-a582-4771-9713-932e63fd3327",
   "metadata": {},
   "outputs": [
    {
     "name": "stdout",
     "output_type": "stream",
     "text": [
      "2.6492793560028076 second\n"
     ]
    }
   ],
   "source": [
    "# Load housing data\n",
    "import time\n",
    "start_time = time.time()\n",
    "\n",
    "housing_df = spark.read.csv(path = HOUSING_DATA, schema = schema).cache()\n",
    "\n",
    "print(f'{time.time() - start_time} second')"
   ]
  },
  {
   "cell_type": "code",
   "execution_count": 10,
   "id": "a1afd47e-41bf-4e91-a8a9-10b83d46fad4",
   "metadata": {},
   "outputs": [
    {
     "data": {
      "text/plain": [
       "[Row(long=-122.2300033569336, lat=37.880001068115234, medage=41.0, totrooms=880.0, totbdrms=129.0, pop=322.0, houshlds=126.0, medinc=8.325200080871582, medhv=452600.0),\n",
       " Row(long=-122.22000122070312, lat=37.86000061035156, medage=21.0, totrooms=7099.0, totbdrms=1106.0, pop=2401.0, houshlds=1138.0, medinc=8.301400184631348, medhv=358500.0),\n",
       " Row(long=-122.23999786376953, lat=37.849998474121094, medage=52.0, totrooms=1467.0, totbdrms=190.0, pop=496.0, houshlds=177.0, medinc=7.257400035858154, medhv=352100.0),\n",
       " Row(long=-122.25, lat=37.849998474121094, medage=52.0, totrooms=1274.0, totbdrms=235.0, pop=558.0, houshlds=219.0, medinc=5.643099784851074, medhv=341300.0),\n",
       " Row(long=-122.25, lat=37.849998474121094, medage=52.0, totrooms=1627.0, totbdrms=280.0, pop=565.0, houshlds=259.0, medinc=3.8461999893188477, medhv=342200.0)]"
      ]
     },
     "execution_count": 10,
     "metadata": {},
     "output_type": "execute_result"
    }
   ],
   "source": [
    "# Inspect first five rows\n",
    "housing_df.take(5)"
   ]
  },
  {
   "cell_type": "code",
   "execution_count": 11,
   "id": "0f49c005-ee61-41b0-917b-79350113ff1c",
   "metadata": {},
   "outputs": [
    {
     "name": "stdout",
     "output_type": "stream",
     "text": [
      "+-------+-----+------+--------+--------+------+--------+------+--------+\n",
      "|   long|  lat|medage|totrooms|totbdrms|   pop|houshlds|medinc|   medhv|\n",
      "+-------+-----+------+--------+--------+------+--------+------+--------+\n",
      "|-122.23|37.88|  41.0|   880.0|   129.0| 322.0|   126.0|8.3252|452600.0|\n",
      "|-122.22|37.86|  21.0|  7099.0|  1106.0|2401.0|  1138.0|8.3014|358500.0|\n",
      "|-122.24|37.85|  52.0|  1467.0|   190.0| 496.0|   177.0|7.2574|352100.0|\n",
      "|-122.25|37.85|  52.0|  1274.0|   235.0| 558.0|   219.0|5.6431|341300.0|\n",
      "|-122.25|37.85|  52.0|  1627.0|   280.0| 565.0|   259.0|3.8462|342200.0|\n",
      "+-------+-----+------+--------+--------+------+--------+------+--------+\n",
      "only showing top 5 rows\n",
      "\n"
     ]
    }
   ],
   "source": [
    "# Show first five rows\n",
    "housing_df.show(5)"
   ]
  },
  {
   "cell_type": "code",
   "execution_count": 12,
   "id": "3a0a3abb-8cc4-40bd-9657-e77daf798afe",
   "metadata": {},
   "outputs": [
    {
     "data": {
      "text/plain": [
       "['long',\n",
       " 'lat',\n",
       " 'medage',\n",
       " 'totrooms',\n",
       " 'totbdrms',\n",
       " 'pop',\n",
       " 'houshlds',\n",
       " 'medinc',\n",
       " 'medhv']"
      ]
     },
     "execution_count": 12,
     "metadata": {},
     "output_type": "execute_result"
    }
   ],
   "source": [
    "# show the dataframe columns\n",
    "housing_df.columns"
   ]
  },
  {
   "cell_type": "code",
   "execution_count": 13,
   "id": "67ff081f-fb07-4006-a094-19d39eec04bf",
   "metadata": {},
   "outputs": [
    {
     "name": "stdout",
     "output_type": "stream",
     "text": [
      "Row of Housing Data: 20640\n"
     ]
    }
   ],
   "source": [
    "print(f'Row of Housing Data: {housing_df.count()}')"
   ]
  },
  {
   "cell_type": "code",
   "execution_count": 14,
   "id": "7e043702-910c-4a4c-bed5-ff465350a8ad",
   "metadata": {},
   "outputs": [
    {
     "name": "stdout",
     "output_type": "stream",
     "text": [
      "root\n",
      " |-- long: float (nullable = true)\n",
      " |-- lat: float (nullable = true)\n",
      " |-- medage: float (nullable = true)\n",
      " |-- totrooms: float (nullable = true)\n",
      " |-- totbdrms: float (nullable = true)\n",
      " |-- pop: float (nullable = true)\n",
      " |-- houshlds: float (nullable = true)\n",
      " |-- medinc: float (nullable = true)\n",
      " |-- medhv: float (nullable = true)\n",
      "\n"
     ]
    }
   ],
   "source": [
    "# show the schema of the dataframe\n",
    "housing_df.printSchema()"
   ]
  },
  {
   "cell_type": "markdown",
   "id": "2eceacc6-8498-4d97-9721-9ffb774be1a0",
   "metadata": {
    "jp-MarkdownHeadingCollapsed": true,
    "tags": []
   },
   "source": [
    "**[Back to Table of Contents](#10)**\n",
    "\n",
    "***"
   ]
  },
  {
   "cell_type": "markdown",
   "id": "bbb785ee-64d1-4fd3-adb0-072924ed3866",
   "metadata": {},
   "source": [
    "<a id=\"4\"></a>\n",
    "## 4. Data Exploration"
   ]
  },
  {
   "cell_type": "code",
   "execution_count": 15,
   "id": "9376833f-b77c-42b4-a312-7e777ab4eb02",
   "metadata": {},
   "outputs": [
    {
     "name": "stdout",
     "output_type": "stream",
     "text": [
      "+------+--------+\n",
      "|   pop|totbdrms|\n",
      "+------+--------+\n",
      "| 322.0|   129.0|\n",
      "|2401.0|  1106.0|\n",
      "| 496.0|   190.0|\n",
      "| 558.0|   235.0|\n",
      "| 565.0|   280.0|\n",
      "| 413.0|   213.0|\n",
      "|1094.0|   489.0|\n",
      "|1157.0|   687.0|\n",
      "|1206.0|   665.0|\n",
      "|1551.0|   707.0|\n",
      "+------+--------+\n",
      "only showing top 10 rows\n",
      "\n"
     ]
    }
   ],
   "source": [
    "# run a sample selection\n",
    "housing_df.select('pop', 'totbdrms').show(10)"
   ]
  },
  {
   "cell_type": "markdown",
   "id": "20583f17-ba98-43cf-9f21-b157b7ef2c49",
   "metadata": {},
   "source": [
    "### 4.1 Distribution of the median age of the people living in the area"
   ]
  },
  {
   "cell_type": "code",
   "execution_count": 16,
   "id": "81b3fdec-4401-4fe5-8882-8b9e07bb61b4",
   "metadata": {},
   "outputs": [],
   "source": [
    "# group by housingmedianage and see the distribution\n",
    "result_df = housing_df.groupBy('medage').count().sort('medage', ascending = False)"
   ]
  },
  {
   "cell_type": "code",
   "execution_count": 17,
   "id": "5ba866f1-b438-488d-af7e-6944ceafe746",
   "metadata": {},
   "outputs": [
    {
     "name": "stdout",
     "output_type": "stream",
     "text": [
      "+------+-----+\n",
      "|medage|count|\n",
      "+------+-----+\n",
      "|  52.0| 1273|\n",
      "|  51.0|   48|\n",
      "|  50.0|  136|\n",
      "|  49.0|  134|\n",
      "|  48.0|  177|\n",
      "|  47.0|  198|\n",
      "|  46.0|  245|\n",
      "|  45.0|  294|\n",
      "|  44.0|  356|\n",
      "|  43.0|  353|\n",
      "+------+-----+\n",
      "only showing top 10 rows\n",
      "\n"
     ]
    }
   ],
   "source": [
    "result_df.show(10)"
   ]
  },
  {
   "cell_type": "code",
   "execution_count": 18,
   "id": "c8b85363-6afd-4a73-9e80-cb322b2b7518",
   "metadata": {},
   "outputs": [
    {
     "data": {
      "image/png": "[encoded data removed]",
      "text/plain": [
       "<Figure size 1000x500 with 1 Axes>"
      ]
     },
     "metadata": {
      "image/png": {
       "height": 469,
       "width": 842
      }
     },
     "output_type": "display_data"
    }
   ],
   "source": [
    "result_df.toPandas().plot.bar(x = 'medage', figsize = (10, 5)) ;"
   ]
  },
  {
   "cell_type": "markdown",
   "id": "49f90771-8d37-497c-b6ca-f4b781c3bc74",
   "metadata": {},
   "source": [
    "ส่วนใหญ่ประชากรที่อาศัยอยู่ที่นี่เป็นเยาวชนหรือผู้ที่เลือกที่จะอยู่ที่นี่ในช่วงปีชราหรือวัยผู้สูงอายุของตนเอง อย่างไรก็ตาม มีข้อมูลบางส่วนที่แสดงถึงอายุเฉลี่ยที่น้อยกว่า 10 ซึ่งดูเหมือนจะไม่เหมาะสมกับสถานการณ์"
   ]
  },
  {
   "cell_type": "markdown",
   "id": "30db5dfa-2395-41b5-8882-a5be327f4133",
   "metadata": {},
   "source": [
    "### 4.2 Summary Statistics"
   ]
  },
  {
   "cell_type": "markdown",
   "id": "166aadae-aedd-4fb2-b559-b5e02f92811f",
   "metadata": {},
   "source": [
    "`Spark DataFrames` รวมถึงฟังก์ชั่นบางอย่างที่มีอยู่แบบสร้างให้เองสำหรับการประมวลผลทางสถิติ   \n",
    "ฟังก์ชั่น `describe()` ดำเนินการคำนวณสถิติสรุปบนคอลัมน์ที่เป็นตัวเลขทั้งหมดและส่งคืนเป็น DataFrame"
   ]
  },
  {
   "cell_type": "code",
   "execution_count": 19,
   "id": "e2e897c6-a6f4-41ff-b8d7-d2ceecec9474",
   "metadata": {},
   "outputs": [
    {
     "name": "stdout",
     "output_type": "stream",
     "text": [
      "+-------+------------------+\n",
      "|summary|            medage|\n",
      "+-------+------------------+\n",
      "|  count|             20640|\n",
      "|   mean|28.639486434108527|\n",
      "| stddev| 12.58555761211163|\n",
      "|    min|               1.0|\n",
      "|    max|              52.0|\n",
      "+-------+------------------+\n",
      "\n"
     ]
    }
   ],
   "source": [
    "housing_df.describe(['medage']).show()"
   ]
  },
  {
   "cell_type": "code",
   "execution_count": 20,
   "id": "3c170f57-4732-4943-a701-fc439e444ae5",
   "metadata": {},
   "outputs": [
    {
     "name": "stdout",
     "output_type": "stream",
     "text": [
      "+-------+-------+---------+--------+---------+--------+-------+-----------+\n",
      "|summary| medage| totrooms|totbdrms|      pop|houshlds| medinc|      medhv|\n",
      "+-------+-------+---------+--------+---------+--------+-------+-----------+\n",
      "|  count|20640.0|  20640.0| 20640.0|  20640.0| 20640.0|20640.0|    20640.0|\n",
      "|   mean|28.6395|2635.7631| 537.898|1425.4767|499.5397| 3.8707|206855.8169|\n",
      "| stddev|12.5856|2181.6153|421.2479|1132.4621|382.3298| 1.8998|115395.6159|\n",
      "|    min|    1.0|      2.0|     1.0|      3.0|     1.0| 0.4999|    14999.0|\n",
      "|    max|   52.0|  39320.0|  6445.0|  35682.0|  6082.0|15.0001|   500001.0|\n",
      "+-------+-------+---------+--------+---------+--------+-------+-----------+\n",
      "\n"
     ]
    }
   ],
   "source": [
    "housing_df.describe().select('summary',\n",
    "                              F.round('medage', 4).alias('medage'),\n",
    "                              F.round('totrooms', 4).alias('totrooms'),\n",
    "                              F.round('totbdrms', 4).alias('totbdrms'),\n",
    "                              F.round('pop', 4).alias('pop'),\n",
    "                              F.round('houshlds', 4).alias('houshlds'),\n",
    "                              F.round('medinc', 4).alias('medinc'),\n",
    "                              F.round('medhv', 4).alias('medhv')).show()"
   ]
  },
  {
   "cell_type": "markdown",
   "id": "c299870b-85ce-4ebc-8df6-2904e7c89e25",
   "metadata": {},
   "source": [
    "*สรุป*  \n",
    "มองไปที่ค่า minimum and maximum ของทุกคุณสมบัติ (ที่เป็นตัวเลข) พบว่ามีคุณสมบัติหลายอย่างที่มีช่วงค่ากว้าง: เราจะต้องทำ `การปรับข้อมูลให้มีมาตรฐาน (normalize)`"
   ]
  },
  {
   "cell_type": "markdown",
   "id": "e6894576-6c59-4716-9224-64282b0bff5d",
   "metadata": {
    "jp-MarkdownHeadingCollapsed": true,
    "tags": []
   },
   "source": [
    "**[Back to Table of Contents](#10)**\n",
    "\n",
    "***"
   ]
  },
  {
   "cell_type": "markdown",
   "id": "8a413e5e-93da-49cd-b537-417fb39e242d",
   "metadata": {},
   "source": [
    "<a id=\"5\"></a>\n",
    "## 5. Data Preprocessing"
   ]
  },
  {
   "cell_type": "markdown",
   "id": "9c1fb644-fc1c-450e-9104-11704d60f4d6",
   "metadata": {},
   "source": [
    "ด้วยข้อมูลทั้งหมดที่เราได้รวบรวมจากการวิเคราะห์ข้อมูลแบบสำรวจเบื้องต้นนี้ เรามีข้อมูลเพียงพอที่จะทำการก่อนประมวลผลข้อมูลเพื่อนำมาใช้กับโมเดลได้\n",
    "\n",
    "    1. เราไม่ควรกังวลเรื่องค่าที่หายไป ค่าศูนย์ทั้งหมดได้ถูกยกเว้นออกจากชุดข้อมูล\n",
    "    2. เราควรมาตรฐานข้อมูลของเรา เนื่องจากเราเห็นว่าช่วงค่าขั้นต่ำและค่าสูงสุดมีความแตกต่างกันอย่างมาก\n",
    "    3. อาจจะมีคุณสมบัติเพิ่มเติมบางอย่างที่เราสามารถเพิ่ม เช่น คุณสมบัติที่บันทึกจำนวนห้องนอนต่อห้องหรือห้องต่อครัวเรือน (the number of bedrooms per room or the rooms per household)\n",
    "    4. ตัวแปรที่ขึ้นอยู่กับตัวแปรอื่นๆ (ตัวแปรตาม: medhv) ยังมีค่าที่สูงมากด้วย เพื่อให้ง่ายต่อการใช้งาน เราจะต้องปรับค่าเล็กน้อย"
   ]
  },
  {
   "cell_type": "markdown",
   "id": "cc7468ba-4714-4c3f-b5e5-06c37260c4c5",
   "metadata": {},
   "source": [
    "### 5.1 Preprocessing The Target Values"
   ]
  },
  {
   "cell_type": "markdown",
   "id": "615e530f-19eb-46dd-a8dd-0cea210f0beb",
   "metadata": {},
   "source": [
    "เริ่มต้นด้วย **`Median House Value`** ซึ่งเป็นตัวแปรตาม เพื่อให้ง่ายต่อการทำงานกับค่าเป้าหมาย เราจะแสดงผลค่ามูลค่าบ้านในหน่วยเป็นแสน เช่น 452600 ควรกลายเป็น 4.526"
   ]
  },
  {
   "cell_type": "code",
   "execution_count": 21,
   "id": "c6abce0a-d712-4ef5-ae61-42729320e098",
   "metadata": {},
   "outputs": [],
   "source": [
    "# Adjust the values of `medianHouseValue`\n",
    "housing_df = housing_df.withColumn('medhv', col('medhv')/100000)"
   ]
  },
  {
   "cell_type": "code",
   "execution_count": 22,
   "id": "52ae555f-95f9-41de-b18e-f32dbcc13651",
   "metadata": {},
   "outputs": [
    {
     "name": "stdout",
     "output_type": "stream",
     "text": [
      "+-------+-----+------+--------+--------+------+--------+------+-----+\n",
      "|   long|  lat|medage|totrooms|totbdrms|   pop|houshlds|medinc|medhv|\n",
      "+-------+-----+------+--------+--------+------+--------+------+-----+\n",
      "|-122.23|37.88|  41.0|   880.0|   129.0| 322.0|   126.0|8.3252|4.526|\n",
      "|-122.22|37.86|  21.0|  7099.0|  1106.0|2401.0|  1138.0|8.3014|3.585|\n",
      "|-122.24|37.85|  52.0|  1467.0|   190.0| 496.0|   177.0|7.2574|3.521|\n",
      "|-122.25|37.85|  52.0|  1274.0|   235.0| 558.0|   219.0|5.6431|3.413|\n",
      "|-122.25|37.85|  52.0|  1627.0|   280.0| 565.0|   259.0|3.8462|3.422|\n",
      "+-------+-----+------+--------+--------+------+--------+------+-----+\n",
      "only showing top 5 rows\n",
      "\n"
     ]
    }
   ],
   "source": [
    "# Show the first 5 lines of `df`\n",
    "housing_df.show(5)"
   ]
  },
  {
   "cell_type": "markdown",
   "id": "3b5706f2-5efa-4fd1-a8df-bb87c061f6e3",
   "metadata": {
    "jp-MarkdownHeadingCollapsed": true,
    "tags": []
   },
   "source": [
    "**[Back to Table of Contents](#10)**\n",
    "\n",
    "***"
   ]
  },
  {
   "cell_type": "markdown",
   "id": "f35f6212-0b53-4829-bc57-d5eea5f14939",
   "metadata": {},
   "source": [
    "<a id=\"6\"></a>\n",
    "## 6. Feature Engineering"
   ]
  },
  {
   "cell_type": "markdown",
   "id": "d44a5918-5f94-4927-9cb6-9b02e6139a63",
   "metadata": {},
   "source": [
    "เมื่อเราได้ปรับค่าใน `medianHouseValue` แล้ว เราจะเพิ่มคอลัมน์ต่อไปนี้ในชุดข้อมูล:\n",
    "\n",
    "**`1. Rooms per household`** ซึ่งหมายถึงจำนวนห้องในครัวเรือนต่อกลุ่มบล็อก  \n",
    "**`2. Population per household`** ซึ่งให้เรามีความรู้เกี่ยวกับจำนวนคนที่อาศัยอยู่ในครัวเรือนต่อกลุ่มบล็อก  \n",
    "**`3. Bedrooms per room`** ซึ่งจะให้เรารู้ว่ามีห้องนอนกี่ห้องต่อกลุ่มบล็อก  \n",
    "\n",
    "เนื่องจากเรากำลังทำงานกับ DataFrame เราสามารถใช้ `select()` เพื่อเลือกคอลัมน์ที่เรากำลังทำงานด้วย คือ `totalRooms`, `households`, และ `population` นอกจากนี้ เราต้องระบุว่าเรากำลังทำงานกับคอลัมน์โดยการเพิ่มฟังก์ชัน `col()` เข้ามาในโค้ดของเรา มิฉะนั้น เราจะไม่สามารถทำการดำเนินการที่มีองค์ประกอบแบบอิลิเมนต์ได้ เช่นการหารทีละองค์ประกอบที่เราคาดหวังสำหรับตัวแปรเหล่านี้ได้"
   ]
  },
  {
   "cell_type": "code",
   "execution_count": 23,
   "id": "94c04322-b7a2-4115-9fa7-27fecc639f19",
   "metadata": {},
   "outputs": [
    {
     "data": {
      "text/plain": [
       "['long',\n",
       " 'lat',\n",
       " 'medage',\n",
       " 'totrooms',\n",
       " 'totbdrms',\n",
       " 'pop',\n",
       " 'houshlds',\n",
       " 'medinc',\n",
       " 'medhv']"
      ]
     },
     "execution_count": 23,
     "metadata": {},
     "output_type": "execute_result"
    }
   ],
   "source": [
    "housing_df.columns"
   ]
  },
  {
   "cell_type": "code",
   "execution_count": 24,
   "id": "6922fc35-564f-49d7-ae01-8483eab08697",
   "metadata": {},
   "outputs": [],
   "source": [
    "# Add the new columns to `df`\n",
    "housing_df = (housing_df.withColumn('rmsperhh', F.round(col('totrooms')/col('houshlds'), 2))\n",
    "                        .withColumn('popperhh', F.round(col('pop')/col('houshlds'), 2))\n",
    "                        .withColumn('bdrmsperrm', F.round(col('totbdrms')/col('totrooms'), 2)))"
   ]
  },
  {
   "cell_type": "code",
   "execution_count": 25,
   "id": "1f44668f-6677-43fe-bb43-d4b56ff3956d",
   "metadata": {},
   "outputs": [
    {
     "name": "stdout",
     "output_type": "stream",
     "text": [
      "+-------+-----+------+--------+--------+------+--------+------+-----+--------+--------+----------+\n",
      "|   long|  lat|medage|totrooms|totbdrms|   pop|houshlds|medinc|medhv|rmsperhh|popperhh|bdrmsperrm|\n",
      "+-------+-----+------+--------+--------+------+--------+------+-----+--------+--------+----------+\n",
      "|-122.23|37.88|  41.0|   880.0|   129.0| 322.0|   126.0|8.3252|4.526|    6.98|    2.56|      0.15|\n",
      "|-122.22|37.86|  21.0|  7099.0|  1106.0|2401.0|  1138.0|8.3014|3.585|    6.24|    2.11|      0.16|\n",
      "|-122.24|37.85|  52.0|  1467.0|   190.0| 496.0|   177.0|7.2574|3.521|    8.29|     2.8|      0.13|\n",
      "|-122.25|37.85|  52.0|  1274.0|   235.0| 558.0|   219.0|5.6431|3.413|    5.82|    2.55|      0.18|\n",
      "|-122.25|37.85|  52.0|  1627.0|   280.0| 565.0|   259.0|3.8462|3.422|    6.28|    2.18|      0.17|\n",
      "+-------+-----+------+--------+--------+------+--------+------+-----+--------+--------+----------+\n",
      "only showing top 5 rows\n",
      "\n"
     ]
    }
   ],
   "source": [
    "# Inspect the result\n",
    "housing_df.show(5)"
   ]
  },
  {
   "cell_type": "markdown",
   "id": "887aa93a-fd0f-4a3a-9d9c-e10250376140",
   "metadata": {},
   "source": [
    "*สรุป*  \n",
    "เราสามารถเห็นได้ว่าสำหรับแถวแรกมีห้องประมาณ 6.98 ห้องต่อครัวเรือน ครัวเรือนในกลุ่มบล็อกประกอบด้วยประมาณ 2.56 คน และจำนวนห้องนอนน้อยมากเพียง 0.15"
   ]
  },
  {
   "cell_type": "markdown",
   "id": "907b7103-aa1f-4f51-b707-fde9070656c2",
   "metadata": {},
   "source": [
    "เนื่องจากเราไม่ต้องการเรียงลำดับค่าเป้าหมายของเราให้เป็นมาตรฐานเสมอ ดังนั้นเราต้องตรวจสอบให้แน่ใจว่าเราแยกข้อมูลเหล่านั้นออกจากชุดข้อมูลของเรา โปรดทราบว่านี่เป็นเวลาที่ต้องพิจารณาการตัดตัวแปรที่เราอาจไม่ต้องการพิจารณาในการวิเคราะห์ของเรา ในกรณีนี้ เราจะตัดตัวแปรออก เช่น ลองจิจูด (longitude) ละติจูด (latitude) อายุเฉลี่ยของบ้าน (housingMedianAge) และจำนวนห้องทั้งหมด (totalRooms) \n",
    "\n",
    "ในกรณีนี้ เราจะใช้ `select()` และระบุชื่อคอลัมน์ตามลำดับที่เหมาะสมมากขึ้น ในกรณีนี้ ตัวแปรเป้าหมาย `medianHouseValue` ถูกวางไว้ก่อนเพื่อให้ไม่ได้รับผลกระทบจากการปรับข้อมูลให้มีมาตรฐาน (normalize)\n",
    "\n"
   ]
  },
  {
   "cell_type": "code",
   "execution_count": 26,
   "id": "f424845d-2179-45c4-a6a5-c22b431f49e3",
   "metadata": {},
   "outputs": [],
   "source": [
    "# Re-order and select columns\n",
    "housing_df = housing_df.select('medhv', \n",
    "                               'totbdrms', \n",
    "                               'pop', \n",
    "                               'houshlds', \n",
    "                               'medinc', \n",
    "                               'rmsperhh', \n",
    "                               'popperhh', \n",
    "                               'bdrmsperrm')"
   ]
  },
  {
   "cell_type": "code",
   "execution_count": 27,
   "id": "057dafaa-0fef-4462-bad1-be3f558ae047",
   "metadata": {},
   "outputs": [
    {
     "name": "stdout",
     "output_type": "stream",
     "text": [
      "+-----+--------+------+--------+------+--------+--------+----------+\n",
      "|medhv|totbdrms|   pop|houshlds|medinc|rmsperhh|popperhh|bdrmsperrm|\n",
      "+-----+--------+------+--------+------+--------+--------+----------+\n",
      "|4.526|   129.0| 322.0|   126.0|8.3252|    6.98|    2.56|      0.15|\n",
      "|3.585|  1106.0|2401.0|  1138.0|8.3014|    6.24|    2.11|      0.16|\n",
      "|3.521|   190.0| 496.0|   177.0|7.2574|    8.29|     2.8|      0.13|\n",
      "|3.413|   235.0| 558.0|   219.0|5.6431|    5.82|    2.55|      0.18|\n",
      "|3.422|   280.0| 565.0|   259.0|3.8462|    6.28|    2.18|      0.17|\n",
      "+-----+--------+------+--------+------+--------+--------+----------+\n",
      "only showing top 5 rows\n",
      "\n"
     ]
    }
   ],
   "source": [
    "housing_df.show(5)"
   ]
  },
  {
   "cell_type": "markdown",
   "id": "3dd8f2ff-d0dd-4c9f-a81b-16daf9daced5",
   "metadata": {},
   "source": [
    "### 6.1 Feature Extraction"
   ]
  },
  {
   "cell_type": "markdown",
   "id": "788eee1f-c926-4627-8b54-c0982bb04cbe",
   "metadata": {},
   "source": [
    "ตอนนี้ที่เราได้เรียงลำดับข้อมูลแล้ว เราพร้อมที่จะทำการปรับข้อมูลให้เป็นมาตรฐานได้แล้ว เราจะเลือกคุณลักษณะที่ต้องการที่จะทำการปรับมาตรฐาน"
   ]
  },
  {
   "cell_type": "code",
   "execution_count": 28,
   "id": "2415cf66-30bb-4db8-abe7-9375576335b8",
   "metadata": {},
   "outputs": [],
   "source": [
    "featureCols = ['totbdrms', 'pop', 'houshlds', 'medinc', 'rmsperhh', 'popperhh', 'bdrmsperrm']"
   ]
  },
  {
   "cell_type": "markdown",
   "id": "084efa88-48d0-406d-8ae2-b90f0547b80a",
   "metadata": {},
   "source": [
    "#### Use a VectorAssembler to put features into a feature vector column:"
   ]
  },
  {
   "cell_type": "code",
   "execution_count": 29,
   "id": "d2f84901-eddd-47e0-99f8-f6eebd82353d",
   "metadata": {},
   "outputs": [],
   "source": [
    "# put features into a feature vector column\n",
    "assembler = VectorAssembler(inputCols = featureCols, outputCol = 'features') "
   ]
  },
  {
   "cell_type": "code",
   "execution_count": 30,
   "id": "82fc4f46-03ae-447b-9171-ec3547b29ec5",
   "metadata": {},
   "outputs": [],
   "source": [
    "assembled_df = assembler.transform(housing_df)"
   ]
  },
  {
   "cell_type": "code",
   "execution_count": 31,
   "id": "afeb50a6-23dd-4cec-a70e-97b83bf9b518",
   "metadata": {},
   "outputs": [
    {
     "name": "stdout",
     "output_type": "stream",
     "text": [
      "+-----+--------+------+--------+------+--------+--------+----------+-------------------------------------------------------+\n",
      "|medhv|totbdrms|pop   |houshlds|medinc|rmsperhh|popperhh|bdrmsperrm|features                                               |\n",
      "+-----+--------+------+--------+------+--------+--------+----------+-------------------------------------------------------+\n",
      "|4.526|129.0   |322.0 |126.0   |8.3252|6.98    |2.56    |0.15      |[129.0,322.0,126.0,8.325200080871582,6.98,2.56,0.15]   |\n",
      "|3.585|1106.0  |2401.0|1138.0  |8.3014|6.24    |2.11    |0.16      |[1106.0,2401.0,1138.0,8.301400184631348,6.24,2.11,0.16]|\n",
      "|3.521|190.0   |496.0 |177.0   |7.2574|8.29    |2.8     |0.13      |[190.0,496.0,177.0,7.257400035858154,8.29,2.8,0.13]    |\n",
      "|3.413|235.0   |558.0 |219.0   |5.6431|5.82    |2.55    |0.18      |[235.0,558.0,219.0,5.643099784851074,5.82,2.55,0.18]   |\n",
      "|3.422|280.0   |565.0 |259.0   |3.8462|6.28    |2.18    |0.17      |[280.0,565.0,259.0,3.8461999893188477,6.28,2.18,0.17]  |\n",
      "+-----+--------+------+--------+------+--------+--------+----------+-------------------------------------------------------+\n",
      "only showing top 5 rows\n",
      "\n"
     ]
    }
   ],
   "source": [
    "assembled_df.show(5, truncate = False)"
   ]
  },
  {
   "cell_type": "markdown",
   "id": "a460c0a0-c9ee-45d8-b8ed-16e1dafd82ef",
   "metadata": {},
   "source": [
    "คุณลักษณะทั้งหมดถูกแปลงเป็นเวกเตอร์หนาแน่น (Dense Vector) แล้ว"
   ]
  },
  {
   "cell_type": "markdown",
   "id": "666fd37e-07d5-409b-9b0a-0772253f691c",
   "metadata": {},
   "source": [
    "### 6.2 Standardization"
   ]
  },
  {
   "cell_type": "markdown",
   "id": "f47b6408-31ed-4a54-b21a-3e07b68fa1f0",
   "metadata": {},
   "source": [
    "ต่อไปเราสามารถปรับขนาดข้อมูลโดยใช้ `StandardScaler` ได้ สุดท้ายแล้ว คอลัมน์ input คือ features และคอลัมน์ output ที่จะเปลี่ยนขนาดที่จะถูกนำเข้าใน scaled_df จะถูกตั้งชื่อว่า \"features_scaled\""
   ]
  },
  {
   "cell_type": "code",
   "execution_count": 32,
   "id": "71e037f5-fa94-41e0-9ee6-75bd86415ac8",
   "metadata": {},
   "outputs": [],
   "source": [
    "# Initialize the `standardScaler`\n",
    "standardScaler = StandardScaler(inputCol = 'features', outputCol = 'features_scaled')"
   ]
  },
  {
   "cell_type": "code",
   "execution_count": 33,
   "id": "37e58962-e1a5-41d0-9123-15aac839cbad",
   "metadata": {},
   "outputs": [],
   "source": [
    "# Fit the DataFrame to the scaler\n",
    "scaled_df = standardScaler.fit(assembled_df).transform(assembled_df)"
   ]
  },
  {
   "cell_type": "code",
   "execution_count": 34,
   "id": "008129db-eada-49e2-bf56-04c7ef6f8289",
   "metadata": {},
   "outputs": [
    {
     "name": "stdout",
     "output_type": "stream",
     "text": [
      "+-------------------------------------------------------+--------------------------------------------------------------------------------------------------------------------------------------+\n",
      "|features                                               |features_scaled                                                                                                                       |\n",
      "+-------------------------------------------------------+--------------------------------------------------------------------------------------------------------------------------------------+\n",
      "|[129.0,322.0,126.0,8.325200080871582,6.98,2.56,0.15]   |[0.30623297630686513,0.2843362208866199,0.3295584480852433,4.38209543579743,2.8211223886115664,0.24648542140099877,2.5828740130262697]|\n",
      "|[1106.0,2401.0,1138.0,8.301400184631348,6.24,2.11,0.16]|[2.6255323394991694,2.1201592122632746,2.9764882057222772,4.36956799913841,2.522034914747303,0.20315790592035446,2.755065613894688]   |\n",
      "|[190.0,496.0,177.0,7.257400035858154,8.29,2.8,0.13]    |[0.451040817816313,0.4379837439744208,0.4629511532626037,3.820042673324032,3.3505880518037077,0.2695934296573424,2.238490811289434]   |\n",
      "|[235.0,558.0,219.0,5.643099784851074,5.82,2.55,0.18]   |[0.557866274667545,0.4927317119712234,0.5728039692910182,2.970331231769803,2.3522825647162344,0.2455225877236511,3.099448815631524]   |\n",
      "|[280.0,565.0,259.0,3.8461999893188477,6.28,2.18,0.17]  |[0.664691731518777,0.4989129341644108,0.6774256988418891,2.024505748166202,2.538201805226452,0.20989774166178804,2.9272572147631064]  |\n",
      "+-------------------------------------------------------+--------------------------------------------------------------------------------------------------------------------------------------+\n",
      "only showing top 5 rows\n",
      "\n"
     ]
    }
   ],
   "source": [
    "# Inspect the result\n",
    "scaled_df.select('features', 'features_scaled').show(5, truncate = False)"
   ]
  },
  {
   "cell_type": "markdown",
   "id": "8dcbc968-c453-4065-b974-986397aecd30",
   "metadata": {
    "jp-MarkdownHeadingCollapsed": true,
    "tags": []
   },
   "source": [
    "**[Back to Table of Contents](#10)**\n",
    "\n",
    "***"
   ]
  },
  {
   "cell_type": "markdown",
   "id": "352bb990-cbe7-4c57-9358-80dcd19bad07",
   "metadata": {},
   "source": [
    "<a id=\"7\"></a>\n",
    "## 7. Building A Machine Learning Model With Spark ML"
   ]
  },
  {
   "cell_type": "code",
   "execution_count": 35,
   "id": "e857c154-6977-4b3e-90f0-52b0b79e8b39",
   "metadata": {},
   "outputs": [],
   "source": [
    "# Split the data into train and test sets\n",
    "train_data, test_data = scaled_df.randomSplit([0.8, 0.2], seed = rnd_seed)"
   ]
  },
  {
   "cell_type": "code",
   "execution_count": 36,
   "id": "bf29364c-910e-430a-b718-ca82fde296fa",
   "metadata": {},
   "outputs": [
    {
     "data": {
      "text/plain": [
       "['medhv',\n",
       " 'totbdrms',\n",
       " 'pop',\n",
       " 'houshlds',\n",
       " 'medinc',\n",
       " 'rmsperhh',\n",
       " 'popperhh',\n",
       " 'bdrmsperrm',\n",
       " 'features',\n",
       " 'features_scaled']"
      ]
     },
     "execution_count": 36,
     "metadata": {},
     "output_type": "execute_result"
    }
   ],
   "source": [
    "train_data.columns"
   ]
  },
  {
   "cell_type": "code",
   "execution_count": 37,
   "id": "e1b4fb8e-ab46-4e8f-bf27-1ea50ef912f5",
   "metadata": {},
   "outputs": [
    {
     "name": "stdout",
     "output_type": "stream",
     "text": [
      "Row of Train Data: 16499\n"
     ]
    }
   ],
   "source": [
    "print(f'Row of Train Data: {train_data.count()}')"
   ]
  },
  {
   "cell_type": "code",
   "execution_count": 38,
   "id": "965c7383-bf61-48de-b38e-ee8bc13e6167",
   "metadata": {},
   "outputs": [
    {
     "name": "stdout",
     "output_type": "stream",
     "text": [
      "Row of Test Data: 4141\n"
     ]
    }
   ],
   "source": [
    "print(f'Row of Test Data: {test_data.count()}')"
   ]
  },
  {
   "cell_type": "code",
   "execution_count": 39,
   "id": "5e24709c-f4db-4515-9966-5cb31582459f",
   "metadata": {},
   "outputs": [],
   "source": [
    "# Initialize `lr`\n",
    "lr = LinearRegression(featuresCol = 'features_scaled', \n",
    "                      labelCol = 'medhv', \n",
    "                      predictionCol = 'predmedhv', \n",
    "                      maxIter = 10, \n",
    "                      regParam = 0.3, \n",
    "                      elasticNetParam = 0.8, \n",
    "                      standardization = False)"
   ]
  },
  {
   "cell_type": "code",
   "execution_count": 40,
   "id": "5ef81fe5-02e5-4a15-a8d0-575f889bf75b",
   "metadata": {},
   "outputs": [],
   "source": [
    "# Fit the data to the model\n",
    "linearModel = lr.fit(train_data)"
   ]
  },
  {
   "cell_type": "markdown",
   "id": "ade04dbb-0dd5-4741-949c-d415d5dd00b8",
   "metadata": {
    "jp-MarkdownHeadingCollapsed": true,
    "tags": []
   },
   "source": [
    "**[Back to Table of Contents](#10)**\n",
    "\n",
    "***"
   ]
  },
  {
   "cell_type": "markdown",
   "id": "fe238309-6d41-4c27-afd5-cc827eef4b09",
   "metadata": {},
   "source": [
    "<a id=\"8\"></a>\n",
    "## 8. Evaluating the Model"
   ]
  },
  {
   "cell_type": "markdown",
   "id": "2f2148cc-0661-4448-8621-a0c13bf1deb2",
   "metadata": {},
   "source": [
    "### 8.1 Inspect the Model Co-efficients"
   ]
  },
  {
   "cell_type": "code",
   "execution_count": 41,
   "id": "ee9c0196-c1b4-42a3-8d0e-02e913d0c053",
   "metadata": {},
   "outputs": [
    {
     "data": {
      "text/plain": [
       "DenseVector([0.0, 0.0, 0.0, 0.5262, 0.0, 0.0, 0.0])"
      ]
     },
     "execution_count": 41,
     "metadata": {},
     "output_type": "execute_result"
    }
   ],
   "source": [
    "# Coefficients for the model\n",
    "linearModel.coefficients"
   ]
  },
  {
   "cell_type": "code",
   "execution_count": 42,
   "id": "bfbf116a-90b7-498e-959b-e895e1d980db",
   "metadata": {},
   "outputs": [
    {
     "data": {
      "text/plain": [
       "['totbdrms', 'pop', 'houshlds', 'medinc', 'rmsperhh', 'popperhh', 'bdrmsperrm']"
      ]
     },
     "execution_count": 42,
     "metadata": {},
     "output_type": "execute_result"
    }
   ],
   "source": [
    "featureCols"
   ]
  },
  {
   "cell_type": "code",
   "execution_count": 43,
   "id": "b98b2c9b-523f-4082-901d-586f1b6c7d05",
   "metadata": {},
   "outputs": [
    {
     "data": {
      "text/plain": [
       "1.001383351659608"
      ]
     },
     "execution_count": 43,
     "metadata": {},
     "output_type": "execute_result"
    }
   ],
   "source": [
    "# Intercept for the model\n",
    "linearModel.intercept"
   ]
  },
  {
   "cell_type": "code",
   "execution_count": 44,
   "id": "065fd9a0-d9ae-41c6-ad46-aa6bd4a68843",
   "metadata": {},
   "outputs": [],
   "source": [
    "coeff_df = pd.DataFrame({'Feature' : ['Intercept'] + featureCols, \n",
    "                         'Co-efficients' : np.insert(linearModel.coefficients.toArray(), 0, linearModel.intercept)})\n",
    "coeff_df = coeff_df[['Feature', 'Co-efficients']]"
   ]
  },
  {
   "cell_type": "code",
   "execution_count": 45,
   "id": "a5cc12be-e072-47e3-a799-41534e3eae02",
   "metadata": {},
   "outputs": [
    {
     "data": {
      "text/html": [
       "<div>\n",
       "<style scoped>\n",
       "    .dataframe tbody tr th:only-of-type {\n",
       "        vertical-align: middle;\n",
       "    }\n",
       "\n",
       "    .dataframe tbody tr th {\n",
       "        vertical-align: top;\n",
       "    }\n",
       "\n",
       "    .dataframe thead th {\n",
       "        text-align: right;\n",
       "    }\n",
       "</style>\n",
       "<table border=\"1\" class=\"dataframe\">\n",
       "  <thead>\n",
       "    <tr style=\"text-align: right;\">\n",
       "      <th></th>\n",
       "      <th>Feature</th>\n",
       "      <th>Co-efficients</th>\n",
       "    </tr>\n",
       "  </thead>\n",
       "  <tbody>\n",
       "    <tr>\n",
       "      <th>0</th>\n",
       "      <td>Intercept</td>\n",
       "      <td>1.001383</td>\n",
       "    </tr>\n",
       "    <tr>\n",
       "      <th>1</th>\n",
       "      <td>totbdrms</td>\n",
       "      <td>0.000000</td>\n",
       "    </tr>\n",
       "    <tr>\n",
       "      <th>2</th>\n",
       "      <td>pop</td>\n",
       "      <td>0.000000</td>\n",
       "    </tr>\n",
       "    <tr>\n",
       "      <th>3</th>\n",
       "      <td>houshlds</td>\n",
       "      <td>0.000000</td>\n",
       "    </tr>\n",
       "    <tr>\n",
       "      <th>4</th>\n",
       "      <td>medinc</td>\n",
       "      <td>0.526157</td>\n",
       "    </tr>\n",
       "    <tr>\n",
       "      <th>5</th>\n",
       "      <td>rmsperhh</td>\n",
       "      <td>0.000000</td>\n",
       "    </tr>\n",
       "    <tr>\n",
       "      <th>6</th>\n",
       "      <td>popperhh</td>\n",
       "      <td>0.000000</td>\n",
       "    </tr>\n",
       "    <tr>\n",
       "      <th>7</th>\n",
       "      <td>bdrmsperrm</td>\n",
       "      <td>0.000000</td>\n",
       "    </tr>\n",
       "  </tbody>\n",
       "</table>\n",
       "</div>"
      ],
      "text/plain": [
       "      Feature  Co-efficients\n",
       "0   Intercept       1.001383\n",
       "1    totbdrms       0.000000\n",
       "2         pop       0.000000\n",
       "3    houshlds       0.000000\n",
       "4      medinc       0.526157\n",
       "5    rmsperhh       0.000000\n",
       "6    popperhh       0.000000\n",
       "7  bdrmsperrm       0.000000"
      ]
     },
     "execution_count": 45,
     "metadata": {},
     "output_type": "execute_result"
    }
   ],
   "source": [
    "coeff_df"
   ]
  },
  {
   "cell_type": "markdown",
   "id": "303562c6-a3f9-4292-bc56-3dee521c7a8d",
   "metadata": {},
   "source": [
    "### 8.2 Generating Predictions"
   ]
  },
  {
   "cell_type": "code",
   "execution_count": 46,
   "id": "bfca7826-0ded-4a0e-9efa-847a0a77db2f",
   "metadata": {},
   "outputs": [],
   "source": [
    "# Generate predictions\n",
    "predictions = linearModel.transform(test_data)"
   ]
  },
  {
   "cell_type": "code",
   "execution_count": 47,
   "id": "f1ed0235-36a1-4872-9b81-be9cc08ee027",
   "metadata": {},
   "outputs": [],
   "source": [
    "# Extract the predictions and the \"known\" correct labels\n",
    "predandlabels = predictions.select('predmedhv', 'medhv')"
   ]
  },
  {
   "cell_type": "code",
   "execution_count": 48,
   "id": "0a550401-6e05-4ccd-987f-b2ed6f125fbf",
   "metadata": {},
   "outputs": [
    {
     "name": "stdout",
     "output_type": "stream",
     "text": [
      "+------------------+-------+\n",
      "|         predmedhv|  medhv|\n",
      "+------------------+-------+\n",
      "|1.1498290146733698|0.14999|\n",
      "| 1.303758290180578|  0.225|\n",
      "|1.7529725743151858|  0.225|\n",
      "|1.6094289295308721|  0.269|\n",
      "|1.5956645319495766|  0.344|\n",
      "|1.2917940087238424|  0.367|\n",
      "|1.8668547795751218|  0.375|\n",
      "|1.3694233397856368|  0.394|\n",
      "| 1.530553343912004|  0.398|\n",
      "|1.5715143715849273|  0.409|\n",
      "|1.3261913014043996|  0.417|\n",
      "|1.2299232046905868|  0.425|\n",
      "| 1.484164070093314|  0.425|\n",
      "|1.3510338217435216|   0.43|\n",
      "|1.2619110212709583|  0.436|\n",
      "|1.3350814464678742|   0.44|\n",
      "|1.4832778453641753|   0.44|\n",
      "|1.4337313361080326|  0.444|\n",
      "|1.3691187093204964|  0.445|\n",
      "|1.4752185586821598|  0.446|\n",
      "+------------------+-------+\n",
      "only showing top 20 rows\n",
      "\n"
     ]
    }
   ],
   "source": [
    "predandlabels.show()"
   ]
  },
  {
   "cell_type": "markdown",
   "id": "5440dec5-ac44-4178-8b15-f441fcfb40e9",
   "metadata": {},
   "source": [
    "### 8.3 Inspect the Metrics"
   ]
  },
  {
   "cell_type": "code",
   "execution_count": 49,
   "id": "1093fc48-55ee-42d6-9f4f-a049ec922003",
   "metadata": {},
   "outputs": [
    {
     "name": "stdout",
     "output_type": "stream",
     "text": [
      "RMSE: 0.881985204526886\n"
     ]
    }
   ],
   "source": [
    "# Get the RMSE\n",
    "print(f'RMSE: {linearModel.summary.rootMeanSquaredError}')"
   ]
  },
  {
   "cell_type": "code",
   "execution_count": 50,
   "id": "7fb1b975-8d68-401a-a772-9232e03014e0",
   "metadata": {},
   "outputs": [
    {
     "name": "stdout",
     "output_type": "stream",
     "text": [
      "MAE: 0.678289531991799\n"
     ]
    }
   ],
   "source": [
    "# Get the MAE\n",
    "print(f'MAE: {linearModel.summary.meanAbsoluteError}')"
   ]
  },
  {
   "cell_type": "code",
   "execution_count": 51,
   "id": "d81b3c97-3230-44d9-99fe-1baccd49b9cc",
   "metadata": {},
   "outputs": [
    {
     "name": "stdout",
     "output_type": "stream",
     "text": [
      "R2: 0.4180854895364574\n"
     ]
    }
   ],
   "source": [
    "# Get the R2\n",
    "print(f'R2: {linearModel.summary.r2}')"
   ]
  },
  {
   "cell_type": "markdown",
   "id": "5cebb331-a099-4cee-91c8-7bdecb901f81",
   "metadata": {},
   "source": [
    "*สรุป*  \n",
    "\n",
    "***RMSE***  \n",
    "\n",
    "    - ค่า RMSE (Root Mean Square Error) ใช้วัดความคลาดเคลื่อนระหว่างสองชุดข้อมูล โดยเปรียบเทียบค่าคาดการณ์กับค่าสังเกต ค่า RMSE ที่น้อย แสดงถึงความใกล้เคียงของค่าคาดการณ์และค่าสังเกตมีความใกล้เคียงกัน\n",
    "    "
   ]
  },
  {
   "cell_type": "markdown",
   "id": "06999bda-52b2-48cb-8229-3b3a6460e3fd",
   "metadata": {},
   "source": [
    "***R-Squared***\n",
    "\n",
    "นิยามของค่า R-Squared คือ ค่าความผันแปรของตัวแปรตอบสนองที่สามารถอธิบายได้มีอยู่ในตัวแบบเชิงเส้นนี้ กี่เปอร์เซ็นต์ หรือ  \n",
    "\n",
    "R-Squared = ความผันแปรที่สามารถอธิบายได้ / ความผันแปรทั้งหมด (Explained variation / Total Variation)\n",
    "\n",
    "ค่า R-Squared จะมีค่าอยู่ระหว่าง  0%  - 100% (หรือ 0 ถึง 1 ในกรณีนี้)\n",
    "\n",
    "    - 0% แสดงให้เห็นว่า ตัวแบบคณิตศาสาตร์ที่ได้มานั้นไม่สามารถอธิบายความผันแปรของค่าตัวแปรตอบสนอง ต่างที่กระจายรอบค่าเฉลี่ยได้เลย\n",
    "    - 100% แสดงให้เห็นว่า ตัวแบบคณิตศาสาตร์ที่ได้มานั้นสามารถอธิบายความผันแปรของค่าตัวแปรตอบสนอง ต่างที่กระจายรอบค่าเฉลี่ยได้เป็นอย่างดี\n",
    "\n",
    "โดยทั่วไปแล้ว ค่า R-Squared สูงๆ หมายความว่า ตัวแบบคณิตศาสตร์นั้นดี (เหมาะสมกับข้อมูล) แต่อย่างไรก็ตาม ยังมีเงื่อนไขบางอย่างที่ต้องมีพร้อมกับค่า R-Squared สูงๆนี้ด้วย"
   ]
  },
  {
   "cell_type": "markdown",
   "id": "0274e3dd-55c4-467d-b7f0-e92bff16f84b",
   "metadata": {},
   "source": [
    "#### Using the RegressionEvaluator from pyspark.ml package:"
   ]
  },
  {
   "cell_type": "code",
   "execution_count": 52,
   "id": "4eaca9cc-bae3-4a77-a29b-71f43c94798e",
   "metadata": {},
   "outputs": [
    {
     "name": "stdout",
     "output_type": "stream",
     "text": [
      "RMSE: 0.8677342923034236\n"
     ]
    }
   ],
   "source": [
    "evaluator = RegressionEvaluator(predictionCol = 'predmedhv', labelCol = 'medhv', metricName = 'rmse')\n",
    "print(f'RMSE: {evaluator.evaluate(predandlabels)}')"
   ]
  },
  {
   "cell_type": "code",
   "execution_count": 53,
   "id": "8def78c2-8eee-41f9-b2b3-33adaa4db5b1",
   "metadata": {},
   "outputs": [
    {
     "name": "stdout",
     "output_type": "stream",
     "text": [
      "MAE: 0.673609774576463\n"
     ]
    }
   ],
   "source": [
    "evaluator = RegressionEvaluator(predictionCol = 'predmedhv', labelCol = 'medhv', metricName = 'mae')\n",
    "print(f'MAE: {evaluator.evaluate(predandlabels)}')"
   ]
  },
  {
   "cell_type": "code",
   "execution_count": 54,
   "id": "8b46a7a7-dc55-4fab-b5b2-535af9c6d432",
   "metadata": {},
   "outputs": [
    {
     "name": "stdout",
     "output_type": "stream",
     "text": [
      "R2: 0.42517112885139363\n"
     ]
    }
   ],
   "source": [
    "evaluator = RegressionEvaluator(predictionCol = 'predmedhv', labelCol = 'medhv', metricName = 'r2')\n",
    "print(f'R2: {evaluator.evaluate(predandlabels)}')"
   ]
  },
  {
   "cell_type": "code",
   "execution_count": 55,
   "id": "f60151ea-9e89-47c3-9684-3fee648036f9",
   "metadata": {},
   "outputs": [],
   "source": [
    "spark.stop()"
   ]
  },
  {
   "cell_type": "markdown",
   "id": "e8163ed5-6619-4e89-8232-a3530ff3abc1",
   "metadata": {
    "jp-MarkdownHeadingCollapsed": true,
    "tags": []
   },
   "source": [
    "**[Back to Table of Contents](#10)**\n",
    "\n",
    "***"
   ]
  },
  {
   "cell_type": "markdown",
   "id": "63cba9f2-d82c-4c93-98cc-5c9bbaf865ff",
   "metadata": {},
   "source": [
    "<a id=\"9\"></a>\n",
    "## 9. Reference"
   ]
  },
  {
   "cell_type": "markdown",
   "id": "1f903e7d-3d5b-45ae-8928-86667bb773f5",
   "metadata": {},
   "source": [
    "kaggle & guideline  \n",
    "- https://www.kaggle.com/code/fatmakursun/pyspark-ml-tutorial-for-beginners/notebook\n",
    "\n",
    "- https://blog.datath.com/cheatsheet-pyspark/\n",
    "\n",
    "- https://medium.com/super-ai-engineer/%E0%B9%80%E0%B8%97%E0%B8%84%E0%B8%99%E0%B8%B4%E0%B8%84%E0%B8%81%E0%B8%B2%E0%B8%A3%E0%B9%83%E0%B8%8A%E0%B9%89-pyspark-%E0%B8%81%E0%B8%B1%E0%B8%9A-big-data-4e2c17d081b4\n",
    "\n",
    "R2\n",
    "- https://www.tpa.or.th/writer/read_this_book_topic.php?bookID=3086&read=true"
   ]
  },
  {
   "cell_type": "markdown",
   "id": "6cd2b3a6-6139-4b65-b5d8-be998857da6d",
   "metadata": {
    "jp-MarkdownHeadingCollapsed": true,
    "tags": []
   },
   "source": [
    "**[Back to Table of Contents](#10)**\n",
    "\n",
    "***"
   ]
  },
  {
   "cell_type": "code",
   "execution_count": null,
   "id": "f3af67b8-0d6d-4654-87cd-7f1137cca0c1",
   "metadata": {},
   "outputs": [],
   "source": []
  }
 ],
 "metadata": {
  "kernelspec": {
   "display_name": "Python 3 (ipykernel)",
   "language": "python",
   "name": "python3"
  },
  "language_info": {
   "codemirror_mode": {
    "name": "ipython",
    "version": 3
   },
   "file_extension": ".py",
   "mimetype": "text/x-python",
   "name": "python",
   "nbconvert_exporter": "python",
   "pygments_lexer": "ipython3",
   "version": "3.9.16"
  }
 },
 "nbformat": 4,
 "nbformat_minor": 5
}
